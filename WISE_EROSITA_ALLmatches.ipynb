{
 "cells": [
  {
   "cell_type": "code",
   "execution_count": 1,
   "metadata": {},
   "outputs": [
    {
     "name": "stdout",
     "output_type": "stream",
     "text": [
      "/Users/cassiemetzger/opt/anaconda3/bin:/Library/TeX/texbin:/Users/cassiemetzger/.gem/ruby/3.1.3/bin:/Users/cassiemetzger/.rubies/ruby-3.1.3/lib/ruby/gems/3.1.0/bin:/Users/cassiemetzger/.rubies/ruby-3.1.3/bin:/Users/cassiemetzger/opt/anaconda3/bin:/Users/cassiemetzger/opt/anaconda3/condabin:/opt/local/bin:/opt/local/sbin:/opt/homebrew/bin:/opt/homebrew/sbin:/usr/local/bin:/System/Cryptexes/App/usr/bin:/usr/bin:/bin:/usr/sbin:/sbin:/Library/TeX/texbin:/opt/X11/bin:/Library/Apple/usr/bin\n",
      "/Library/TeX/texbin:/Users/cassiemetzger/opt/anaconda3/bin:/Library/TeX/texbin:/Users/cassiemetzger/.gem/ruby/3.1.3/bin:/Users/cassiemetzger/.rubies/ruby-3.1.3/lib/ruby/gems/3.1.0/bin:/Users/cassiemetzger/.rubies/ruby-3.1.3/bin:/Users/cassiemetzger/opt/anaconda3/bin:/Users/cassiemetzger/opt/anaconda3/condabin:/opt/local/bin:/opt/local/sbin:/opt/homebrew/bin:/opt/homebrew/sbin:/usr/local/bin:/System/Cryptexes/App/usr/bin:/usr/bin:/bin:/usr/sbin:/sbin:/Library/TeX/texbin:/opt/X11/bin:/Library/Apple/usr/bin\n"
     ]
    }
   ],
   "source": [
    "import numpy as np\n",
    "import matplotlib.pyplot as plt\n",
    "import astropy \n",
    "from astropy.io import fits\n",
    "from astropy.table import Table, Column, vstack, MaskedColumn, QTable\n",
    "from astropy import units as u\n",
    "from astropy.coordinates import SkyCoord\n",
    "from astropy.coordinates import match_coordinates_sky\n",
    "from astropy.io import ascii\n",
    "import os\n",
    "import seaborn as sns\n",
    "print(os.environ['PATH'])\n",
    "os.environ['PATH'] = '/Library/TeX/texbin:' + os.environ['PATH']\n",
    "print(os.environ['PATH'])\n",
    "plt.rcParams['mathtext.fontset'] = 'stix'\n",
    "plt.rcParams['font.family'] = 'serif'\n",
    "plt.rcParams['font.size'] = 11\n",
    "color_palette = sns.color_palette([\"#000000\", \"#849324\", \"#FFB30F\", \"#D62828\", \"#6EA2D2\"])"
   ]
  },
  {
   "cell_type": "code",
   "execution_count": 3,
   "metadata": {},
   "outputs": [],
   "source": [
    "#input ALLWISE data (Cutri et al. 2013) AFTER it has been fed through wise_filter.sh \n",
    "hdu_list = fits.open('./catalogs/IR/wise.fits')\n",
    "wise = Table(hdu_list[1].data)\n",
    "hdu_list.close()"
   ]
  },
  {
   "cell_type": "code",
   "execution_count": 4,
   "metadata": {},
   "outputs": [],
   "source": [
    "#input eRASS1_Main data (Merloni et al. 2024)\n",
    "hdu_list = fits.open('./catalogs/xray/eRASS1_Main.v1.1.fits')\n",
    "erass1 = Table(hdu_list[1].data)\n",
    "hdu_list.close()"
   ]
  },
  {
   "cell_type": "code",
   "execution_count": 5,
   "metadata": {},
   "outputs": [],
   "source": [
    "c = SkyCoord(ra = wise['ra']*u.degree, dec = wise['dec']*u.degree, frame = 'icrs')\n",
    "catalog = SkyCoord(ra = erass1['RA']*u.degree, dec = erass1['DEC']*u.degree, frame = 'icrs')\n",
    "idx, d2d, d3d = match_coordinates_sky(c, catalog)\n",
    "m = d2d.arcsec <= 5 \n",
    "wise['erass idx'] = idx \n",
    "matches = wise[m]"
   ]
  },
  {
   "cell_type": "code",
   "execution_count": 6,
   "metadata": {},
   "outputs": [],
   "source": [
    "#assumes RA, DEC coords are given in degrees and radius is given in arcseconds\n",
    "def matching(catalog1, RA1, DEC1, catalog2, RA2, DEC2, radius, matching_Name): \n",
    "    c = SkyCoord(ra = RA1*u.degree, dec = DEC1*u.degree, frame = 'fk5')\n",
    "    catalog = SkyCoord(ra = RA2*u.degree, dec = DEC2*u.degree, frame = 'fk5')\n",
    "    idx, d2d, d3d = c.match_to_catalog_sky(catalog)\n",
    "    mask = d2d.arcsec <= radius\n",
    "    matches = catalog1[mask]\n",
    "    matches[f'{matching_Name} idx'] = idx[mask]\n",
    "    matches[f'{matching_Name} sep'] = d2d.arcsec[mask]\n",
    "    leng = len(matches)\n",
    "    print(f'{leng} {matching_Name} matches found')\n",
    "    print('Checking for duplicates...')\n",
    "    numbers= matches[f'{matching_Name} idx']\n",
    "    unique, counts = np.unique(numbers, return_counts=True)\n",
    "    duplicates = unique[counts > 1] \n",
    "    print(f\"Duplicates found: {len(duplicates)}\")\n",
    "    if(len(duplicates > 0)): \n",
    "        print(f\"Removing duplicates...\")\n",
    "        mask = np.array([False if i in duplicates else True for i in matches[f'{matching_Name} idx']])\n",
    "        for val in duplicates: \n",
    "            idx = np.where(matches[f'{matching_Name} idx'] == val)[0]\n",
    "            dis1 = matches[f'{matching_Name} sep'][idx[0]]\n",
    "            dis2 = matches[f'{matching_Name} sep'][idx[1]]\n",
    "            if(dis1 < dis2): \n",
    "                mask[idx[0]] = True\n",
    "                mask[idx[1]] = False\n",
    "            if(dis2 < dis1): \n",
    "                mask[idx[0]] = False\n",
    "                mask[idx[1]] = True\n",
    "            if(dis1 == dis2): \n",
    "                mask[idx[0]] = False\n",
    "                mask[idx[1]] = True\n",
    "        matches = matches[mask]\n",
    "        print(f\"Removed {leng- len(matches)} duplicates \\n {len(matches)} {matching_Name} matches found\")\n",
    "    return matches"
   ]
  },
  {
   "cell_type": "code",
   "execution_count": 7,
   "metadata": {},
   "outputs": [
    {
     "name": "stdout",
     "output_type": "stream",
     "text": [
      "5634 WISE matches found\n",
      "Checking for duplicates...\n",
      "Duplicates found: 152\n",
      "Removing duplicates...\n",
      "Removed 152 duplicates \n",
      " 5482 WISE matches found\n"
     ]
    }
   ],
   "source": [
    "matches = matching(wise, wise['ra'], wise['dec'], erass1, erass1['RA'], erass1['DEC'], 5, 'WISE')"
   ]
  },
  {
   "cell_type": "code",
   "execution_count": 8,
   "metadata": {},
   "outputs": [],
   "source": [
    "def get_wise_flux(catalog): \n",
    "    sol = 2.997925E14 # variable sol; c in microns/s\n",
    "    w1=sol/3.368\n",
    "    w2=sol/4.618\n",
    "    w3=sol/12.082\n",
    "\n",
    "    fc_w1=0.9921\n",
    "    fc_w2=0.9943\n",
    "    fc_w3=0.9373\n",
    "\n",
    "    F_w1 = 306.682 #Jy\n",
    "    F_w2 = 170.663 #Jy\n",
    "    F_w3 = 29.045 #Jy\n",
    "\n",
    "    flux_w1 = F_w1/fc_w1*10**(-catalog['w1mpro']/2.5)\n",
    "    flux_w2 = F_w2/fc_w2*10**(-catalog['w2mpro']/2.5)\n",
    "    flux_w3 = F_w3/fc_w3*10**(-catalog['w3mpro']/2.5)\n",
    "\n",
    "    #errors \n",
    "    w1errh = catalog['w1mpro'] - catalog['w1sigmpro']\n",
    "    w2errh = catalog['w2mpro'] - catalog['w2sigmpro']\n",
    "    w3errh = catalog['w3mpro'] - catalog['w3sigmpro']\n",
    "\n",
    "    w1errl = catalog['w1mpro'] + catalog['w1sigmpro']\n",
    "    w2errl = catalog['w2mpro'] + catalog['w2sigmpro']\n",
    "    w3errl = catalog['w3mpro'] + catalog['w3sigmpro']\n",
    "\n",
    "    #relative errors in Jy \n",
    "\n",
    "    err_w1_h = F_w1/fc_w1*10**(-w1errh/2.5)-flux_w1\n",
    "    err_w2_h = F_w2/fc_w2*10**(-w2errh/2.5)-flux_w2\n",
    "    err_w3_h = F_w3/fc_w3*10**(-w3errh/2.5)-flux_w3\n",
    "\n",
    "    err_w1_l = F_w1/fc_w1*10**(-w1errl/2.5)-flux_w1\n",
    "    err_w2_l = F_w2/fc_w2*10**(-w2errl/2.5)-flux_w2\n",
    "    err_w3_l = F_w3/fc_w3*10**(-w3errl/2.5)-flux_w3\n",
    "\n",
    "    err_w1 = 0.5*(np.abs(err_w1_h)+ np.abs(err_w1_l))\n",
    "    err_w2 = 0.5*(np.abs(err_w2_h)+np.abs(err_w2_l))\n",
    "    err_w3 = 0.5*(np.abs(err_w3_h)+np.abs(err_w3_l))\n",
    "\n",
    "    flux = [flux_w1,flux_w2,flux_w3]\n",
    "    err = [err_w1, err_w2, err_w3]\n",
    "    catalog['w1flux'] = flux_w1 \n",
    "    catalog['w2flux'] = flux_w2 \n",
    "    catalog['w3flux'] = flux_w3\n",
    "    catalog['w1sigflux'] = err_w1\n",
    "    catalog['w2sigflux'] = err_w2\n",
    "    catalog['w3sigflux'] = err_w3\n",
    "    return catalog\n"
   ]
  },
  {
   "cell_type": "code",
   "execution_count": 9,
   "metadata": {},
   "outputs": [],
   "source": [
    "matches = get_wise_flux(matches)"
   ]
  },
  {
   "cell_type": "code",
   "execution_count": 10,
   "metadata": {},
   "outputs": [],
   "source": [
    "matches['ML_FLUX_1'] = erass1['ML_FLUX_1'][matches['erass idx']]"
   ]
  },
  {
   "cell_type": "code",
   "execution_count": 11,
   "metadata": {},
   "outputs": [],
   "source": [
    "#choosing erosita 0.2-2.3 keV energy band, Eband = 1 keV \n",
    "e_energy = 1.6022e-16 #J \n",
    "h = 6.626e-34 #Js\n",
    "e_v1 = e_energy/h\n",
    "w_v = 3E8/3.4E-6\n"
   ]
  },
  {
   "cell_type": "code",
   "execution_count": 12,
   "metadata": {},
   "outputs": [],
   "source": [
    "matches['ML_FLUX_1_JY'] = 1E+23 * matches['ML_FLUX_1'] * 1/(e_v1)\n",
    "matches['Alpha IRX'] = -np.log10(matches['w1flux']/matches['ML_FLUX_1_JY'])/np.log10(w_v/e_v1)"
   ]
  },
  {
   "cell_type": "code",
   "execution_count": 13,
   "metadata": {},
   "outputs": [],
   "source": [
    "matches['EXT_LIKE'] = erass1['EXT_LIKE'][matches['erass idx']]"
   ]
  },
  {
   "cell_type": "code",
   "execution_count": 14,
   "metadata": {},
   "outputs": [],
   "source": [
    "x = matches['w2mpro'] - matches['w3mpro']\n",
    "y = matches['w1mpro'] - matches['w2mpro']\n",
    "m = 0.83809562126163\n",
    "b = -1.045969175938493\n",
    "def distance (m,b, x,y): \n",
    "   return np.abs(m * x + b-y)/np.sqrt(m**2 + 1**2)\n",
    "matches['dist'] = distance(m,b, x,y)"
   ]
  },
  {
   "cell_type": "code",
   "execution_count": 17,
   "metadata": {},
   "outputs": [],
   "source": [
    "matches['w2-w3'] = x \n",
    "matches['w1-w2'] = y\n",
    "matches['w2-w3 ERR'] = np.sqrt(matches['w2sigmpro']**2 + matches['w3sigmpro']**2)\n",
    "matches['w1-w2 ERR'] = np.sqrt(matches['w1sigmpro']**2 + matches['w2sigmpro']**2)\n"
   ]
  },
  {
   "cell_type": "code",
   "execution_count": 19,
   "metadata": {},
   "outputs": [],
   "source": [
    "#loading in THC catalog; change path as needed\n",
    "hdu_list = fits.open('./catalogs/THC_catalog.fits')\n",
    "thc = Table(hdu_list[1].data)\n",
    "hdu_list.close()"
   ]
  },
  {
   "cell_type": "code",
   "execution_count": 20,
   "metadata": {},
   "outputs": [],
   "source": [
    "matches['THC'] = Column([''] * len(matches), dtype = 'U9')\n",
    "for i in range(len(matches)): \n",
    "    if(matches['name'][i] in thc['WISEA']): \n",
    "        idx = np.where(thc['WISEA'] == matches['name'][i])[0][0]\n",
    "        matches['THC'][i] = thc['THC'][idx]"
   ]
  },
  {
   "cell_type": "code",
   "execution_count": 23,
   "metadata": {},
   "outputs": [],
   "source": [
    "matches['1eRASS'] = [name[7:23] for name in matches['1eRASS']]"
   ]
  },
  {
   "cell_type": "code",
   "execution_count": 25,
   "metadata": {},
   "outputs": [],
   "source": [
    "#loading in TeVCAT (https://tevcat.org/) HBL catalog; change path as needed\n",
    "tevcat= ascii.read('./catalogs/other_blazar-hbl_cats/HBL_newlist.csv', format='csv')"
   ]
  },
  {
   "cell_type": "code",
   "execution_count": 26,
   "metadata": {},
   "outputs": [],
   "source": [
    "c = SkyCoord(ra = matches['ra']*u.degree, dec = matches['dec']*u.degree, frame = 'icrs')\n",
    "catalog = SkyCoord(ra = tevcat['Simbad RA deg']*u.degree, dec = tevcat['Simbad DEC deg']*u.degree, frame = 'icrs')\n",
    "idx, d2d, d3d = match_coordinates_sky(c, catalog)\n",
    "m = d2d.arcsec <= 5\n",
    "matches['TeVCAT Assoc'] = Column([''] * len(matches), dtype = 'U21')\n",
    "matches['TeVCAT Assoc'][m] = tevcat['Name'][idx[m]]\n"
   ]
  },
  {
   "cell_type": "code",
   "execution_count": 28,
   "metadata": {},
   "outputs": [],
   "source": [
    "final = Table([matches['THC'], matches['name'], matches['1eRASS'], matches['ra'], matches['dec'], matches['EXT_LIKE'], matches['w2-w3'], matches['w2-w3 ERR'], matches['w1-w2'], matches['w1-w2 ERR'], matches['dist'], matches['Alpha IRX'], matches['TeVCAT Assoc']])"
   ]
  },
  {
   "cell_type": "code",
   "execution_count": 29,
   "metadata": {},
   "outputs": [
    {
     "data": {
      "text/html": [
       "<div><i>Table length=5482</i>\n",
       "<table id=\"table140227883959872\" class=\"table-striped table-bordered table-condensed\">\n",
       "<thead><tr><th>THC</th><th>name</th><th>1eRASS</th><th>ra</th><th>dec</th><th>EXT_LIKE</th><th>w2-w3</th><th>w2-w3 ERR</th><th>w1-w2</th><th>w1-w2 ERR</th><th>dist</th><th>Alpha IRX</th><th>TeVCAT Assoc</th></tr></thead>\n",
       "<thead><tr><th>str9</th><th>str19</th><th>str16</th><th>float64</th><th>float64</th><th>float32</th><th>float64</th><th>float64</th><th>float64</th><th>float64</th><th>float64</th><th>float64</th><th>str21</th></tr></thead>\n",
       "<tr><td></td><td>J051639.13-844008.0</td><td>J051642.1-844007</td><td>79.1630516</td><td>-84.6688941</td><td>0.0</td><td>2.349</td><td>0.08509406559801923</td><td>0.3439999999999994</td><td>0.03894868418830089</td><td>0.44354247861439267</td><td>1.1527534338858887</td><td></td></tr>\n",
       "<tr><td></td><td>J185159.49-841628.2</td><td>J185158.8-841625</td><td>282.9978981</td><td>-84.2745041</td><td>0.0</td><td>2.302999999999999</td><td>0.1275774274705365</td><td>0.5470000000000006</td><td>0.04036087214122113</td><td>0.25841111316630005</td><td>1.248067313632769</td><td></td></tr>\n",
       "<tr><td></td><td>J075655.94-815653.4</td><td>J075655.2-815654</td><td>119.2330998</td><td>-81.948188</td><td>0.0</td><td>1.4100000000000001</td><td>0.11552056094046635</td><td>0.20599999999999952</td><td>0.03394112549695428</td><td>0.05384456462967376</td><td>1.4068596786153855</td><td></td></tr>\n",
       "<tr><td></td><td>J091009.53-794627.6</td><td>J091008.7-794628</td><td>137.539722</td><td>-79.7743393</td><td>0.0</td><td>1.6300000000000008</td><td>0.032015621187164243</td><td>0.14700000000000024</td><td>0.029</td><td>0.13268831150623522</td><td>1.9158074073117017</td><td></td></tr>\n",
       "<tr><td></td><td>J043124.15-793224.6</td><td>J043122.6-793225</td><td>67.8506267</td><td>-79.5401767</td><td>0.0</td><td>2.3889999999999993</td><td>0.041340053217188776</td><td>0.7829999999999995</td><td>0.0318276609256791</td><td>0.13277612562430968</td><td>1.2668721356997477</td><td></td></tr>\n",
       "<tr><td></td><td>J130722.72-773722.9</td><td>J130723.2-773724</td><td>196.8446743</td><td>-77.6230362</td><td>0.0</td><td>1.6749999999999998</td><td>0.025612496949731396</td><td>0.5739999999999998</td><td>0.03047950130825634</td><td>0.16566928323212626</td><td>2.034770985471037</td><td></td></tr>\n",
       "<tr><td></td><td>J082029.61-800325.6</td><td>J082029.0-800327</td><td>125.1233979</td><td>-80.0571241</td><td>0.0</td><td>1.8989999999999991</td><td>0.02765863337187866</td><td>0.3930000000000007</td><td>0.03114482300479487</td><td>0.1169365686566224</td><td>1.7524235326117097</td><td></td></tr>\n",
       "<tr><td></td><td>J011947.05-790356.1</td><td>J011946.5-790354</td><td>19.9460557</td><td>-79.0655836</td><td>0.0</td><td>2.2990000000000013</td><td>0.08902246907382427</td><td>0.7479999999999993</td><td>0.03324154027718933</td><td>0.10179070357924803</td><td>1.212621320694974</td><td></td></tr>\n",
       "<tr><td></td><td>J133051.33-770928.2</td><td>J133051.3-770930</td><td>202.7138944</td><td>-77.1578497</td><td>0.0</td><td>1.9540000000000006</td><td>0.11035397591387452</td><td>0.20400000000000063</td><td>0.0367967389859482</td><td>0.2971190325717619</td><td>1.3685424826353647</td><td></td></tr>\n",
       "<tr><td></td><td>J162638.15-763855.5</td><td>J162638.0-763854</td><td>246.6589646</td><td>-76.648765</td><td>0.0</td><td>2.144</td><td>0.059093146810776626</td><td>0.581999999999999</td><td>0.03394112549695428</td><td>0.12945488641901529</td><td>1.106483144911246</td><td></td></tr>\n",
       "<tr><td>...</td><td>...</td><td>...</td><td>...</td><td>...</td><td>...</td><td>...</td><td>...</td><td>...</td><td>...</td><td>...</td><td>...</td><td>...</td></tr>\n",
       "<tr><td></td><td>J090314.70+405559.9</td><td>J090314.5+405604</td><td>135.8112696</td><td>40.9333194</td><td>0.0</td><td>1.8309999999999995</td><td>0.1596558799418299</td><td>0.4430000000000014</td><td>0.038288379438153296</td><td>0.03493656415514968</td><td>1.108236882142939</td><td></td></tr>\n",
       "<tr><td></td><td>J090602.49+411628.5</td><td>J090602.5+411630</td><td>136.5103846</td><td>41.2745843</td><td>0.0</td><td>2.3369999999999997</td><td>0.09588013350011565</td><td>0.7680000000000007</td><td>0.0367967389859482</td><td>0.11087100499657357</td><td>1.1851995475109816</td><td></td></tr>\n",
       "<tr><td></td><td>J084536.26+400022.9</td><td>J084536.1+400027</td><td>131.4011246</td><td>40.0063742</td><td>0.0</td><td>1.9369999999999994</td><td>0.06835202996254025</td><td>0.22300000000000075</td><td>0.03324154027718933</td><td>0.2716372805612994</td><td>1.3770842652933382</td><td></td></tr>\n",
       "<tr><td></td><td>J084820.87+402722.7</td><td>J084820.6+402721</td><td>132.0869954</td><td>40.4563112</td><td>0.0</td><td>2.1319999999999997</td><td>0.04517742799230607</td><td>0.770999999999999</td><td>0.03189043743820395</td><td>0.023107132122344328</td><td>1.406972518374549</td><td></td></tr>\n",
       "<tr><td></td><td>J083052.61+403105.3</td><td>J083052.3+403106</td><td>127.719245</td><td>40.5181522</td><td>0.0</td><td>2.043000000000001</td><td>0.1979419106707824</td><td>0.4269999999999996</td><td>0.043416586692184816</td><td>0.183374554616734</td><td>1.2575431313795895</td><td></td></tr>\n",
       "<tr><td></td><td>J083317.80+411534.3</td><td>J083317.8+411537</td><td>128.3241992</td><td>41.2595436</td><td>0.0</td><td>1.5549999999999997</td><td>0.04875448697299562</td><td>0.054999999999999716</td><td>0.03114482300479487</td><td>0.15502405169125336</td><td>1.4934719592965262</td><td></td></tr>\n",
       "<tr><td></td><td>J082659.92+394742.6</td><td>J082700.0+394743</td><td>126.7497064</td><td>39.7951831</td><td>0.0</td><td>2.318999999999999</td><td>0.13290974381135492</td><td>0.6259999999999994</td><td>0.04186884283091664</td><td>0.20814105435488867</td><td>1.3321695351260703</td><td></td></tr>\n",
       "<tr><td></td><td>J083455.50+401314.2</td><td>J083455.6+401317</td><td>128.7312672</td><td>40.2206267</td><td>0.0</td><td>2.3919999999999995</td><td>0.1266491215919005</td><td>0.8109999999999999</td><td>0.044045431091090485</td><td>0.11324328347452782</td><td>1.1870595318939465</td><td></td></tr>\n",
       "<tr><td></td><td>J100235.69+400614.9</td><td>J100235.8+400615</td><td>150.6487238</td><td>40.1041583</td><td>0.0</td><td>2.189</td><td>0.1224826518328208</td><td>0.673</td><td>0.03894868418830089</td><td>0.08861549127933432</td><td>1.0367411329187328</td><td></td></tr>\n",
       "<tr><td></td><td>J081253.32+402711.4</td><td>J081253.6+402710</td><td>123.2221892</td><td>40.4531684</td><td>0.0</td><td>1.8609999999999989</td><td>0.21356497840235883</td><td>0.3030000000000008</td><td>0.041400483088968904</td><td>0.16150589215568661</td><td>1.1938604360418041</td><td></td></tr>\n",
       "</table></div>"
      ],
      "text/plain": [
       "<Table length=5482>\n",
       "THC          name             1eRASS      ...     Alpha IRX      TeVCAT Assoc\n",
       "str9        str19             str16       ...      float64          str21    \n",
       "---- ------------------- ---------------- ... ------------------ ------------\n",
       "     J051639.13-844008.0 J051642.1-844007 ... 1.1527534338858887             \n",
       "     J185159.49-841628.2 J185158.8-841625 ...  1.248067313632769             \n",
       "     J075655.94-815653.4 J075655.2-815654 ... 1.4068596786153855             \n",
       "     J091009.53-794627.6 J091008.7-794628 ... 1.9158074073117017             \n",
       "     J043124.15-793224.6 J043122.6-793225 ... 1.2668721356997477             \n",
       "     J130722.72-773722.9 J130723.2-773724 ...  2.034770985471037             \n",
       "     J082029.61-800325.6 J082029.0-800327 ... 1.7524235326117097             \n",
       "     J011947.05-790356.1 J011946.5-790354 ...  1.212621320694974             \n",
       "     J133051.33-770928.2 J133051.3-770930 ... 1.3685424826353647             \n",
       "     J162638.15-763855.5 J162638.0-763854 ...  1.106483144911246             \n",
       " ...                 ...              ... ...                ...          ...\n",
       "     J090314.70+405559.9 J090314.5+405604 ...  1.108236882142939             \n",
       "     J090602.49+411628.5 J090602.5+411630 ... 1.1851995475109816             \n",
       "     J084536.26+400022.9 J084536.1+400027 ... 1.3770842652933382             \n",
       "     J084820.87+402722.7 J084820.6+402721 ...  1.406972518374549             \n",
       "     J083052.61+403105.3 J083052.3+403106 ... 1.2575431313795895             \n",
       "     J083317.80+411534.3 J083317.8+411537 ... 1.4934719592965262             \n",
       "     J082659.92+394742.6 J082700.0+394743 ... 1.3321695351260703             \n",
       "     J083455.50+401314.2 J083455.6+401317 ... 1.1870595318939465             \n",
       "     J100235.69+400614.9 J100235.8+400615 ... 1.0367411329187328             \n",
       "     J081253.32+402711.4 J081253.6+402710 ... 1.1938604360418041             "
      ]
     },
     "execution_count": 29,
     "metadata": {},
     "output_type": "execute_result"
    }
   ],
   "source": [
    "final"
   ]
  },
  {
   "cell_type": "code",
   "execution_count": 30,
   "metadata": {},
   "outputs": [
    {
     "name": "stderr",
     "output_type": "stream",
     "text": [
      "/var/folders/2z/y_y_51l51r1cdd9b0xsl_qj80000gn/T/ipykernel_76516/2361240760.py:45: StringTruncateWarning: truncated right side string(s) longer than 28 character(s) during assignment\n",
      "  final['1CGH Assoc'][mask] = cgh['Counterpart_name'][idx[mask]]\n"
     ]
    }
   ],
   "source": [
    "#gamma-ray catalog matching; again, change the paths to match your local directory structure\n",
    "\n",
    "#2FHL (Ackerman et al. 2016)\n",
    "hdu_list = fits.open('./catalogs/gammaray/2FHL.fits')\n",
    "fhl2 = Table(hdu_list[1].data)\n",
    "c = SkyCoord(ra = final['ra']*u.degree, dec = final['dec']*u.degree, frame = 'fk5')\n",
    "catalog = SkyCoord(ra = fhl2['RAJ2000']*u.degree, dec = fhl2['DEJ2000']*u.degree, frame = 'fk5')\n",
    "idx, d2d, d3d = c.match_to_catalog_sky(catalog)\n",
    "mask = d2d.deg <= fhl2['Pos_err_95'][idx]\n",
    "final['2FHL Assoc'] = Column(['']*len(final), dtype = 'U17')\n",
    "final['2FHL Assoc'][mask] = fhl2['Source_Name'][idx[mask]]\n",
    "#3FHL (Ajello et al. 2017)\n",
    "hdu_list = fits.open('./catalogs/gammaray/3FHL.fits')\n",
    "fhl3 = Table(hdu_list[1].data)\n",
    "catalog = SkyCoord(ra = fhl3['RAJ2000']*u.degree, dec = fhl3['DEJ2000']*u.degree, frame = 'fk5')\n",
    "idx, d2d, d3d = c.match_to_catalog_sky(catalog)\n",
    "mask = d2d.deg <= fhl3['Conf_95_SemiMajor'][idx]\n",
    "final['3FHL Assoc'] = Column(['']*len(final), dtype = 'U18')\n",
    "final['3FHL Assoc'][mask] = fhl3['Source_Name'][idx[mask]]\n",
    "#4FGL_DR4 (Ballet et al. 2024)\n",
    "hdu_list = fits.open('./catalogs/gammaray/4FGL_DR4.fits')\n",
    "fgl4 = Table(hdu_list[1].data)\n",
    "catalog = SkyCoord(ra = fgl4['RAJ2000']*u.degree, dec = fgl4['DEJ2000']*u.degree, frame = 'fk5')\n",
    "idx, d2d, d3d = c.match_to_catalog_sky(catalog)\n",
    "mask = d2d.deg <= fgl4['Conf_95_SemiMajor'][idx]\n",
    "final['4FGL Assoc'] = Column(['']*len(final), dtype = 'U18')\n",
    "final['4FGL Assoc'][mask] = fgl4['Source_Name'][idx[mask]]\n",
    "final['4FGL Assoc'] = [name.replace(' ', '') for name in final['4FGL Assoc']]\n",
    "final['4FGL Assoc'] = [name.replace('LJ', 'L J') for name in final['4FGL Assoc']]\n",
    "#4LAC_DR3 (Ajello et al. 2023)\n",
    "hdu_list = fits.open('./catalogs/gammaray/4LAC-DR3.fits')\n",
    "lac = Table(hdu_list[1].data)\n",
    "catalog = SkyCoord(ra = lac['RACdeg']*u.degree, dec = lac['DECdeg']*u.degree, frame = 'fk5')\n",
    "idx, d2d, d3d = c.match_to_catalog_sky(catalog)\n",
    "mask = d2d.arcsec <= 5.0\n",
    "final['4LAC Assoc'] = Column(['']*len(final), dtype = 'U28')\n",
    "final['4LAC Assoc'][mask] = lac['Assoc1'][idx[mask]]\n",
    "#1CGH (Arsioli et al. 2025)\n",
    "hdu_list = fits.open('./catalogs/gammaray/1CGH_Preliminary_V2.0.fits')\n",
    "cgh = Table(hdu_list[1].data)\n",
    "catalog = SkyCoord(ra = cgh['RA_1CGH']*u.degree, dec = cgh['DEC_1CGH']*u.degree, frame = 'fk5')\n",
    "idx, d2d, d3d = c.match_to_catalog_sky(catalog)\n",
    "mask = d2d.arcsec <= 5.0\n",
    "final['1CGH Assoc'] = Column(['']*len(final), dtype = 'U28')\n",
    "final['1CGH Assoc'][mask] = cgh['Counterpart_name'][idx[mask]]\n"
   ]
  },
  {
   "cell_type": "code",
   "execution_count": 31,
   "metadata": {},
   "outputs": [
    {
     "name": "stderr",
     "output_type": "stream",
     "text": [
      "WARNING: VerifyWarning: Invalid keyword for column 10: ASCII table null option (TNULLn) is longer than the column's character width and will be truncated (got '255'). [astropy.io.fits.column]\n"
     ]
    }
   ],
   "source": [
    "#multi-frequency catalog matching; again, change the paths to match your local directory structure\n",
    "\n",
    "#BZCAT (Massaro et al. 2015)\n",
    "hdu_list = fits.open('./catalogs/other_blazar-hbl_cats/bzcat.fits')\n",
    "bzcat = Table(hdu_list[1].data)\n",
    "catalog = SkyCoord(ra = bzcat['RA']*u.degree, dec = bzcat['DEC']*u.degree, frame = 'fk5')\n",
    "idx, d2d, d3d = c.match_to_catalog_sky(catalog)\n",
    "mask = d2d.arcsec <= 5\n",
    "final['BZCAT Assoc'] = Column(['']*len(final), dtype = 'U15')\n",
    "final['BZCAT OTYPE'] = Column(['']*len(final), dtype = 'U24')\n",
    "for i in range(len(final)): \n",
    "    if(mask[i]): \n",
    "        name = bzcat['NAME'][idx[i]]\n",
    "        name = name[10:]\n",
    "        final['BZCAT Assoc'][i] = name\n",
    "        final['BZCAT OTYPE'][i] = bzcat['OBJECT_TYPE'][idx[i]]\n",
    "        final['BZCAT OTYPE'][i] = final['BZCAT OTYPE'][i].replace('  ', '')\n",
    "#3HSP (Chang et al. 2019)\n",
    "hdu_list = fits.open('./catalogs/other_blazar-hbl_cats/3HSP.fits')\n",
    "hsp3 = Table(hdu_list[1].data)\n",
    "catalog = SkyCoord(ra = hsp3['RAJ2000']*u.degree, dec = hsp3['DEJ2000']*u.degree, frame = 'fk5')\n",
    "idx, d2d, d3d = c.match_to_catalog_sky(catalog)\n",
    "mask = d2d.arcsec <= 5\n",
    "final['3HSP Assoc'] = Column(['']*len(final), dtype = 'U20')\n",
    "final['3HSP Assoc'][mask] = hsp3['Name'][idx[mask]]\n",
    "#1WHSP (Arsioli et al. 2015)\n",
    "hdu_list = fits.open('./catalogs/other_blazar-hbl_cats/1whsp.fits')\n",
    "whsp1 = Table(hdu_list[1].data)\n",
    "catalog = SkyCoord(ra = whsp1['_RA']*u.degree, dec = whsp1['_DE']*u.degree, frame = 'fk5')\n",
    "idx, d2d, d3d = c.match_to_catalog_sky(catalog)\n",
    "mask = d2d.arcsec <= 5\n",
    "final['1WHSP Assoc'] = Column(['']*len(final), dtype = 'U15')\n",
    "final['1WHSP Assoc'][mask] = whsp1['_1WHSP'][idx[mask]]\n",
    "#2WHSP (Chang et al. 2017)\n",
    "hdu_list= fits.open('./catalogs/other_blazar-hbl_cats/whsp2.fits')\n",
    "whsp2 = Table(hdu_list[1].data)\n",
    "catalog = SkyCoord(ra = whsp2['_RA']*u.degree, dec = whsp2['_DE']*u.degree, frame = 'fk5')\n",
    "idx, d2d, d3d = c.match_to_catalog_sky(catalog)\n",
    "mask = d2d.arcsec <= 5\n",
    "final['2WHSP Assoc'] = Column(['']*len(final), dtype = 'U15')\n",
    "final['2WHSP Assoc'][mask] = whsp2['_2WHSPJ'][idx[mask]]"
   ]
  },
  {
   "cell_type": "code",
   "execution_count": 32,
   "metadata": {},
   "outputs": [
    {
     "name": "stderr",
     "output_type": "stream",
     "text": [
      "WARNING: VerifyWarning: Invalid keyword for column 15: ASCII table null option (TNULLn) is longer than the column's character width and will be truncated (got '-32768'). [astropy.io.fits.column]\n",
      "WARNING: VerifyWarning: Invalid keyword for column 9: ASCII table null option (TNULLn) is longer than the column's character width and will be truncated (got '-32768'). [astropy.io.fits.column]\n"
     ]
    }
   ],
   "source": [
    "#TeV-peaked candidate BL Lac objects (Costamante 2020)\n",
    "C20 = ascii.read('./catalogs/other_blazar-hbl_cats/C20.txt')\n",
    "C20 = C20[0][:]\n",
    "final['C20'] = Column(['N']*len(final), dtype = 'U1')\n",
    "for i in range(len(final)): \n",
    "    target = final['BZCAT Assoc'][i] \n",
    "    target = target.replace(\" \", \"\")\n",
    "    if(target != \"None\"): \n",
    "        target1 = target[0:9]\n",
    "        for j in range(len(C20)): \n",
    "            c_t = C20[j]\n",
    "            c_t1 = c_t[0:9]\n",
    "            if(target1 == c_t1): \n",
    "                target2 = target[10:14]\n",
    "                c_t2 = c_t[10:14]\n",
    "                if(target2 == c_t2): \n",
    "                    final['C20'][i] = 'Y'\n",
    "#Two new catalogs of blazar candidates in the WISE Infrared sky (D'Abrusco et al. 2019)\n",
    "#T3\n",
    "hdu_list = fits.open('./catalogs/other_blazar-hbl_cats/dabruscot3.fits')\n",
    "dabruscot3 = Table(hdu_list[1].data)\n",
    "#T5\n",
    "hdu_list = fits.open('./catalogs/other_blazar-hbl_cats/dabruscot5.fits')\n",
    "dabruscot5 = Table(hdu_list[1].data)\n",
    "final['D19'] = Column(['N']*len(final), dtype = 'U1')\n",
    "for i in range(len(final)): \n",
    "    target = final['name'][i]\n",
    "    target1 = target[0:10]\n",
    "    for j in range(len(dabruscot3)): \n",
    "        catalog = dabruscot3['WISE'][j]\n",
    "        catalog1 = catalog[0:10]\n",
    "        if(target1 == catalog1): \n",
    "           target2 = target[11:21]\n",
    "           catalog2 = catalog[11:21]\n",
    "           if(target2 == catalog2): \n",
    "               final['D19'][i] = 'Y'\n",
    "    for k in range(len(dabruscot5)): \n",
    "        catalog = dabruscot5['WISE'][k]\n",
    "        catalog1 = catalog[0:10]\n",
    "        if(target1 == catalog1): \n",
    "            target2 = target[11:21]\n",
    "            catalog2 = catalog[11:21]\n",
    "            if(target2 == catalog2): \n",
    "                final['D19'][i] = 'Y'"
   ]
  },
  {
   "cell_type": "code",
   "execution_count": 33,
   "metadata": {},
   "outputs": [],
   "source": [
    "#Exploring the Most Extreme Gamma-Ray Blazars Using Broadband Spectral Energy Distributions (Láinez et al. 2025)\n",
    "L25 = ascii.read('./catalogs/other_blazar-hbl_cats/L25.txt')\n",
    "L25 = L25[0][:]\n",
    "final['L25'] = Column(['N']*len(final), dtype = 'U1')\n",
    "for i in range(len(final)): \n",
    "    target = final['4FGL Assoc'][i] \n",
    "    target1 = target[5:12]\n",
    "    for j in range(len(L25)): \n",
    "        l_t = L25[j]\n",
    "        l_t1 = l_t[0:7]\n",
    "        if(target1 == l_t1): \n",
    "            target2 =target[13:17]\n",
    "            l_t2 = l_t[8:12]\n",
    "            if(target2 == l_t2): \n",
    "                final['L25'][i] = 'Y'\n",
    "#A new look at the extragalactic very high energy sky: Searching for TeV-emitting candidates among the X-ray-bright, non-Fermi-detected blazar population (Marchesi et al. 2025)                               \n",
    "hdu_list = fits.open('./catalogs/other_blazar-hbl_cats/Marchesi_Xray_Bl_AA_25.fits')\n",
    "marchesi = Table(hdu_list[1].data)\n",
    "final['MAR25'] = Column(['N']*len(final), dtype = 'U1')\n",
    "for i in range(len(final)): \n",
    "    target = final['BZCAT Assoc'][i]\n",
    "    if(target != \"None\"):\n",
    "        target = target.replace(\" \", \"\")\n",
    "        target1 = target[0:9]\n",
    "        for j in range(len(marchesi)): \n",
    "            catalog = marchesi['ID_5BZCAT'][j]\n",
    "            catalog1 = catalog[0:9]\n",
    "            if(target1 == catalog1): \n",
    "                target2 = target[10:14]\n",
    "                catalog2 = catalog[10:14]\n",
    "                if(target2 == catalog2): \n",
    "                    final['MAR25'][i] = 'Y'\n",
    "#BL Lac candidates for TeV observations (Massaro et al. 2013)\n",
    "hdu_list = fits.open('./catalogs/other_blazar-hbl_cats/massaro_selection.fits')\n",
    "massaro = Table(hdu_list[1].data)\n",
    "final['MAS13'] = Column(['N']*len(final), dtype = 'U1')\n",
    "for i in range(len(final)): \n",
    "    name = final['name'][i]\n",
    "    if(name in massaro['WISE']): \n",
    "        final['MAS13'][i] = 'Y'\n",
    "        idx = np.where(massaro['WISE'] == name)[0][0]\n"
   ]
  },
  {
   "cell_type": "code",
   "execution_count": 34,
   "metadata": {},
   "outputs": [],
   "source": [
    "final.sort('ra')"
   ]
  },
  {
   "cell_type": "code",
   "execution_count": 35,
   "metadata": {},
   "outputs": [],
   "source": [
    "final.rename_column('name', 'WISEA')"
   ]
  },
  {
   "cell_type": "code",
   "execution_count": 36,
   "metadata": {},
   "outputs": [],
   "source": [
    "final.rename_column('ra', 'RA')\n",
    "final.rename_column('dec', 'DEC')"
   ]
  },
  {
   "cell_type": "code",
   "execution_count": 40,
   "metadata": {},
   "outputs": [
    {
     "name": "stdout",
     "output_type": "stream",
     "text": [
      "Catalog saved as WISE_EROSITA_ALLmatches.fits\n"
     ]
    }
   ],
   "source": [
    "tbl= QTable(final)\n",
    "tbl['ra'] = tbl['RA']*u.degree \n",
    "tbl['dec'] = tbl['DEC']*u.degree\n",
    "tbl['w2-w3'] = tbl['w2-w3']*u.mag\n",
    "tbl['w2-w3 ERR'] = tbl['w2-w3 ERR']*u.mag\n",
    "tbl['w1-w2'] = tbl['w1-w2']*u.mag\n",
    "tbl['w1-w2 ERR'] = tbl['w1-w2 ERR']*u.mag\n",
    "tbl['dist'] = tbl['dist']*u.mag\n",
    "\n",
    "table_hdu = fits.BinTableHDU(tbl) \n",
    "header = table_hdu.header\n",
    "header['EXTNAME'] = 'ALL_eROSITA_WISE_MATCHES'\n",
    "header['AUTHOR'] = 'Cassie Metzger' \n",
    "header['DATE'] = '2025-04-16' \n",
    "header['WAVELENG'] = 'Multi'\n",
    "header['DATASRC'] = 'eROSITA, WISE'\n",
    "header['DOI'] = '10.48550/arXiv.2501.12520' \n",
    "header['WAVELENG'] = 'Multi'\n",
    "header['SELPRO'] = 'All sources in the eROSITA catalog with WISE counterparts within 5'' that have IR magnitudes less than 14.3, 13.8, 12.2 in the W1, W2, W3 bands respectively and IR colors than fall between 1.25-2.4 and 0.05-0.9 in the W2-W3 and W1-W2 bands,respectively.'\n",
    "tbl.write('./catalogs/WISE_EROSITA_ALLmatches.fits', format = 'fits', overwrite = True)\n",
    "print('Catalog saved as WISE_EROSITA_ALLmatches.fits')"
   ]
  },
  {
   "cell_type": "code",
   "execution_count": null,
   "metadata": {},
   "outputs": [],
   "source": []
  }
 ],
 "metadata": {
  "kernelspec": {
   "display_name": "base",
   "language": "python",
   "name": "python3"
  },
  "language_info": {
   "codemirror_mode": {
    "name": "ipython",
    "version": 3
   },
   "file_extension": ".py",
   "mimetype": "text/x-python",
   "name": "python",
   "nbconvert_exporter": "python",
   "pygments_lexer": "ipython3",
   "version": "3.9.13"
  }
 },
 "nbformat": 4,
 "nbformat_minor": 2
}
