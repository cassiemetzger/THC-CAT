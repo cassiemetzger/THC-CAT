{
 "cells": [
  {
   "cell_type": "code",
   "execution_count": 100,
   "metadata": {},
   "outputs": [
    {
     "name": "stdout",
     "output_type": "stream",
     "text": [
      "/Library/TeX/texbin:/Users/cassiemetzger/opt/anaconda3/bin:/Library/TeX/texbin:/Users/cassiemetzger/.gem/ruby/3.1.3/bin:/Users/cassiemetzger/.rubies/ruby-3.1.3/lib/ruby/gems/3.1.0/bin:/Users/cassiemetzger/.rubies/ruby-3.1.3/bin:/Users/cassiemetzger/opt/anaconda3/bin:/Users/cassiemetzger/opt/anaconda3/condabin:/opt/local/bin:/opt/local/sbin:/opt/homebrew/bin:/opt/homebrew/sbin:/usr/local/bin:/System/Cryptexes/App/usr/bin:/usr/bin:/bin:/usr/sbin:/sbin:/Library/TeX/texbin:/opt/X11/bin:/Library/Apple/usr/bin\n",
      "/Library/TeX/texbin:/Library/TeX/texbin:/Users/cassiemetzger/opt/anaconda3/bin:/Library/TeX/texbin:/Users/cassiemetzger/.gem/ruby/3.1.3/bin:/Users/cassiemetzger/.rubies/ruby-3.1.3/lib/ruby/gems/3.1.0/bin:/Users/cassiemetzger/.rubies/ruby-3.1.3/bin:/Users/cassiemetzger/opt/anaconda3/bin:/Users/cassiemetzger/opt/anaconda3/condabin:/opt/local/bin:/opt/local/sbin:/opt/homebrew/bin:/opt/homebrew/sbin:/usr/local/bin:/System/Cryptexes/App/usr/bin:/usr/bin:/bin:/usr/sbin:/sbin:/Library/TeX/texbin:/opt/X11/bin:/Library/Apple/usr/bin\n"
     ]
    }
   ],
   "source": [
    "import numpy as np\n",
    "import matplotlib.pyplot as plt\n",
    "import astropy \n",
    "from astropy.io import fits\n",
    "from astropy.table import Table, Column, vstack, MaskedColumn, QTable\n",
    "from astropy import units as u\n",
    "from astropy.coordinates import SkyCoord\n",
    "from astropy.coordinates import match_coordinates_sky\n",
    "from astropy.io import ascii\n",
    "import os\n",
    "import seaborn as sns\n",
    "print(os.environ['PATH'])\n",
    "os.environ['PATH'] = '/Library/TeX/texbin:' + os.environ['PATH']\n",
    "print(os.environ['PATH'])\n",
    "plt.rcParams['mathtext.fontset'] = 'stix'\n",
    "plt.rcParams['font.family'] = 'serif'\n",
    "plt.rcParams['font.size'] = 11\n",
    "color_palette = sns.color_palette([\"#000000\", \"#849324\", \"#FFB30F\", \"#D62828\", \"#6EA2D2\"])"
   ]
  },
  {
   "cell_type": "code",
   "execution_count": 108,
   "metadata": {},
   "outputs": [],
   "source": [
    "hdu_list = fits.open('./catalogs/IR/wise.fits')\n",
    "wise = Table(hdu_list[1].data)\n",
    "hdu_list.close()"
   ]
  },
  {
   "cell_type": "code",
   "execution_count": 102,
   "metadata": {},
   "outputs": [],
   "source": [
    "hdu_list = fits.open('./catalogs/xray/eRASS1_Main.v1.1.fits')\n",
    "erass1 = Table(hdu_list[1].data)\n",
    "hdu_list.close()"
   ]
  },
  {
   "cell_type": "code",
   "execution_count": 112,
   "metadata": {},
   "outputs": [],
   "source": [
    "c = SkyCoord(ra = wise['ra']*u.degree, dec = wise['dec']*u.degree, frame = 'icrs')\n",
    "catalog = SkyCoord(ra = erass1['RA']*u.degree, dec = erass1['DEC']*u.degree, frame = 'icrs')\n",
    "idx, d2d, d3d = match_coordinates_sky(c, catalog)\n",
    "m = d2d.arcsec <= 5 \n",
    "wise['erass idx'] = idx \n",
    "matches = wise[m]"
   ]
  },
  {
   "cell_type": "code",
   "execution_count": 209,
   "metadata": {},
   "outputs": [],
   "source": [
    "#assumes RA, DEC coords are given in degrees and radius is given in arcseconds\n",
    "def matching(catalog1, RA1, DEC1, catalog2, RA2, DEC2, radius, matching_Name): \n",
    "    c = SkyCoord(ra = RA1*u.degree, dec = DEC1*u.degree, frame = 'fk5')\n",
    "    catalog = SkyCoord(ra = RA2*u.degree, dec = DEC2*u.degree, frame = 'fk5')\n",
    "    idx, d2d, d3d = c.match_to_catalog_sky(catalog)\n",
    "    mask = d2d.arcsec <= radius\n",
    "    matches = catalog1[mask]\n",
    "    matches[f'{matching_Name} idx'] = idx[mask]\n",
    "    matches[f'{matching_Name} sep'] = d2d.arcsec[mask]\n",
    "    leng = len(matches)\n",
    "    print(f'{leng} {matching_Name} matches found')\n",
    "    print('Checking for duplicates...')\n",
    "    numbers= matches[f'{matching_Name} idx']\n",
    "    unique, counts = np.unique(numbers, return_counts=True)\n",
    "    duplicates = unique[counts > 1] \n",
    "    print(f\"Duplicates found: {len(duplicates)}\")\n",
    "    if(len(duplicates > 0)): \n",
    "        print(f\"Removing duplicates...\")\n",
    "        mask = np.array([False if i in duplicates else True for i in matches[f'{matching_Name} idx']])\n",
    "        for val in duplicates: \n",
    "            idx = np.where(matches[f'{matching_Name} idx'] == val)[0]\n",
    "            dis1 = matches[f'{matching_Name} sep'][idx[0]]\n",
    "            dis2 = matches[f'{matching_Name} sep'][idx[1]]\n",
    "            if(dis1 < dis2): \n",
    "                mask[idx[0]] = True\n",
    "                mask[idx[1]] = False\n",
    "            if(dis2 < dis1): \n",
    "                mask[idx[0]] = False\n",
    "                mask[idx[1]] = True\n",
    "            if(dis1 == dis2): \n",
    "                mask[idx[0]] = False\n",
    "                mask[idx[1]] = True\n",
    "        matches = matches[mask]\n",
    "        print(f\"Removed {leng- len(matches)} duplicates \\n {len(matches)} {matching_Name} matches found\")\n",
    "    return matches"
   ]
  },
  {
   "cell_type": "code",
   "execution_count": 215,
   "metadata": {},
   "outputs": [
    {
     "name": "stdout",
     "output_type": "stream",
     "text": [
      "5634 WISE matches found\n",
      "Checking for duplicates...\n",
      "Duplicates found: 152\n",
      "Removing duplicates...\n",
      "Removed 152 duplicates \n",
      " 5482 WISE matches found\n"
     ]
    }
   ],
   "source": [
    "matches = matching(wise, wise['ra'], wise['dec'], erass1, erass1['RA'], erass1['DEC'], 5, 'WISE')"
   ]
  },
  {
   "cell_type": "code",
   "execution_count": 216,
   "metadata": {},
   "outputs": [],
   "source": [
    "def get_wise_flux(catalog): \n",
    "    sol = 2.997925E14 # variable sol; c in microns/s\n",
    "    w1=sol/3.368\n",
    "    w2=sol/4.618\n",
    "    w3=sol/12.082\n",
    "\n",
    "    fc_w1=0.9921\n",
    "    fc_w2=0.9943\n",
    "    fc_w3=0.9373\n",
    "\n",
    "    F_w1 = 306.682 #Jy\n",
    "    F_w2 = 170.663 #Jy\n",
    "    F_w3 = 29.045 #Jy\n",
    "\n",
    "    flux_w1 = F_w1/fc_w1*10**(-catalog['w1mpro']/2.5)\n",
    "    flux_w2 = F_w2/fc_w2*10**(-catalog['w2mpro']/2.5)\n",
    "    flux_w3 = F_w3/fc_w3*10**(-catalog['w3mpro']/2.5)\n",
    "\n",
    "    #errors \n",
    "    w1errh = catalog['w1mpro'] - catalog['w1sigmpro']\n",
    "    w2errh = catalog['w2mpro'] - catalog['w2sigmpro']\n",
    "    w3errh = catalog['w3mpro'] - catalog['w3sigmpro']\n",
    "\n",
    "    w1errl = catalog['w1mpro'] + catalog['w1sigmpro']\n",
    "    w2errl = catalog['w2mpro'] + catalog['w2sigmpro']\n",
    "    w3errl = catalog['w3mpro'] + catalog['w3sigmpro']\n",
    "\n",
    "    #relative errors in Jy \n",
    "\n",
    "    err_w1_h = F_w1/fc_w1*10**(-w1errh/2.5)-flux_w1\n",
    "    err_w2_h = F_w2/fc_w2*10**(-w2errh/2.5)-flux_w2\n",
    "    err_w3_h = F_w3/fc_w3*10**(-w3errh/2.5)-flux_w3\n",
    "\n",
    "    err_w1_l = F_w1/fc_w1*10**(-w1errl/2.5)-flux_w1\n",
    "    err_w2_l = F_w2/fc_w2*10**(-w2errl/2.5)-flux_w2\n",
    "    err_w3_l = F_w3/fc_w3*10**(-w3errl/2.5)-flux_w3\n",
    "\n",
    "    err_w1 = 0.5*(np.abs(err_w1_h)+ np.abs(err_w1_l))\n",
    "    err_w2 = 0.5*(np.abs(err_w2_h)+np.abs(err_w2_l))\n",
    "    err_w3 = 0.5*(np.abs(err_w3_h)+np.abs(err_w3_l))\n",
    "\n",
    "    flux = [flux_w1,flux_w2,flux_w3]\n",
    "    err = [err_w1, err_w2, err_w3]\n",
    "    catalog['w1flux'] = flux_w1 \n",
    "    catalog['w2flux'] = flux_w2 \n",
    "    catalog['w3flux'] = flux_w3\n",
    "    catalog['w1sigflux'] = err_w1\n",
    "    catalog['w2sigflux'] = err_w2\n",
    "    catalog['w3sigflux'] = err_w3\n",
    "    return catalog\n"
   ]
  },
  {
   "cell_type": "code",
   "execution_count": 217,
   "metadata": {},
   "outputs": [],
   "source": [
    "matches = get_wise_flux(matches)"
   ]
  },
  {
   "cell_type": "code",
   "execution_count": 218,
   "metadata": {},
   "outputs": [],
   "source": [
    "matches['ML_FLUX_1'] = erass1['ML_FLUX_1'][matches['erass idx']]"
   ]
  },
  {
   "cell_type": "code",
   "execution_count": 219,
   "metadata": {},
   "outputs": [],
   "source": [
    "#choosing erosita 0.2-2.3 keV energy band, Eband = 1 keV \n",
    "e_energy = 1.6022e-16 #J \n",
    "h = 6.626e-34 #Js\n",
    "e_v1 = e_energy/h\n",
    "w_v = 3E8/3.4E-6\n"
   ]
  },
  {
   "cell_type": "code",
   "execution_count": 220,
   "metadata": {},
   "outputs": [],
   "source": [
    "matches['ML_FLUX_1_JY'] = 1E+23 * matches['ML_FLUX_1'] * 1/(e_v1)\n",
    "matches['Alpha IRX'] = -np.log10(matches['w1flux']/matches['ML_FLUX_1_JY'])/np.log10(w_v/e_v1)"
   ]
  },
  {
   "cell_type": "code",
   "execution_count": 221,
   "metadata": {},
   "outputs": [],
   "source": [
    "matches['EXT_LIKE'] = erass1['EXT_LIKE'][matches['erass idx']]"
   ]
  },
  {
   "cell_type": "code",
   "execution_count": 222,
   "metadata": {},
   "outputs": [],
   "source": [
    "x = matches['w2mpro'] - matches['w3mpro']\n",
    "y = matches['w1mpro'] - matches['w2mpro']\n",
    "m = 0.83809562126163\n",
    "b = -1.045969175938493\n",
    "def distance (m,b, x,y): \n",
    "   return np.abs(m * x + b-y)/np.sqrt(m**2 + 1**2)\n",
    "matches['dist'] = distance(m,b, x,y)"
   ]
  },
  {
   "cell_type": "code",
   "execution_count": 223,
   "metadata": {},
   "outputs": [],
   "source": [
    "matches['w2 - w3'] = x \n",
    "matches['w1 - w2'] = y"
   ]
  },
  {
   "cell_type": "code",
   "execution_count": 224,
   "metadata": {},
   "outputs": [],
   "source": [
    "hdu_list = fits.open('./catalogs/THC_catalog.fits')\n",
    "thc = Table(hdu_list[1].data)\n",
    "hdu_list.close()"
   ]
  },
  {
   "cell_type": "code",
   "execution_count": 225,
   "metadata": {},
   "outputs": [],
   "source": [
    "matches['THC'] = Column([''] * len(matches), dtype = 'U9')\n",
    "for i in range(len(matches)): \n",
    "    if(matches['name'][i] in thc['WISEA']): \n",
    "        idx = np.where(thc['WISEA'] == matches['name'][i])[0][0]\n",
    "        matches['THC'][i] = thc['THC'][idx]"
   ]
  },
  {
   "cell_type": "code",
   "execution_count": 226,
   "metadata": {},
   "outputs": [],
   "source": [
    "matches['1eRASS'] = erass1['IAUNAME'][matches['erass idx']]"
   ]
  },
  {
   "cell_type": "code",
   "execution_count": 227,
   "metadata": {},
   "outputs": [
    {
     "data": {
      "text/plain": [
       "'J051642.1-844007'"
      ]
     },
     "execution_count": 227,
     "metadata": {},
     "output_type": "execute_result"
    }
   ],
   "source": [
    "name = matches['1eRASS'][0]\n",
    "name[7:23]"
   ]
  },
  {
   "cell_type": "code",
   "execution_count": 228,
   "metadata": {},
   "outputs": [],
   "source": [
    "matches['1eRASS'] = [name[7:23] for name in matches['1eRASS']]"
   ]
  },
  {
   "cell_type": "code",
   "execution_count": 229,
   "metadata": {},
   "outputs": [],
   "source": [
    "tevcat= ascii.read('./catalogs/other_blazar-hbl_cats/HBL_newlist.csv', format='csv')"
   ]
  },
  {
   "cell_type": "code",
   "execution_count": 230,
   "metadata": {},
   "outputs": [],
   "source": [
    "c = SkyCoord(ra = matches['ra']*u.degree, dec = matches['dec']*u.degree, frame = 'icrs')\n",
    "catalog = SkyCoord(ra = tevcat['Simbad RA deg']*u.degree, dec = tevcat['Simbad DEC deg']*u.degree, frame = 'icrs')\n",
    "idx, d2d, d3d = match_coordinates_sky(c, catalog)\n",
    "m = d2d.arcsec <= 5\n",
    "matches['TeVCAT Assoc'] = Column([''] * len(matches), dtype = 'U21')\n",
    "matches['TeVCAT Assoc'][m] = tevcat['Name'][idx[m]]\n"
   ]
  },
  {
   "cell_type": "code",
   "execution_count": 231,
   "metadata": {},
   "outputs": [],
   "source": [
    "final = Table([matches['THC'], matches['name'], matches['1eRASS'], matches['ra'], matches['dec'], matches['EXT_LIKE'], matches['w2 - w3'], matches['w1 - w2'], matches['dist'], matches['Alpha IRX'], matches['TeVCAT Assoc']])"
   ]
  },
  {
   "cell_type": "code",
   "execution_count": 232,
   "metadata": {},
   "outputs": [
    {
     "data": {
      "text/html": [
       "<div><i>Table length=5482</i>\n",
       "<table id=\"table140521669398688\" class=\"table-striped table-bordered table-condensed\">\n",
       "<thead><tr><th>THC</th><th>name</th><th>1eRASS</th><th>ra</th><th>dec</th><th>EXT_LIKE</th><th>w2 - w3</th><th>w1 - w2</th><th>dist</th><th>Alpha IRX</th><th>TeVCAT Assoc</th></tr></thead>\n",
       "<thead><tr><th>str9</th><th>str19</th><th>str16</th><th>float64</th><th>float64</th><th>float32</th><th>float64</th><th>float64</th><th>float64</th><th>float64</th><th>str21</th></tr></thead>\n",
       "<tr><td></td><td>J051639.13-844008.0</td><td>J051642.1-844007</td><td>79.1630516</td><td>-84.6688941</td><td>0.0</td><td>2.349</td><td>0.3439999999999994</td><td>0.44354247861439267</td><td>1.1527534338858887</td><td></td></tr>\n",
       "<tr><td></td><td>J185159.49-841628.2</td><td>J185158.8-841625</td><td>282.9978981</td><td>-84.2745041</td><td>0.0</td><td>2.302999999999999</td><td>0.5470000000000006</td><td>0.25841111316630005</td><td>1.248067313632769</td><td></td></tr>\n",
       "<tr><td></td><td>J075655.94-815653.4</td><td>J075655.2-815654</td><td>119.2330998</td><td>-81.948188</td><td>0.0</td><td>1.4100000000000001</td><td>0.20599999999999952</td><td>0.05384456462967376</td><td>1.4068596786153855</td><td></td></tr>\n",
       "<tr><td></td><td>J091009.53-794627.6</td><td>J091008.7-794628</td><td>137.539722</td><td>-79.7743393</td><td>0.0</td><td>1.6300000000000008</td><td>0.14700000000000024</td><td>0.13268831150623522</td><td>1.9158074073117017</td><td></td></tr>\n",
       "<tr><td></td><td>J043124.15-793224.6</td><td>J043122.6-793225</td><td>67.8506267</td><td>-79.5401767</td><td>0.0</td><td>2.3889999999999993</td><td>0.7829999999999995</td><td>0.13277612562430968</td><td>1.2668721356997477</td><td></td></tr>\n",
       "<tr><td></td><td>J130722.72-773722.9</td><td>J130723.2-773724</td><td>196.8446743</td><td>-77.6230362</td><td>0.0</td><td>1.6749999999999998</td><td>0.5739999999999998</td><td>0.16566928323212626</td><td>2.034770985471037</td><td></td></tr>\n",
       "<tr><td></td><td>J082029.61-800325.6</td><td>J082029.0-800327</td><td>125.1233979</td><td>-80.0571241</td><td>0.0</td><td>1.8989999999999991</td><td>0.3930000000000007</td><td>0.1169365686566224</td><td>1.7524235326117097</td><td></td></tr>\n",
       "<tr><td></td><td>J011947.05-790356.1</td><td>J011946.5-790354</td><td>19.9460557</td><td>-79.0655836</td><td>0.0</td><td>2.2990000000000013</td><td>0.7479999999999993</td><td>0.10179070357924803</td><td>1.212621320694974</td><td></td></tr>\n",
       "<tr><td></td><td>J133051.33-770928.2</td><td>J133051.3-770930</td><td>202.7138944</td><td>-77.1578497</td><td>0.0</td><td>1.9540000000000006</td><td>0.20400000000000063</td><td>0.2971190325717619</td><td>1.3685424826353647</td><td></td></tr>\n",
       "<tr><td></td><td>J162638.15-763855.5</td><td>J162638.0-763854</td><td>246.6589646</td><td>-76.648765</td><td>0.0</td><td>2.144</td><td>0.581999999999999</td><td>0.12945488641901529</td><td>1.106483144911246</td><td></td></tr>\n",
       "<tr><td>...</td><td>...</td><td>...</td><td>...</td><td>...</td><td>...</td><td>...</td><td>...</td><td>...</td><td>...</td><td>...</td></tr>\n",
       "<tr><td></td><td>J090314.70+405559.9</td><td>J090314.5+405604</td><td>135.8112696</td><td>40.9333194</td><td>0.0</td><td>1.8309999999999995</td><td>0.4430000000000014</td><td>0.03493656415514968</td><td>1.108236882142939</td><td></td></tr>\n",
       "<tr><td></td><td>J090602.49+411628.5</td><td>J090602.5+411630</td><td>136.5103846</td><td>41.2745843</td><td>0.0</td><td>2.3369999999999997</td><td>0.7680000000000007</td><td>0.11087100499657357</td><td>1.1851995475109816</td><td></td></tr>\n",
       "<tr><td></td><td>J084536.26+400022.9</td><td>J084536.1+400027</td><td>131.4011246</td><td>40.0063742</td><td>0.0</td><td>1.9369999999999994</td><td>0.22300000000000075</td><td>0.2716372805612994</td><td>1.3770842652933382</td><td></td></tr>\n",
       "<tr><td></td><td>J084820.87+402722.7</td><td>J084820.6+402721</td><td>132.0869954</td><td>40.4563112</td><td>0.0</td><td>2.1319999999999997</td><td>0.770999999999999</td><td>0.023107132122344328</td><td>1.406972518374549</td><td></td></tr>\n",
       "<tr><td></td><td>J083052.61+403105.3</td><td>J083052.3+403106</td><td>127.719245</td><td>40.5181522</td><td>0.0</td><td>2.043000000000001</td><td>0.4269999999999996</td><td>0.183374554616734</td><td>1.2575431313795895</td><td></td></tr>\n",
       "<tr><td></td><td>J083317.80+411534.3</td><td>J083317.8+411537</td><td>128.3241992</td><td>41.2595436</td><td>0.0</td><td>1.5549999999999997</td><td>0.054999999999999716</td><td>0.15502405169125336</td><td>1.4934719592965262</td><td></td></tr>\n",
       "<tr><td></td><td>J082659.92+394742.6</td><td>J082700.0+394743</td><td>126.7497064</td><td>39.7951831</td><td>0.0</td><td>2.318999999999999</td><td>0.6259999999999994</td><td>0.20814105435488867</td><td>1.3321695351260703</td><td></td></tr>\n",
       "<tr><td></td><td>J083455.50+401314.2</td><td>J083455.6+401317</td><td>128.7312672</td><td>40.2206267</td><td>0.0</td><td>2.3919999999999995</td><td>0.8109999999999999</td><td>0.11324328347452782</td><td>1.1870595318939465</td><td></td></tr>\n",
       "<tr><td></td><td>J100235.69+400614.9</td><td>J100235.8+400615</td><td>150.6487238</td><td>40.1041583</td><td>0.0</td><td>2.189</td><td>0.673</td><td>0.08861549127933432</td><td>1.0367411329187328</td><td></td></tr>\n",
       "<tr><td></td><td>J081253.32+402711.4</td><td>J081253.6+402710</td><td>123.2221892</td><td>40.4531684</td><td>0.0</td><td>1.8609999999999989</td><td>0.3030000000000008</td><td>0.16150589215568661</td><td>1.1938604360418041</td><td></td></tr>\n",
       "</table></div>"
      ],
      "text/plain": [
       "<Table length=5482>\n",
       "THC          name             1eRASS      ...     Alpha IRX      TeVCAT Assoc\n",
       "str9        str19             str16       ...      float64          str21    \n",
       "---- ------------------- ---------------- ... ------------------ ------------\n",
       "     J051639.13-844008.0 J051642.1-844007 ... 1.1527534338858887             \n",
       "     J185159.49-841628.2 J185158.8-841625 ...  1.248067313632769             \n",
       "     J075655.94-815653.4 J075655.2-815654 ... 1.4068596786153855             \n",
       "     J091009.53-794627.6 J091008.7-794628 ... 1.9158074073117017             \n",
       "     J043124.15-793224.6 J043122.6-793225 ... 1.2668721356997477             \n",
       "     J130722.72-773722.9 J130723.2-773724 ...  2.034770985471037             \n",
       "     J082029.61-800325.6 J082029.0-800327 ... 1.7524235326117097             \n",
       "     J011947.05-790356.1 J011946.5-790354 ...  1.212621320694974             \n",
       "     J133051.33-770928.2 J133051.3-770930 ... 1.3685424826353647             \n",
       "     J162638.15-763855.5 J162638.0-763854 ...  1.106483144911246             \n",
       " ...                 ...              ... ...                ...          ...\n",
       "     J090314.70+405559.9 J090314.5+405604 ...  1.108236882142939             \n",
       "     J090602.49+411628.5 J090602.5+411630 ... 1.1851995475109816             \n",
       "     J084536.26+400022.9 J084536.1+400027 ... 1.3770842652933382             \n",
       "     J084820.87+402722.7 J084820.6+402721 ...  1.406972518374549             \n",
       "     J083052.61+403105.3 J083052.3+403106 ... 1.2575431313795895             \n",
       "     J083317.80+411534.3 J083317.8+411537 ... 1.4934719592965262             \n",
       "     J082659.92+394742.6 J082700.0+394743 ... 1.3321695351260703             \n",
       "     J083455.50+401314.2 J083455.6+401317 ... 1.1870595318939465             \n",
       "     J100235.69+400614.9 J100235.8+400615 ... 1.0367411329187328             \n",
       "     J081253.32+402711.4 J081253.6+402710 ... 1.1938604360418041             "
      ]
     },
     "execution_count": 232,
     "metadata": {},
     "output_type": "execute_result"
    }
   ],
   "source": [
    "final"
   ]
  },
  {
   "cell_type": "code",
   "execution_count": 233,
   "metadata": {},
   "outputs": [
    {
     "name": "stderr",
     "output_type": "stream",
     "text": [
      "/var/folders/2z/y_y_51l51r1cdd9b0xsl_qj80000gn/T/ipykernel_39064/3548270837.py:38: StringTruncateWarning: truncated right side string(s) longer than 28 character(s) during assignment\n",
      "  final['1CGH Assoc'][mask] = cgh['Counterpart_name'][idx[mask]]\n"
     ]
    }
   ],
   "source": [
    "hdu_list = fits.open('./catalogs/gammaray/2FHL.fits')\n",
    "fhl2 = Table(hdu_list[1].data)\n",
    "c = SkyCoord(ra = final['ra']*u.degree, dec = final['dec']*u.degree, frame = 'fk5')\n",
    "catalog = SkyCoord(ra = fhl2['RAJ2000']*u.degree, dec = fhl2['DEJ2000']*u.degree, frame = 'fk5')\n",
    "idx, d2d, d3d = c.match_to_catalog_sky(catalog)\n",
    "mask = d2d.deg <= fhl2['Pos_err_95'][idx]\n",
    "final['2FHL Assoc'] = Column(['']*len(final), dtype = 'U17')\n",
    "final['2FHL Assoc'][mask] = fhl2['Source_Name'][idx[mask]]\n",
    "hdu_list = fits.open('./catalogs/gammaray/3FHL.fits')\n",
    "fhl3 = Table(hdu_list[1].data)\n",
    "catalog = SkyCoord(ra = fhl3['RAJ2000']*u.degree, dec = fhl3['DEJ2000']*u.degree, frame = 'fk5')\n",
    "idx, d2d, d3d = c.match_to_catalog_sky(catalog)\n",
    "mask = d2d.deg <= fhl3['Conf_95_SemiMajor'][idx]\n",
    "final['3FHL Assoc'] = Column(['']*len(final), dtype = 'U18')\n",
    "final['3FHL Assoc'][mask] = fhl3['Source_Name'][idx[mask]]\n",
    "hdu_list = fits.open('./catalogs/gammaray/4FGL_DR4.fits')\n",
    "fgl4 = Table(hdu_list[1].data)\n",
    "catalog = SkyCoord(ra = fgl4['RAJ2000']*u.degree, dec = fgl4['DEJ2000']*u.degree, frame = 'fk5')\n",
    "idx, d2d, d3d = c.match_to_catalog_sky(catalog)\n",
    "mask = d2d.deg <= fgl4['Conf_95_SemiMajor'][idx]\n",
    "final['4FGL Assoc'] = Column(['']*len(final), dtype = 'U18')\n",
    "final['4FGL Assoc'][mask] = fgl4['Source_Name'][idx[mask]]\n",
    "final['4FGL Assoc'] = [name.replace(' ', '') for name in final['4FGL Assoc']]\n",
    "final['4FGL Assoc'] = [name.replace('LJ', 'L J') for name in final['4FGL Assoc']]\n",
    "hdu_list = fits.open('./catalogs/gammaray/4LAC-DR3.fits')\n",
    "lac = Table(hdu_list[1].data)\n",
    "catalog = SkyCoord(ra = lac['RACdeg']*u.degree, dec = lac['DECdeg']*u.degree, frame = 'fk5')\n",
    "idx, d2d, d3d = c.match_to_catalog_sky(catalog)\n",
    "mask = d2d.arcsec <= 5.0\n",
    "final['4LAC Assoc'] = Column(['']*len(final), dtype = 'U28')\n",
    "final['4LAC Assoc'][mask] = lac['Assoc1'][idx[mask]]\n",
    "hdu_list = fits.open('./catalogs/gammaray/1CGH_Preliminary_V2.0.fits')\n",
    "cgh = Table(hdu_list[1].data)\n",
    "catalog = SkyCoord(ra = cgh['RA_1CGH']*u.degree, dec = cgh['DEC_1CGH']*u.degree, frame = 'fk5')\n",
    "idx, d2d, d3d = c.match_to_catalog_sky(catalog)\n",
    "mask = d2d.arcsec <= 5.0\n",
    "final['1CGH Assoc'] = Column(['']*len(final), dtype = 'U28')\n",
    "final['1CGH Assoc'][mask] = cgh['Counterpart_name'][idx[mask]]\n"
   ]
  },
  {
   "cell_type": "code",
   "execution_count": 234,
   "metadata": {},
   "outputs": [
    {
     "name": "stderr",
     "output_type": "stream",
     "text": [
      "WARNING: VerifyWarning: Invalid keyword for column 10: ASCII table null option (TNULLn) is longer than the column's character width and will be truncated (got '255'). [astropy.io.fits.column]\n"
     ]
    }
   ],
   "source": [
    "hdu_list = fits.open('./catalogs/other_blazar-hbl_cats/bzcat.fits')\n",
    "bzcat = Table(hdu_list[1].data)\n",
    "catalog = SkyCoord(ra = bzcat['RA']*u.degree, dec = bzcat['DEC']*u.degree, frame = 'fk5')\n",
    "idx, d2d, d3d = c.match_to_catalog_sky(catalog)\n",
    "mask = d2d.arcsec <= 5\n",
    "final['BZCAT Assoc'] = Column(['']*len(final), dtype = 'U15')\n",
    "final['BZCAT OTYPE'] = Column(['']*len(final), dtype = 'U24')\n",
    "for i in range(len(final)): \n",
    "    if(mask[i]): \n",
    "        name = bzcat['NAME'][idx[i]]\n",
    "        name = name[10:]\n",
    "        final['BZCAT Assoc'][i] = name\n",
    "        final['BZCAT OTYPE'][i] = bzcat['OBJECT_TYPE'][idx[i]]\n",
    "        final['BZCAT OTYPE'][i] = final['BZCAT OTYPE'][i].replace('  ', '')\n",
    "hdu_list = fits.open('./catalogs/other_blazar-hbl_cats/3HSP.fits')\n",
    "hsp3 = Table(hdu_list[1].data)\n",
    "catalog = SkyCoord(ra = hsp3['RAJ2000']*u.degree, dec = hsp3['DEJ2000']*u.degree, frame = 'fk5')\n",
    "idx, d2d, d3d = c.match_to_catalog_sky(catalog)\n",
    "mask = d2d.arcsec <= 5\n",
    "final['3HSP Assoc'] = Column(['']*len(final), dtype = 'U20')\n",
    "final['3HSP Assoc'][mask] = hsp3['Name'][idx[mask]]\n",
    "hdu_list = fits.open('./catalogs/other_blazar-hbl_cats/1whsp.fits')\n",
    "whsp1 = Table(hdu_list[1].data)\n",
    "catalog = SkyCoord(ra = whsp1['_RA']*u.degree, dec = whsp1['_DE']*u.degree, frame = 'fk5')\n",
    "idx, d2d, d3d = c.match_to_catalog_sky(catalog)\n",
    "mask = d2d.arcsec <= 5\n",
    "final['1WHSP Assoc'] = Column(['']*len(final), dtype = 'U15')\n",
    "final['1WHSP Assoc'][mask] = whsp1['_1WHSP'][idx[mask]]\n",
    "hdu_list= fits.open('./catalogs/other_blazar-hbl_cats/whsp2.fits')\n",
    "whsp2 = Table(hdu_list[1].data)\n",
    "catalog = SkyCoord(ra = whsp2['_RA']*u.degree, dec = whsp2['_DE']*u.degree, frame = 'fk5')\n",
    "idx, d2d, d3d = c.match_to_catalog_sky(catalog)\n",
    "mask = d2d.arcsec <= 5\n",
    "final['2WHSP Assoc'] = Column(['']*len(final), dtype = 'U15')\n",
    "final['2WHSP Assoc'][mask] = whsp2['_2WHSPJ'][idx[mask]]"
   ]
  },
  {
   "cell_type": "code",
   "execution_count": 235,
   "metadata": {},
   "outputs": [
    {
     "name": "stderr",
     "output_type": "stream",
     "text": [
      "WARNING: VerifyWarning: Invalid keyword for column 15: ASCII table null option (TNULLn) is longer than the column's character width and will be truncated (got '-32768'). [astropy.io.fits.column]\n",
      "WARNING: VerifyWarning: Invalid keyword for column 9: ASCII table null option (TNULLn) is longer than the column's character width and will be truncated (got '-32768'). [astropy.io.fits.column]\n"
     ]
    }
   ],
   "source": [
    "C20 = ascii.read('./catalogs/other_blazar-hbl_cats/C20.txt')\n",
    "C20 = C20[0][:]\n",
    "final['C20'] = Column(['N']*len(final), dtype = 'U1')\n",
    "for i in range(len(final)): \n",
    "    target = final['BZCAT Assoc'][i] \n",
    "    target = target.replace(\" \", \"\")\n",
    "    if(target != \"None\"): \n",
    "        target1 = target[0:9]\n",
    "        for j in range(len(C20)): \n",
    "            c_t = C20[j]\n",
    "            c_t1 = c_t[0:9]\n",
    "            if(target1 == c_t1): \n",
    "                target2 = target[10:14]\n",
    "                c_t2 = c_t[10:14]\n",
    "                if(target2 == c_t2): \n",
    "                    final['C20'][i] = 'Y'\n",
    "\n",
    "hdu_list = fits.open('./catalogs/other_blazar-hbl_cats/dabruscot3.fits')\n",
    "dabruscot3 = Table(hdu_list[1].data)\n",
    "hdu_list = fits.open('./catalogs/other_blazar-hbl_cats/dabruscot5.fits')\n",
    "dabruscot5 = Table(hdu_list[1].data)\n",
    "final['D19'] = Column(['N']*len(final), dtype = 'U1')\n",
    "for i in range(len(final)): \n",
    "    target = final['name'][i]\n",
    "    target1 = target[0:10]\n",
    "    for j in range(len(dabruscot3)): \n",
    "        catalog = dabruscot3['WISE'][j]\n",
    "        catalog1 = catalog[0:10]\n",
    "        if(target1 == catalog1): \n",
    "           target2 = target[11:21]\n",
    "           catalog2 = catalog[11:21]\n",
    "           if(target2 == catalog2): \n",
    "               final['D19'][i] = 'Y'\n",
    "    for k in range(len(dabruscot5)): \n",
    "        catalog = dabruscot5['WISE'][k]\n",
    "        catalog1 = catalog[0:10]\n",
    "        if(target1 == catalog1): \n",
    "            target2 = target[11:21]\n",
    "            catalog2 = catalog[11:21]\n",
    "            if(target2 == catalog2): \n",
    "                final['D19'][i] = 'Y'"
   ]
  },
  {
   "cell_type": "code",
   "execution_count": 236,
   "metadata": {},
   "outputs": [],
   "source": [
    "L25 = ascii.read('./catalogs/other_blazar-hbl_cats/L25.txt')\n",
    "L25 = L25[0][:]\n",
    "final['L25'] = Column(['N']*len(final), dtype = 'U1')\n",
    "for i in range(len(final)): \n",
    "    target = final['4FGL Assoc'][i] \n",
    "    target1 = target[5:12]\n",
    "    for j in range(len(L25)): \n",
    "        l_t = L25[j]\n",
    "        l_t1 = l_t[0:7]\n",
    "        if(target1 == l_t1): \n",
    "            target2 =target[13:17]\n",
    "            l_t2 = l_t[8:12]\n",
    "            if(target2 == l_t2): \n",
    "                final['L25'][i] = 'Y'\n",
    "                \n",
    "hdu_list = fits.open('./catalogs/other_blazar-hbl_cats/Marchesi_Xray_Bl_AA_25.fits')\n",
    "marchesi = Table(hdu_list[1].data)\n",
    "final['MAR25'] = Column(['N']*len(final), dtype = 'U1')\n",
    "for i in range(len(final)): \n",
    "    target = final['BZCAT Assoc'][i]\n",
    "    if(target != \"None\"):\n",
    "        target = target.replace(\" \", \"\")\n",
    "        target1 = target[0:9]\n",
    "        for j in range(len(marchesi)): \n",
    "            catalog = marchesi['ID_5BZCAT'][j]\n",
    "            catalog1 = catalog[0:9]\n",
    "            if(target1 == catalog1): \n",
    "                target2 = target[10:14]\n",
    "                catalog2 = catalog[10:14]\n",
    "                if(target2 == catalog2): \n",
    "                    final['MAR25'][i] = 'Y'\n",
    "hdu_list = fits.open('./catalogs/other_blazar-hbl_cats/massaro_selection.fits')\n",
    "massaro = Table(hdu_list[1].data)\n",
    "final['MAS13'] = Column(['N']*len(final), dtype = 'U1')\n",
    "for i in range(len(final)): \n",
    "    name = final['name'][i]\n",
    "    if(name in massaro['WISE']): \n",
    "        final['MAS13'][i] = 'Y'\n",
    "        idx = np.where(massaro['WISE'] == name)[0][0]\n"
   ]
  },
  {
   "cell_type": "code",
   "execution_count": 237,
   "metadata": {},
   "outputs": [],
   "source": [
    "final.sort('ra')"
   ]
  },
  {
   "cell_type": "code",
   "execution_count": 238,
   "metadata": {},
   "outputs": [],
   "source": [
    "final.rename_column('name', 'WISEA')"
   ]
  },
  {
   "cell_type": "code",
   "execution_count": 239,
   "metadata": {},
   "outputs": [],
   "source": [
    "final.rename_column('ra', 'RA')\n",
    "final.rename_column('dec', 'DEC')"
   ]
  },
  {
   "cell_type": "code",
   "execution_count": 241,
   "metadata": {},
   "outputs": [
    {
     "data": {
      "text/html": [
       "<div><i>Table length=5482</i>\n",
       "<table id=\"table140521669398688\" class=\"table-striped table-bordered table-condensed\">\n",
       "<thead><tr><th>THC</th><th>WISEA</th><th>1eRASS</th><th>RA</th><th>DEC</th><th>EXT_LIKE</th><th>w2 - w3</th><th>w1 - w2</th><th>dist</th><th>Alpha IRX</th><th>TeVCAT Assoc</th><th>2FHL Assoc</th><th>3FHL Assoc</th><th>4FGL Assoc</th><th>4LAC Assoc</th><th>1CGH Assoc</th><th>BZCAT Assoc</th><th>BZCAT OTYPE</th><th>3HSP Assoc</th><th>1WHSP Assoc</th><th>2WHSP Assoc</th><th>C20</th><th>D19</th><th>L25</th><th>MAR25</th><th>MAS13</th></tr></thead>\n",
       "<thead><tr><th>str9</th><th>str19</th><th>str16</th><th>float64</th><th>float64</th><th>float32</th><th>float64</th><th>float64</th><th>float64</th><th>float64</th><th>str21</th><th>str17</th><th>str18</th><th>str18</th><th>str28</th><th>str28</th><th>str15</th><th>str24</th><th>str20</th><th>str15</th><th>str15</th><th>str1</th><th>str1</th><th>str1</th><th>str1</th><th>str1</th></tr></thead>\n",
       "<tr><td></td><td>J000027.26-750808.8</td><td>J000026.5-750806</td><td>0.1136099</td><td>-75.1357968</td><td>0.0</td><td>2.1839999999999993</td><td>0.8150000000000013</td><td>0.023428284674258962</td><td>1.1394589577747862</td><td></td><td></td><td></td><td></td><td></td><td></td><td></td><td></td><td></td><td></td><td></td><td>N</td><td>N</td><td>N</td><td>N</td><td>N</td></tr>\n",
       "<tr><td></td><td>J000038.66-463903.5</td><td>J000038.5-463903</td><td>0.161114</td><td>-46.6509755</td><td>0.0</td><td>2.0860000000000003</td><td>0.17600000000000016</td><td>0.40336722647643186</td><td>1.3941920233950544</td><td></td><td></td><td></td><td></td><td></td><td></td><td></td><td></td><td></td><td></td><td></td><td>N</td><td>N</td><td>N</td><td>N</td><td>N</td></tr>\n",
       "<tr><td></td><td>J000126.45-501501.6</td><td>J000126.3-501505</td><td>0.3602134</td><td>-50.2504621</td><td>0.0</td><td>2.158999999999999</td><td>0.5210000000000008</td><td>0.1858417415014598</td><td>1.3601995464764045</td><td></td><td></td><td></td><td></td><td></td><td></td><td></td><td></td><td></td><td></td><td></td><td>N</td><td>N</td><td>N</td><td>N</td><td>N</td></tr>\n",
       "<tr><td>J0001-419</td><td>J000132.74-415525.2</td><td>J000132.7-415526</td><td>0.3864515</td><td>-41.9236926</td><td>0.0</td><td>2.1709999999999994</td><td>0.6799999999999997</td><td>0.07168848188704327</td><td>0.7223740485184954</td><td></td><td></td><td>3FHL J0001.9-4155</td><td>4FGL J0001.6-4156</td><td>2MASS J00013275-4155252</td><td>3HSPJ000132.7-415525</td><td></td><td></td><td>3HSPJ000132.7-415525</td><td>000132.7-415525</td><td>000132.6-415524</td><td>N</td><td>Y</td><td>N</td><td>N</td><td>N</td></tr>\n",
       "<tr><td></td><td>J000347.32-501150.4</td><td>J000347.3-501149</td><td>0.9471974</td><td>-50.19736</td><td>0.0</td><td>1.2729999999999997</td><td>0.0860000000000003</td><td>0.04987380269145551</td><td>1.345478674211382</td><td></td><td></td><td></td><td></td><td></td><td></td><td></td><td></td><td></td><td></td><td></td><td>N</td><td>N</td><td>N</td><td>N</td><td>N</td></tr>\n",
       "<tr><td></td><td>J000434.22-400035.1</td><td>J000434.0-400038</td><td>1.1426222</td><td>-40.0097747</td><td>0.0</td><td>2.378</td><td>0.48499999999999943</td><td>0.3541045477973454</td><td>1.2987618872203737</td><td></td><td></td><td></td><td>4FGL J0004.4-4001</td><td></td><td></td><td></td><td></td><td></td><td></td><td></td><td>N</td><td>Y</td><td>N</td><td>N</td><td>N</td></tr>\n",
       "<tr><td></td><td>J000448.48-634813.5</td><td>J000448.3-634815</td><td>1.2020243</td><td>-63.8037732</td><td>0.0</td><td>2.337999999999999</td><td>0.8659999999999997</td><td>0.03640386605255049</td><td>1.0632802856837822</td><td></td><td></td><td></td><td></td><td></td><td></td><td></td><td></td><td></td><td></td><td></td><td>N</td><td>N</td><td>N</td><td>N</td><td>N</td></tr>\n",
       "<tr><td></td><td>J000450.84-691150.7</td><td>J000450.0-691149</td><td>1.2118644</td><td>-69.1974304</td><td>4.017794</td><td>1.6069999999999993</td><td>0.3310000000000013</td><td>0.02310728629784535</td><td>1.2820059790109375</td><td></td><td></td><td></td><td></td><td></td><td></td><td></td><td></td><td></td><td></td><td></td><td>N</td><td>N</td><td>N</td><td>N</td><td>N</td></tr>\n",
       "<tr><td></td><td>J000504.33-414829.8</td><td>J000504.6-414832</td><td>1.2680801</td><td>-41.8082989</td><td>0.0</td><td>1.5439999999999987</td><td>0.36400000000000077</td><td>0.08886641648213993</td><td>1.278675630175073</td><td></td><td></td><td></td><td></td><td></td><td></td><td></td><td></td><td></td><td></td><td></td><td>N</td><td>N</td><td>N</td><td>N</td><td>N</td></tr>\n",
       "<tr><td></td><td>J000554.64-395932.4</td><td>J000554.4-395932</td><td>1.477683</td><td>-39.9923593</td><td>0.0</td><td>2.296000000000001</td><td>0.8659999999999997</td><td>0.00942575661769759</td><td>1.1810464027873944</td><td></td><td></td><td></td><td></td><td></td><td></td><td></td><td></td><td></td><td></td><td></td><td>N</td><td>N</td><td>N</td><td>N</td><td>N</td></tr>\n",
       "<tr><td>...</td><td>...</td><td>...</td><td>...</td><td>...</td><td>...</td><td>...</td><td>...</td><td>...</td><td>...</td><td>...</td><td>...</td><td>...</td><td>...</td><td>...</td><td>...</td><td>...</td><td>...</td><td>...</td><td>...</td><td>...</td><td>...</td><td>...</td><td>...</td><td>...</td><td>...</td></tr>\n",
       "<tr><td></td><td>J235112.30-680622.3</td><td>J235112.2-680621</td><td>357.8012732</td><td>-68.1062199</td><td>0.0</td><td>2.2230000000000008</td><td>0.43900000000000006</td><td>0.2897979450661555</td><td>0.9569173382562195</td><td></td><td></td><td></td><td></td><td></td><td></td><td></td><td></td><td></td><td></td><td></td><td>N</td><td>N</td><td>N</td><td>N</td><td>N</td></tr>\n",
       "<tr><td></td><td>J235116.13-760015.5</td><td>J235116.2-760012</td><td>357.8172161</td><td>-76.004313</td><td>0.0</td><td>1.8650000000000002</td><td>0.5899999999999999</td><td>0.05588822624581838</td><td>1.0508715186112565</td><td></td><td>2FHL J2352.0-7558</td><td>3FHL J2351.5-7559</td><td>4FGL J2351.3-7559</td><td>SUMSS J235115-760012</td><td>3HSPJ235116.1-760015</td><td></td><td></td><td>3HSPJ235116.1-760015</td><td></td><td>235116.0-760015</td><td>N</td><td>N</td><td>N</td><td>N</td><td>N</td></tr>\n",
       "<tr><td></td><td>J235240.33-350859.6</td><td>J235240.2-350900</td><td>358.168059</td><td>-35.1498959</td><td>0.0</td><td>2.333</td><td>0.6210000000000004</td><td>0.22096587356529668</td><td>1.249047512961768</td><td></td><td></td><td></td><td></td><td></td><td></td><td></td><td></td><td></td><td></td><td></td><td>N</td><td>N</td><td>N</td><td>N</td><td>N</td></tr>\n",
       "<tr><td></td><td>J235305.29-385443.9</td><td>J235304.9-385445</td><td>358.2720505</td><td>-38.9122189</td><td>0.0</td><td>2.109</td><td>0.43299999999999983</td><td>0.22117018730724183</td><td>1.2637541817960416</td><td></td><td></td><td></td><td></td><td></td><td></td><td></td><td></td><td></td><td></td><td></td><td>N</td><td>N</td><td>N</td><td>N</td><td>N</td></tr>\n",
       "<tr><td></td><td>J235325.88-433458.4</td><td>J235325.8-433456</td><td>358.3578379</td><td>-43.582895</td><td>0.0</td><td>1.8820000000000014</td><td>0.46799999999999997</td><td>0.0485351167130492</td><td>1.2992742408676172</td><td></td><td></td><td></td><td></td><td></td><td></td><td></td><td></td><td></td><td></td><td></td><td>N</td><td>N</td><td>N</td><td>N</td><td>N</td></tr>\n",
       "<tr><td></td><td>J235417.16-530149.1</td><td>J235417.1-530149</td><td>358.5715098</td><td>-53.0303279</td><td>0.0</td><td>1.754999999999999</td><td>0.2940000000000005</td><td>0.10031609154744832</td><td>1.3533261085158925</td><td></td><td></td><td></td><td></td><td></td><td></td><td></td><td></td><td></td><td></td><td></td><td>N</td><td>N</td><td>N</td><td>N</td><td>N</td></tr>\n",
       "<tr><td></td><td>J235558.25-374226.2</td><td>J235558.2-374227</td><td>358.9927197</td><td>-37.7072909</td><td>0.0</td><td>2.203999999999999</td><td>0.6450000000000014</td><td>0.11971038032976591</td><td>1.320677176435087</td><td></td><td></td><td></td><td></td><td></td><td></td><td></td><td></td><td></td><td></td><td></td><td>N</td><td>N</td><td>N</td><td>N</td><td>N</td></tr>\n",
       "<tr><td></td><td>J235808.66-555124.0</td><td>J235808.9-555123</td><td>359.5360903</td><td>-55.8566831</td><td>0.0</td><td>1.4450000000000003</td><td>0.4109999999999996</td><td>0.1884795654510144</td><td>1.3476275583145565</td><td></td><td></td><td></td><td></td><td></td><td></td><td></td><td></td><td></td><td></td><td></td><td>N</td><td>N</td><td>N</td><td>N</td><td>N</td></tr>\n",
       "<tr><td></td><td>J235828.85-603351.5</td><td>J235828.8-603354</td><td>359.620212</td><td>-60.5643251</td><td>0.0</td><td>1.6829999999999998</td><td>0.10999999999999943</td><td>0.19508977515364412</td><td>1.314372433797233</td><td></td><td></td><td></td><td></td><td></td><td></td><td></td><td></td><td></td><td></td><td></td><td>N</td><td>N</td><td>N</td><td>N</td><td>N</td></tr>\n",
       "<tr><td></td><td>J235927.04-614715.3</td><td>J235926.9-614715</td><td>359.8626795</td><td>-61.7876042</td><td>0.0</td><td>1.7609999999999992</td><td>0.22600000000000087</td><td>0.15628688567120802</td><td>1.3207020700397851</td><td></td><td></td><td></td><td></td><td></td><td></td><td></td><td></td><td></td><td></td><td></td><td>N</td><td>N</td><td>N</td><td>N</td><td>N</td></tr>\n",
       "</table></div>"
      ],
      "text/plain": [
       "<Table length=5482>\n",
       "   THC           WISEA             1eRASS           RA     ... L25  MAR25 MAS13\n",
       "   str9          str19             str16         float64   ... str1  str1  str1\n",
       "--------- ------------------- ---------------- ----------- ... ---- ----- -----\n",
       "          J000027.26-750808.8 J000026.5-750806   0.1136099 ...    N     N     N\n",
       "          J000038.66-463903.5 J000038.5-463903    0.161114 ...    N     N     N\n",
       "          J000126.45-501501.6 J000126.3-501505   0.3602134 ...    N     N     N\n",
       "J0001-419 J000132.74-415525.2 J000132.7-415526   0.3864515 ...    N     N     N\n",
       "          J000347.32-501150.4 J000347.3-501149   0.9471974 ...    N     N     N\n",
       "          J000434.22-400035.1 J000434.0-400038   1.1426222 ...    N     N     N\n",
       "          J000448.48-634813.5 J000448.3-634815   1.2020243 ...    N     N     N\n",
       "          J000450.84-691150.7 J000450.0-691149   1.2118644 ...    N     N     N\n",
       "          J000504.33-414829.8 J000504.6-414832   1.2680801 ...    N     N     N\n",
       "          J000554.64-395932.4 J000554.4-395932    1.477683 ...    N     N     N\n",
       "      ...                 ...              ...         ... ...  ...   ...   ...\n",
       "          J235112.30-680622.3 J235112.2-680621 357.8012732 ...    N     N     N\n",
       "          J235116.13-760015.5 J235116.2-760012 357.8172161 ...    N     N     N\n",
       "          J235240.33-350859.6 J235240.2-350900  358.168059 ...    N     N     N\n",
       "          J235305.29-385443.9 J235304.9-385445 358.2720505 ...    N     N     N\n",
       "          J235325.88-433458.4 J235325.8-433456 358.3578379 ...    N     N     N\n",
       "          J235417.16-530149.1 J235417.1-530149 358.5715098 ...    N     N     N\n",
       "          J235558.25-374226.2 J235558.2-374227 358.9927197 ...    N     N     N\n",
       "          J235808.66-555124.0 J235808.9-555123 359.5360903 ...    N     N     N\n",
       "          J235828.85-603351.5 J235828.8-603354  359.620212 ...    N     N     N\n",
       "          J235927.04-614715.3 J235926.9-614715 359.8626795 ...    N     N     N"
      ]
     },
     "execution_count": 241,
     "metadata": {},
     "output_type": "execute_result"
    }
   ],
   "source": [
    "final"
   ]
  },
  {
   "cell_type": "code",
   "execution_count": 30,
   "metadata": {},
   "outputs": [],
   "source": [
    "hdu_list = fits.open('./catalogs/WISE_EROSITA_ALLmatches.fits')\n",
    "wise_erosita = Table(hdu_list[1].data)"
   ]
  },
  {
   "cell_type": "code",
   "execution_count": null,
   "metadata": {},
   "outputs": [],
   "source": []
  },
  {
   "cell_type": "code",
   "execution_count": null,
   "metadata": {},
   "outputs": [],
   "source": [
    "hdu_list = fits.open('./catalogs/xray/eRASS1_Main.v1.1.fits')\n",
    "erass1 = Table(hdu_list[1].data)"
   ]
  },
  {
   "cell_type": "code",
   "execution_count": 40,
   "metadata": {},
   "outputs": [],
   "source": [
    "ext_like = [erass1['EXT_LIKE'][i] for i, name in enumerate(erass1['IAUNAME']) if name in wise_erosita['eROSITA Name']]"
   ]
  },
  {
   "cell_type": "code",
   "execution_count": 71,
   "metadata": {},
   "outputs": [],
   "source": [
    "wise_erosita['EXT_LIKE'] = ext_like"
   ]
  },
  {
   "cell_type": "code",
   "execution_count": 75,
   "metadata": {},
   "outputs": [
    {
     "name": "stderr",
     "output_type": "stream",
     "text": [
      "WARNING: VerifyWarning: Invalid keyword for column 15: ASCII table null option (TNULLn) is longer than the column's character width and will be truncated (got '-32768'). [astropy.io.fits.column]\n",
      "WARNING: VerifyWarning: Invalid keyword for column 9: ASCII table null option (TNULLn) is longer than the column's character width and will be truncated (got '-32768'). [astropy.io.fits.column]\n"
     ]
    }
   ],
   "source": [
    "hdu_list = fits.open('./catalogs/other_blazar-hbl_cats/dabruscot3.fits')\n",
    "dabruscot3 = Table(hdu_list[1].data)\n",
    "hdu_list = fits.open('./catalogs/other_blazar-hbl_cats/dabruscot5.fits')\n",
    "dabruscot5 = Table(hdu_list[1].data)"
   ]
  },
  {
   "cell_type": "code",
   "execution_count": 85,
   "metadata": {},
   "outputs": [],
   "source": [
    "wise_erosita['D19'] = ['N'] *len(wise_erosita)"
   ]
  },
  {
   "cell_type": "code",
   "execution_count": 86,
   "metadata": {},
   "outputs": [],
   "source": [
    "for i in range(len(wise_erosita)): \n",
    "    if wise_erosita['WISE Name'][i] in dabruscot3['WISE']:\n",
    "        wise_erosita['D19'][i] = 'Y'\n",
    "    if wise_erosita['WISE Name'][i] in dabruscot5['WISE']:\n",
    "        wise_erosita['D19'][i] = 'Y'"
   ]
  },
  {
   "cell_type": "code",
   "execution_count": 98,
   "metadata": {},
   "outputs": [],
   "source": [
    "hdu_list = fits.open('./catalogs/gammaray/2FHL.fits')\n",
    "fhl = Table(hdu_list[1].data)"
   ]
  },
  {
   "cell_type": "code",
   "execution_count": 99,
   "metadata": {},
   "outputs": [
    {
     "data": {
      "text/html": [
       "<div><i>Table length=360</i>\n",
       "<table id=\"table140522486914592\" class=\"table-striped table-bordered table-condensed\">\n",
       "<thead><tr><th>Source_Name</th><th>RAJ2000</th><th>DEJ2000</th><th>GLON</th><th>GLAT</th><th>Pos_err_68</th><th>Pos_err_95</th><th>TS</th><th>Spectral_Index</th><th>Unc_Spectral_Index</th><th>Intr_Spectral_Index_D11</th><th>Unc_Intr_Spectral_Index_D11</th><th>Intr_Spectral_Index_G12</th><th>Unc_Intr_Spectral_Index_G12</th><th>Flux50</th><th>Unc_Flux50</th><th>Energy_Flux50</th><th>Unc_Energy_Flux50</th><th>Flux50_171GeV</th><th>Unc_Flux50_171GeV</th><th>Sqrt_TS50_171GeV</th><th>Flux171_585GeV</th><th>Unc_Flux171_585GeV</th><th>Sqrt_TS171_585GeV</th><th>Flux585_2000GeV</th><th>Unc_Flux585_2000GeV</th><th>Sqrt_TS585_2000GeV</th><th>Npred</th><th>HEP_Energy</th><th>HEP_Prob</th><th>ROI</th><th>ASSOC</th><th>ASSOC_PROB_BAY</th><th>ASSOC_PROB_LR</th><th>CLASS</th><th>Redshift</th><th>NuPeak_obs</th><th>3FGL_Name</th><th>1FHL_Name</th><th>TeVCat_Name</th></tr></thead>\n",
       "<thead><tr><th>str18</th><th>float32</th><th>float32</th><th>float32</th><th>float32</th><th>float32</th><th>float32</th><th>float32</th><th>float32</th><th>float32</th><th>float32</th><th>float32</th><th>float32</th><th>float32</th><th>float32</th><th>float32</th><th>float32</th><th>float32</th><th>float32</th><th>float32[2]</th><th>float32</th><th>float32</th><th>float32[2]</th><th>float32</th><th>float32</th><th>float32[2]</th><th>float32</th><th>float32</th><th>float32</th><th>float32</th><th>int16</th><th>str25</th><th>float32</th><th>float32</th><th>str8</th><th>float32</th><th>float32</th><th>str18</th><th>str18</th><th>str18</th></tr></thead>\n",
       "<tr><td>2FHL J0008.1+4709</td><td>2.0437</td><td>47.1642</td><td>115.339355</td><td>-15.068757</td><td>0.06111402</td><td>0.098393574</td><td>28.64</td><td>6.24</td><td>2.75</td><td>3.96</td><td>3.19</td><td>2.16</td><td>4.21</td><td>1.23e-11</td><td>6.71e-12</td><td>1.21e-12</td><td>6.71e-13</td><td>3.3634447e-12</td><td>-1.5366806e-12 .. 2.1609453e-12</td><td>5.353536</td><td>4.3494674e-18</td><td>nan .. 4.7538935e-12</td><td>0.0</td><td>8.448714e-18</td><td>nan .. 7.291014e-12</td><td>0.0</td><td>4.0</td><td>68.15</td><td>0.99</td><td>1</td><td>MG4 J000800+4712</td><td>0.99721974</td><td>0.8348271</td><td>bll</td><td>2.1</td><td>2511884200000000.0</td><td>3FGL J0008.0+4713</td><td>1FHL J0007.7+4709</td><td></td></tr>\n",
       "<tr><td>2FHL J0009.3+5031</td><td>2.3435</td><td>50.5217</td><td>116.12411</td><td>-11.793202</td><td>0.045439195</td><td>0.0731571</td><td>53.97</td><td>5.08</td><td>1.66</td><td>nan</td><td>nan</td><td>nan</td><td>nan</td><td>1.91e-11</td><td>7.82e-12</td><td>2.03e-12</td><td>8.79e-13</td><td>8.362822e-12</td><td>-2.9896227e-12 .. 3.895122e-12</td><td>7.351317</td><td>2.9145808e-17</td><td>nan .. 5.1000337e-12</td><td>0.0</td><td>3.5087458e-16</td><td>nan .. 4.874578e-12</td><td>0.0</td><td>6.4</td><td>72.76</td><td>1.0</td><td>1</td><td>NVSS J000922+503028</td><td>0.99972373</td><td>0.7348077</td><td>bll</td><td>0.0</td><td>1412536400000000.0</td><td>3FGL J0009.3+5030</td><td>1FHL J0009.2+5032</td><td></td></tr>\n",
       "<tr><td>2FHL J0018.5+2947</td><td>4.6355</td><td>29.7879</td><td>114.46349</td><td>-32.54235</td><td>0.037093636</td><td>0.059720755</td><td>30.89</td><td>2.58</td><td>0.99</td><td>2.41</td><td>1.04</td><td>2.4</td><td>1.04</td><td>1.06e-11</td><td>6.15e-12</td><td>2.05e-12</td><td>1.72e-12</td><td>9.65438e-12</td><td>-5.5534162e-12 .. 5.5534162e-12</td><td>5.765786</td><td>1.1790023e-15</td><td>nan .. 5.378652e-12</td><td>0.0</td><td>1.6046534e-16</td><td>nan .. 6.120081e-12</td><td>0.0</td><td>3.0</td><td>127.32</td><td>1.0</td><td>3</td><td>RBS 0042</td><td>0.9998682</td><td>0.97852194</td><td>bll</td><td>0.1</td><td>5.9156075e+16</td><td>3FGL J0018.4+2947</td><td>1FHL J0018.6+2946</td><td></td></tr>\n",
       "<tr><td>2FHL J0022.0+0006</td><td>5.5001</td><td>0.1059</td><td>107.171715</td><td>-61.86175</td><td>0.05118522</td><td>0.082408205</td><td>29.96</td><td>1.86</td><td>0.57</td><td>0.95</td><td>0.72</td><td>0.88</td><td>0.71</td><td>1.97e-11</td><td>9.56e-12</td><td>6.86e-12</td><td>5.29e-12</td><td>1.6119727e-11</td><td>-7.1725507e-12 .. 9.9534886e-12</td><td>5.3821964</td><td>3.6392152e-12</td><td>-4.3863624e-12 .. 4.3863624e-12</td><td>1.3853942</td><td>8.423558e-16</td><td>nan .. 7.342399e-12</td><td>0.0</td><td>4.8</td><td>180.13</td><td>0.86</td><td>2</td><td>5BZGJ0022+0006</td><td>0.99928</td><td>0.90008944</td><td>bll-g</td><td>0.306</td><td>4.315193e+16</td><td></td><td></td><td></td></tr>\n",
       "<tr><td>2FHL J0033.6-1921</td><td>8.4115</td><td>-19.3575</td><td>94.28002</td><td>-81.22237</td><td>0.034838412</td><td>0.056089845</td><td>148.31</td><td>3.32</td><td>0.69</td><td>2.56</td><td>0.88</td><td>2.33</td><td>0.92</td><td>5.46e-11</td><td>1.5e-11</td><td>7.62e-12</td><td>2.69e-12</td><td>4.0016098e-11</td><td>-1.0161534e-11 .. 1.223782e-11</td><td>12.172502</td><td>2.1390131e-12</td><td>nan .. 8.258118e-12</td><td>0.9079581</td><td>2.439548e-17</td><td>nan .. 6.8422585e-12</td><td>0.0</td><td>13.8</td><td>170.01</td><td>0.99</td><td>2</td><td>KUV 00311-1938</td><td>0.999759</td><td>0.9814242</td><td>bll</td><td>0.61</td><td>8317639000000000.0</td><td>3FGL J0033.6-1921</td><td>1FHL J0033.6-1921</td><td>TeV J0033-193</td></tr>\n",
       "<tr><td>2FHL J0035.8+5949</td><td>8.9625</td><td>59.8312</td><td>120.97197</td><td>-2.9812155</td><td>0.031602595</td><td>0.05088018</td><td>402.4</td><td>2.23</td><td>0.21</td><td>nan</td><td>nan</td><td>nan</td><td>nan</td><td>1.25e-10</td><td>1.9e-11</td><td>3.11e-11</td><td>7.23e-12</td><td>9.4229395e-11</td><td>-1.5256577e-11 .. 1.7157154e-11</td><td>17.312449</td><td>2.6699127e-11</td><td>-7.628179e-12 .. 9.450845e-12</td><td>10.390878</td><td>3.7260905e-16</td><td>nan .. 4.6744392e-12</td><td>0.0</td><td>46.5</td><td>247.62</td><td>0.96</td><td>4</td><td>1ES 0033+595</td><td>0.99995834</td><td>0.9928678</td><td>bll</td><td>0.0</td><td>1.3182593e+17</td><td>3FGL J0035.9+5949</td><td>1FHL J0035.9+5950</td><td>TeV J0035+598</td></tr>\n",
       "<tr><td>2FHL J0040.3+4049</td><td>10.0949</td><td>40.8315</td><td>120.676285</td><td>-21.991812</td><td>0.035514843</td><td>0.057178896</td><td>26.76</td><td>2.12</td><td>0.81</td><td>nan</td><td>nan</td><td>nan</td><td>nan</td><td>1.05e-11</td><td>6.3e-12</td><td>2.84e-12</td><td>2.67e-12</td><td>7.415768e-12</td><td>-4.077804e-12 .. 6.4518156e-12</td><td>4.954423</td><td>3.0030787e-12</td><td>-2.317754e-12 .. 4.466438e-12</td><td>1.7083547</td><td>4.7316626e-16</td><td>nan .. 5.7980946e-12</td><td>0.0</td><td>3.2</td><td>258.77</td><td>0.85</td><td>3</td><td>B3 0037+405</td><td>0.9987379</td><td>0.9346999</td><td>bcu I</td><td>0.0</td><td>1.0</td><td>3FGL J0040.3+4049</td><td>1FHL J0040.3+4049</td><td></td></tr>\n",
       "<tr><td>2FHL J0043.9+3424</td><td>10.9755</td><td>34.4109</td><td>121.16442</td><td>-28.434984</td><td>0.059241667</td><td>0.095379084</td><td>39.5</td><td>4.57</td><td>1.61</td><td>3.46</td><td>1.85</td><td>2.95</td><td>1.91</td><td>1.83e-11</td><td>8.24e-12</td><td>2.03e-12</td><td>9.93e-13</td><td>9.657617e-12</td><td>-4.316866e-12 .. 4.316866e-12</td><td>6.3115244</td><td>8.758609e-17</td><td>nan .. 5.2433453e-12</td><td>0.0</td><td>9.438122e-16</td><td>nan .. 5.687869e-12</td><td>0.0</td><td>5.4</td><td>109.97</td><td>0.9</td><td>3</td><td>GB6 J0043+3426</td><td>0.99859357</td><td>0.8388443</td><td>fsrq</td><td>0.966</td><td>64565484000000.0</td><td>3FGL J0043.8+3425</td><td>1FHL J0043.7+3425</td><td></td></tr>\n",
       "<tr><td>2FHL J0045.2+2127</td><td>11.3161</td><td>21.4555</td><td>121.01704</td><td>-41.393295</td><td>0.03780455</td><td>0.060865324</td><td>110.43</td><td>3.07</td><td>0.64</td><td>nan</td><td>nan</td><td>nan</td><td>nan</td><td>4.14e-11</td><td>1.26e-11</td><td>6.29e-12</td><td>2.45e-12</td><td>3.1153188e-11</td><td>-8.930081e-12 .. 1.101035e-11</td><td>10.240447</td><td>2.9971193e-12</td><td>-3.030543e-12 .. 3.030543e-12</td><td>2.708902</td><td>4.683478e-17</td><td>nan .. 6.4231385e-12</td><td>0.0</td><td>11.4</td><td>246.75</td><td>0.99</td><td>5</td><td>GB6 J0045+2127</td><td>0.9996096</td><td>0.9651269</td><td>bll</td><td>0.0</td><td>1.002304e+16</td><td>3FGL J0045.3+2126</td><td>1FHL J0045.2+2126</td><td></td></tr>\n",
       "<tr><td>2FHL J0048.0+5449</td><td>12.0023</td><td>54.8281</td><td>122.433266</td><td>-8.040329</td><td>0.057205502</td><td>0.09210086</td><td>35.15</td><td>1.3</td><td>0.51</td><td>nan</td><td>nan</td><td>nan</td><td>nan</td><td>1.21e-11</td><td>6.12e-12</td><td>7.64e-12</td><td>5.72e-12</td><td>6.4313676e-12</td><td>-3.5622837e-12 .. 5.6289387e-12</td><td>4.6401024</td><td>2.9434532e-12</td><td>-3.035422e-12 .. 3.035422e-12</td><td>2.275611</td><td>3.590257e-12</td><td>-2.5184611e-12 .. 4.9053305e-12</td><td>2.8620276</td><td>4.1</td><td>605.9</td><td>0.99</td><td>4</td><td>1RXS J004754.5+544758</td><td>nan</td><td>0.906161</td><td>bcu II</td><td>0.0</td><td>7870456000000000.0</td><td>3FGL J0047.9+5447</td><td></td><td></td></tr>\n",
       "<tr><td>...</td><td>...</td><td>...</td><td>...</td><td>...</td><td>...</td><td>...</td><td>...</td><td>...</td><td>...</td><td>...</td><td>...</td><td>...</td><td>...</td><td>...</td><td>...</td><td>...</td><td>...</td><td>...</td><td>...</td><td>...</td><td>...</td><td>...</td><td>...</td><td>...</td><td>...</td><td>...</td><td>...</td><td>...</td><td>...</td><td>...</td><td>...</td><td>...</td><td>...</td><td>...</td><td>...</td><td>...</td><td>...</td><td>...</td><td>...</td></tr>\n",
       "<tr><td>2FHL J2322.5+3436</td><td>350.628</td><td>34.613</td><td>102.87579</td><td>-24.771763</td><td>0.071799815</td><td>0.11559771</td><td>28.77</td><td>2.33</td><td>0.8</td><td>2.13</td><td>0.85</td><td>2.11</td><td>0.85</td><td>1.42e-11</td><td>7.46e-12</td><td>3.24e-12</td><td>2.48e-12</td><td>1.3706217e-11</td><td>-5.990534e-12 .. 8.273254e-12</td><td>5.511089</td><td>1.5044521e-15</td><td>nan .. 5.2556817e-12</td><td>0.0</td><td>3.3439588e-16</td><td>nan .. 6.3523587e-12</td><td>0.0</td><td>4.1</td><td>166.2</td><td>0.99</td><td>133</td><td>TXS 2320+343</td><td>0.9966389</td><td>0.87790126</td><td>bll-g</td><td>0.098</td><td>1047129700000000.0</td><td>3FGL J2322.5+3436</td><td>1FHL J2322.5+3436</td><td></td></tr>\n",
       "<tr><td>2FHL J2322.7-4916</td><td>350.698</td><td>-49.2706</td><td>334.60815</td><td>-62.049187</td><td>0.038949013</td><td>0.06270791</td><td>36.84</td><td>4.58</td><td>1.69</td><td>nan</td><td>nan</td><td>nan</td><td>nan</td><td>1.75e-11</td><td>8.3e-12</td><td>1.94e-12</td><td>9.96e-13</td><td>9.1300864e-12</td><td>-3.7335608e-12 .. 5.0173784e-12</td><td>6.0522294</td><td>6.65757e-17</td><td>nan .. 5.2713697e-12</td><td>0.0</td><td>6.347128e-16</td><td>nan .. 5.772431e-12</td><td>0.0</td><td>5.1</td><td>106.33</td><td>0.9</td><td>138</td><td>SUMSS J232254-491629</td><td>0.99943393</td><td>0.9377265</td><td>bll</td><td>0.0</td><td>4466832000000000.0</td><td>3FGL J2322.9-4917</td><td></td><td></td></tr>\n",
       "<tr><td>2FHL J2323.4+5848</td><td>350.874</td><td>58.808</td><td>111.74413</td><td>-2.1403134</td><td>0.034838412</td><td>0.056089845</td><td>183.62</td><td>2.45</td><td>0.3</td><td>nan</td><td>nan</td><td>nan</td><td>nan</td><td>7.81e-11</td><td>1.53e-11</td><td>1.64e-11</td><td>4.68e-12</td><td>5.936891e-11</td><td>-1.2110057e-11 .. 1.38986435e-11</td><td>11.623798</td><td>1.0376127e-11</td><td>-4.3784516e-12 .. 6.143983e-12</td><td>5.8143535</td><td>2.9030862e-12</td><td>-2.0241562e-12 .. 3.9820235e-12</td><td>3.508337</td><td>28.8</td><td>662.12</td><td>1.0</td><td>135</td><td>Cas A</td><td>nan</td><td>0.9998325</td><td>snr</td><td>nan</td><td>nan</td><td>3FGL J2323.4+5849</td><td>1FHL J2323.3+5849</td><td>TeV J2323+588</td></tr>\n",
       "<tr><td>2FHL J2323.8+4209</td><td>350.972</td><td>42.1629</td><td>106.05886</td><td>-17.822372</td><td>0.045601647</td><td>0.073418655</td><td>70.61</td><td>4.21</td><td>1.16</td><td>4.14</td><td>1.15</td><td>4.13</td><td>1.15</td><td>3.05e-11</td><td>1.05e-11</td><td>3.55e-12</td><td>1.35e-12</td><td>1.620174e-11</td><td>-5.247084e-12 .. 6.6191224e-12</td><td>8.119378</td><td>2.0001782e-12</td><td>-1.4127128e-12 .. 2.779269e-12</td><td>2.5684886</td><td>2.1890578e-18</td><td>nan .. 5.540821e-12</td><td>0.0</td><td>9.3</td><td>230.9</td><td>0.92</td><td>133</td><td>1ES 2321+419</td><td>0.99956</td><td>0.9615062</td><td>bll</td><td>0.059</td><td>4841728400000000.0</td><td>3FGL J2323.9+4211</td><td>1FHL J2323.8+4210</td><td></td></tr>\n",
       "<tr><td>2FHL J2324.7-4041</td><td>351.195</td><td>-40.6934</td><td>350.1568</td><td>-67.58365</td><td>0.03586584</td><td>0.057744</td><td>80.93</td><td>3.18</td><td>0.83</td><td>2.94</td><td>0.87</td><td>2.9</td><td>0.87</td><td>2.97e-11</td><td>1.08e-11</td><td>4.34e-12</td><td>2.03e-12</td><td>2.1339108e-11</td><td>-7.099395e-12 .. 9.104349e-12</td><td>8.853827</td><td>2.7183436e-12</td><td>-2.1171383e-12 .. 4.116685e-12</td><td>1.6579158</td><td>3.547171e-17</td><td>nan .. 6.3514e-12</td><td>0.0</td><td>8.0</td><td>118.48</td><td>1.0</td><td>138</td><td>1ES 2322-409</td><td>0.99946654</td><td>0.9855157</td><td>bll</td><td>0.173587</td><td>8317639000000000.0</td><td>3FGL J2324.7-4040</td><td>1FHL J2324.6-4041</td><td></td></tr>\n",
       "<tr><td>2FHL J2329.2+3754</td><td>352.308</td><td>37.9157</td><td>105.53183</td><td>-22.16268</td><td>0.038538978</td><td>0.062047757</td><td>39.4</td><td>3.29</td><td>1.19</td><td>2.99</td><td>1.28</td><td>2.92</td><td>1.28</td><td>1.43e-11</td><td>7.17e-12</td><td>2.02e-12</td><td>1.25e-12</td><td>1.1130363e-11</td><td>-4.6961983e-12 .. 6.5287966e-12</td><td>6.3114944</td><td>4.4041454e-16</td><td>nan .. 5.477368e-12</td><td>0.0</td><td>2.6406502e-17</td><td>nan .. 5.9254654e-12</td><td>0.0</td><td>4.3</td><td>142.13</td><td>0.98</td><td>133</td><td>NVSS J232914+375414</td><td>0.99979174</td><td>0.95636314</td><td>bll</td><td>0.264</td><td>8912505400000000.0</td><td>3FGL J2329.2+3754</td><td>1FHL J2329.1+3754</td><td></td></tr>\n",
       "<tr><td>2FHL J2340.8+8014</td><td>355.203</td><td>80.2447</td><td>119.83777</td><td>17.79993</td><td>0.034893442</td><td>0.056178443</td><td>69.79</td><td>4.2</td><td>1.28</td><td>4.0</td><td>1.36</td><td>3.94</td><td>1.37</td><td>1.95e-11</td><td>7.24e-12</td><td>2.26e-12</td><td>9.72e-13</td><td>1.1639776e-11</td><td>-3.811828e-12 .. 4.8279145e-12</td><td>8.387453</td><td>1.2570346e-16</td><td>nan .. 3.7181217e-12</td><td>0.0</td><td>1.1362121e-15</td><td>nan .. 4.047232e-12</td><td>0.0</td><td>7.9</td><td>80.85</td><td>0.86</td><td>125</td><td>1RXS J234051.4+801513</td><td>0.9998745</td><td>0.97943515</td><td>bll</td><td>0.274</td><td>3427676800000000.0</td><td>3FGL J2340.7+8016</td><td>1FHL J2341.3+8016</td><td></td></tr>\n",
       "<tr><td>2FHL J2343.5+3438</td><td>355.898</td><td>34.6484</td><td>107.42183</td><td>-26.171658</td><td>0.071505584</td><td>0.11512399</td><td>27.43</td><td>4.99</td><td>2.36</td><td>4.88</td><td>2.43</td><td>4.79</td><td>2.44</td><td>1.33e-11</td><td>7.32e-12</td><td>1.41e-12</td><td>8.56e-13</td><td>5.9425394e-12</td><td>-2.732224e-12 .. 3.8524665e-12</td><td>5.234698</td><td>5.086273e-17</td><td>nan .. 8.363173e-12</td><td>0.0</td><td>3.1470887e-16</td><td>nan .. 5.6851962e-12</td><td>0.0</td><td>3.9</td><td>72.66</td><td>1.0</td><td>133</td><td>1RXS J234332.5+343957</td><td>0.99914765</td><td>0.9554292</td><td>bll</td><td>0.366</td><td>1029200060000000.0</td><td>3FGL J2343.7+3437</td><td></td><td></td></tr>\n",
       "<tr><td>2FHL J2347.1+5142</td><td>356.75</td><td>51.7081</td><td>112.879944</td><td>-9.90159</td><td>0.03354639</td><td>0.054009683</td><td>209.84</td><td>1.85</td><td>0.25</td><td>1.74</td><td>0.26</td><td>1.73</td><td>0.26</td><td>7.48e-11</td><td>1.54e-11</td><td>2.62e-11</td><td>8.56e-12</td><td>4.788841e-11</td><td>-1.1559573e-11 .. 1.3389954e-11</td><td>11.282044</td><td>2.4289425e-11</td><td>-7.681043e-12 .. 9.877774e-12</td><td>8.8576975</td><td>3.5138778e-12</td><td>-3.5528204e-12 .. 3.5528204e-12</td><td>2.6657157</td><td>25.2</td><td>652.31</td><td>0.99</td><td>1</td><td>1ES 2344+514</td><td>0.99986017</td><td>0.98808235</td><td>bll</td><td>0.044</td><td>7079464000000000.0</td><td>3FGL J2347.0+5142</td><td>1FHL J2347.0+5142</td><td>TeV J2347+517</td></tr>\n",
       "<tr><td>2FHL J2352.0-7558</td><td>358.019</td><td>-75.9718</td><td>307.623</td><td>-40.611088</td><td>0.0733733</td><td>0.11813102</td><td>28.49</td><td>3.37</td><td>1.24</td><td>nan</td><td>nan</td><td>nan</td><td>nan</td><td>1.18e-11</td><td>6.14e-12</td><td>1.63e-12</td><td>1.03e-12</td><td>9.00308e-12</td><td>-3.9132994e-12 .. 5.477288e-12</td><td>5.389353</td><td>3.9078217e-16</td><td>nan .. 4.95279e-12</td><td>0.0</td><td>3.2339844e-17</td><td>nan .. 5.167223e-12</td><td>0.0</td><td>3.9</td><td>134.72</td><td>1.0</td><td>137</td><td></td><td>nan</td><td>nan</td><td>unk</td><td>nan</td><td>nan</td><td>3FGL J2351.9-7601</td><td></td><td></td></tr>\n",
       "</table></div>"
      ],
      "text/plain": [
       "<Table length=360>\n",
       "   Source_Name    RAJ2000 DEJ2000  ...     1FHL_Name      TeVCat_Name \n",
       "      str18       float32 float32  ...       str18           str18    \n",
       "----------------- ------- -------- ... ----------------- -------------\n",
       "2FHL J0008.1+4709  2.0437  47.1642 ... 1FHL J0007.7+4709              \n",
       "2FHL J0009.3+5031  2.3435  50.5217 ... 1FHL J0009.2+5032              \n",
       "2FHL J0018.5+2947  4.6355  29.7879 ... 1FHL J0018.6+2946              \n",
       "2FHL J0022.0+0006  5.5001   0.1059 ...                                \n",
       "2FHL J0033.6-1921  8.4115 -19.3575 ... 1FHL J0033.6-1921 TeV J0033-193\n",
       "2FHL J0035.8+5949  8.9625  59.8312 ... 1FHL J0035.9+5950 TeV J0035+598\n",
       "2FHL J0040.3+4049 10.0949  40.8315 ... 1FHL J0040.3+4049              \n",
       "2FHL J0043.9+3424 10.9755  34.4109 ... 1FHL J0043.7+3425              \n",
       "2FHL J0045.2+2127 11.3161  21.4555 ... 1FHL J0045.2+2126              \n",
       "2FHL J0048.0+5449 12.0023  54.8281 ...                                \n",
       "              ...     ...      ... ...               ...           ...\n",
       "2FHL J2322.5+3436 350.628   34.613 ... 1FHL J2322.5+3436              \n",
       "2FHL J2322.7-4916 350.698 -49.2706 ...                                \n",
       "2FHL J2323.4+5848 350.874   58.808 ... 1FHL J2323.3+5849 TeV J2323+588\n",
       "2FHL J2323.8+4209 350.972  42.1629 ... 1FHL J2323.8+4210              \n",
       "2FHL J2324.7-4041 351.195 -40.6934 ... 1FHL J2324.6-4041              \n",
       "2FHL J2329.2+3754 352.308  37.9157 ... 1FHL J2329.1+3754              \n",
       "2FHL J2340.8+8014 355.203  80.2447 ... 1FHL J2341.3+8016              \n",
       "2FHL J2343.5+3438 355.898  34.6484 ...                                \n",
       "2FHL J2347.1+5142  356.75  51.7081 ... 1FHL J2347.0+5142 TeV J2347+517\n",
       "2FHL J2352.0-7558 358.019 -75.9718 ...                                "
      ]
     },
     "execution_count": 99,
     "metadata": {},
     "output_type": "execute_result"
    }
   ],
   "source": [
    "fhl"
   ]
  },
  {
   "cell_type": "code",
   "execution_count": 95,
   "metadata": {},
   "outputs": [],
   "source": [
    "final = Table([wise_erosita['w1mpro'], wise_erosita['w1sigmpro'], wise_erosita['w2mpro'], wise_erosita['w2sigmpro'], wise_erosita['w3mpro'], wise_erosita['w3sigmpro'], wise_erosita['dist'], wise_erosita['Alpha_IRX'], wise_erosita['EXT_LIKE'], wise_erosita['2FHL Assoc'], wise_erosita['3FHL Assoc'], wise_erosita['4FGL Assoc'], wise_erosita['4LAC-DR4 Assoc'], wise_erosita['BZCAT Assoc'], wise_erosita['BZCAT OTYPE'], wise_erosita['3HSP Assoc'], wise_erosita['1WHSP Assoc'], wise_erosita['2WHSP Assoc'], wise_erosita['C20'], wise_erosita['D19'], wise_erosita['L25'], wise_erosita['MAR25'], wise_erosita['MAS13']])"
   ]
  },
  {
   "cell_type": "code",
   "execution_count": 207,
   "metadata": {},
   "outputs": [],
   "source": [
    "wise_erosita = final"
   ]
  },
  {
   "cell_type": "code",
   "execution_count": 208,
   "metadata": {},
   "outputs": [
    {
     "data": {
      "text/html": [
       "<div><i>Table length=5634</i>\n",
       "<table id=\"table140522211776112\" class=\"table-striped table-bordered table-condensed\">\n",
       "<thead><tr><th>THC</th><th>WISEA</th><th>1eRASS</th><th>RA</th><th>DEC</th><th>EXT_LIKE</th><th>w2 - w3</th><th>w1 - w2</th><th>dist</th><th>Alpha IRX</th><th>TeVCAT Assoc</th><th>2FHL Assoc</th><th>3FHL Assoc</th><th>4FGL Assoc</th><th>4LAC Assoc</th><th>1CGH Assoc</th><th>BZCAT Assoc</th><th>BZCAT OTYPE</th><th>3HSP Assoc</th><th>1WHSP Assoc</th><th>2WHSP Assoc</th><th>C20</th><th>D19</th><th>L25</th><th>MAR25</th><th>MAS13</th></tr></thead>\n",
       "<thead><tr><th>str9</th><th>str19</th><th>str16</th><th>float64</th><th>float64</th><th>float32</th><th>float64</th><th>float64</th><th>float64</th><th>float64</th><th>str21</th><th>str17</th><th>str18</th><th>str18</th><th>str28</th><th>str28</th><th>str15</th><th>str24</th><th>str20</th><th>str15</th><th>str15</th><th>str1</th><th>str1</th><th>str1</th><th>str1</th><th>str1</th></tr></thead>\n",
       "<tr><td></td><td>J000027.26-750808.8</td><td>J000026.5-750806</td><td>0.1136099</td><td>-75.1357968</td><td>0.0</td><td>2.1839999999999993</td><td>0.8150000000000013</td><td>0.023428284674258962</td><td>1.1394589577747862</td><td></td><td></td><td></td><td></td><td></td><td></td><td></td><td></td><td></td><td></td><td></td><td>N</td><td>N</td><td>N</td><td>N</td><td>N</td></tr>\n",
       "<tr><td></td><td>J000038.66-463903.5</td><td>J000038.5-463903</td><td>0.161114</td><td>-46.6509755</td><td>0.0</td><td>2.0860000000000003</td><td>0.17600000000000016</td><td>0.40336722647643186</td><td>1.3941920233950544</td><td></td><td></td><td></td><td></td><td></td><td></td><td></td><td></td><td></td><td></td><td></td><td>N</td><td>N</td><td>N</td><td>N</td><td>N</td></tr>\n",
       "<tr><td></td><td>J000126.45-501501.6</td><td>J000126.3-501505</td><td>0.3602134</td><td>-50.2504621</td><td>0.0</td><td>2.158999999999999</td><td>0.5210000000000008</td><td>0.1858417415014598</td><td>1.3601995464764045</td><td></td><td></td><td></td><td></td><td></td><td></td><td></td><td></td><td></td><td></td><td></td><td>N</td><td>N</td><td>N</td><td>N</td><td>N</td></tr>\n",
       "<tr><td>J0001-419</td><td>J000132.74-415525.2</td><td>J000132.7-415526</td><td>0.3864515</td><td>-41.9236926</td><td>0.0</td><td>2.1709999999999994</td><td>0.6799999999999997</td><td>0.07168848188704327</td><td>0.7223740485184954</td><td></td><td></td><td>3FHL J0001.9-4155</td><td>4FGL J0001.6-4156</td><td>2MASS J00013275-4155252</td><td>3HSPJ000132.7-415525</td><td></td><td></td><td>3HSPJ000132.7-415525</td><td>000132.7-415525</td><td>000132.6-415524</td><td>N</td><td>Y</td><td>N</td><td>N</td><td>N</td></tr>\n",
       "<tr><td></td><td>J000347.32-501150.4</td><td>J000347.3-501149</td><td>0.9471974</td><td>-50.19736</td><td>0.0</td><td>1.2729999999999997</td><td>0.0860000000000003</td><td>0.04987380269145551</td><td>1.345478674211382</td><td></td><td></td><td></td><td></td><td></td><td></td><td></td><td></td><td></td><td></td><td></td><td>N</td><td>N</td><td>N</td><td>N</td><td>N</td></tr>\n",
       "<tr><td></td><td>J000434.22-400035.1</td><td>J000434.0-400038</td><td>1.1426222</td><td>-40.0097747</td><td>0.0</td><td>2.378</td><td>0.48499999999999943</td><td>0.3541045477973454</td><td>1.2987618872203737</td><td></td><td></td><td></td><td>4FGL J0004.4-4001</td><td></td><td></td><td></td><td></td><td></td><td></td><td></td><td>N</td><td>Y</td><td>N</td><td>N</td><td>N</td></tr>\n",
       "<tr><td></td><td>J000448.48-634813.5</td><td>J000448.3-634815</td><td>1.2020243</td><td>-63.8037732</td><td>0.0</td><td>2.337999999999999</td><td>0.8659999999999997</td><td>0.03640386605255049</td><td>1.0632802856837822</td><td></td><td></td><td></td><td></td><td></td><td></td><td></td><td></td><td></td><td></td><td></td><td>N</td><td>N</td><td>N</td><td>N</td><td>N</td></tr>\n",
       "<tr><td></td><td>J000450.84-691150.7</td><td>J000450.0-691149</td><td>1.2118644</td><td>-69.1974304</td><td>4.017794</td><td>1.6069999999999993</td><td>0.3310000000000013</td><td>0.02310728629784535</td><td>1.2820059790109375</td><td></td><td></td><td></td><td></td><td></td><td></td><td></td><td></td><td></td><td></td><td></td><td>N</td><td>N</td><td>N</td><td>N</td><td>N</td></tr>\n",
       "<tr><td></td><td>J000504.33-414829.8</td><td>J000504.6-414832</td><td>1.2680801</td><td>-41.8082989</td><td>0.0</td><td>1.5439999999999987</td><td>0.36400000000000077</td><td>0.08886641648213993</td><td>1.278675630175073</td><td></td><td></td><td></td><td></td><td></td><td></td><td></td><td></td><td></td><td></td><td></td><td>N</td><td>N</td><td>N</td><td>N</td><td>N</td></tr>\n",
       "<tr><td></td><td>J000554.64-395932.4</td><td>J000554.4-395932</td><td>1.477683</td><td>-39.9923593</td><td>0.0</td><td>2.296000000000001</td><td>0.8659999999999997</td><td>0.00942575661769759</td><td>1.1810464027873944</td><td></td><td></td><td></td><td></td><td></td><td></td><td></td><td></td><td></td><td></td><td></td><td>N</td><td>N</td><td>N</td><td>N</td><td>N</td></tr>\n",
       "<tr><td>...</td><td>...</td><td>...</td><td>...</td><td>...</td><td>...</td><td>...</td><td>...</td><td>...</td><td>...</td><td>...</td><td>...</td><td>...</td><td>...</td><td>...</td><td>...</td><td>...</td><td>...</td><td>...</td><td>...</td><td>...</td><td>...</td><td>...</td><td>...</td><td>...</td><td>...</td></tr>\n",
       "<tr><td></td><td>J235112.30-680622.3</td><td>J235112.2-680621</td><td>357.8012732</td><td>-68.1062199</td><td>0.0</td><td>2.2230000000000008</td><td>0.43900000000000006</td><td>0.2897979450661555</td><td>0.9569173382562195</td><td></td><td></td><td></td><td></td><td></td><td></td><td></td><td></td><td></td><td></td><td></td><td>N</td><td>N</td><td>N</td><td>N</td><td>N</td></tr>\n",
       "<tr><td></td><td>J235116.13-760015.5</td><td>J235116.2-760012</td><td>357.8172161</td><td>-76.004313</td><td>0.0</td><td>1.8650000000000002</td><td>0.5899999999999999</td><td>0.05588822624581838</td><td>1.0508715186112565</td><td></td><td>2FHL J2352.0-7558</td><td>3FHL J2351.5-7559</td><td>4FGL J2351.3-7559</td><td>SUMSS J235115-760012</td><td>3HSPJ235116.1-760015</td><td></td><td></td><td>3HSPJ235116.1-760015</td><td></td><td>235116.0-760015</td><td>N</td><td>N</td><td>N</td><td>N</td><td>N</td></tr>\n",
       "<tr><td></td><td>J235240.33-350859.6</td><td>J235240.2-350900</td><td>358.168059</td><td>-35.1498959</td><td>0.0</td><td>2.333</td><td>0.6210000000000004</td><td>0.22096587356529668</td><td>1.249047512961768</td><td></td><td></td><td></td><td></td><td></td><td></td><td></td><td></td><td></td><td></td><td></td><td>N</td><td>N</td><td>N</td><td>N</td><td>N</td></tr>\n",
       "<tr><td></td><td>J235305.29-385443.9</td><td>J235304.9-385445</td><td>358.2720505</td><td>-38.9122189</td><td>0.0</td><td>2.109</td><td>0.43299999999999983</td><td>0.22117018730724183</td><td>1.2637541817960416</td><td></td><td></td><td></td><td></td><td></td><td></td><td></td><td></td><td></td><td></td><td></td><td>N</td><td>N</td><td>N</td><td>N</td><td>N</td></tr>\n",
       "<tr><td></td><td>J235325.88-433458.4</td><td>J235325.8-433456</td><td>358.3578379</td><td>-43.582895</td><td>0.0</td><td>1.8820000000000014</td><td>0.46799999999999997</td><td>0.0485351167130492</td><td>1.2992742408676172</td><td></td><td></td><td></td><td></td><td></td><td></td><td></td><td></td><td></td><td></td><td></td><td>N</td><td>N</td><td>N</td><td>N</td><td>N</td></tr>\n",
       "<tr><td></td><td>J235417.16-530149.1</td><td>J235417.1-530149</td><td>358.5715098</td><td>-53.0303279</td><td>0.0</td><td>1.754999999999999</td><td>0.2940000000000005</td><td>0.10031609154744832</td><td>1.3533261085158925</td><td></td><td></td><td></td><td></td><td></td><td></td><td></td><td></td><td></td><td></td><td></td><td>N</td><td>N</td><td>N</td><td>N</td><td>N</td></tr>\n",
       "<tr><td></td><td>J235558.25-374226.2</td><td>J235558.2-374227</td><td>358.9927197</td><td>-37.7072909</td><td>0.0</td><td>2.203999999999999</td><td>0.6450000000000014</td><td>0.11971038032976591</td><td>1.320677176435087</td><td></td><td></td><td></td><td></td><td></td><td></td><td></td><td></td><td></td><td></td><td></td><td>N</td><td>N</td><td>N</td><td>N</td><td>N</td></tr>\n",
       "<tr><td></td><td>J235808.66-555124.0</td><td>J235808.9-555123</td><td>359.5360903</td><td>-55.8566831</td><td>0.0</td><td>1.4450000000000003</td><td>0.4109999999999996</td><td>0.1884795654510144</td><td>1.3476275583145565</td><td></td><td></td><td></td><td></td><td></td><td></td><td></td><td></td><td></td><td></td><td></td><td>N</td><td>N</td><td>N</td><td>N</td><td>N</td></tr>\n",
       "<tr><td></td><td>J235828.85-603351.5</td><td>J235828.8-603354</td><td>359.620212</td><td>-60.5643251</td><td>0.0</td><td>1.6829999999999998</td><td>0.10999999999999943</td><td>0.19508977515364412</td><td>1.314372433797233</td><td></td><td></td><td></td><td></td><td></td><td></td><td></td><td></td><td></td><td></td><td></td><td>N</td><td>N</td><td>N</td><td>N</td><td>N</td></tr>\n",
       "<tr><td></td><td>J235927.04-614715.3</td><td>J235926.9-614715</td><td>359.8626795</td><td>-61.7876042</td><td>0.0</td><td>1.7609999999999992</td><td>0.22600000000000087</td><td>0.15628688567120802</td><td>1.3207020700397851</td><td></td><td></td><td></td><td></td><td></td><td></td><td></td><td></td><td></td><td></td><td></td><td>N</td><td>N</td><td>N</td><td>N</td><td>N</td></tr>\n",
       "</table></div>"
      ],
      "text/plain": [
       "<Table length=5634>\n",
       "   THC           WISEA             1eRASS           RA     ... L25  MAR25 MAS13\n",
       "   str9          str19             str16         float64   ... str1  str1  str1\n",
       "--------- ------------------- ---------------- ----------- ... ---- ----- -----\n",
       "          J000027.26-750808.8 J000026.5-750806   0.1136099 ...    N     N     N\n",
       "          J000038.66-463903.5 J000038.5-463903    0.161114 ...    N     N     N\n",
       "          J000126.45-501501.6 J000126.3-501505   0.3602134 ...    N     N     N\n",
       "J0001-419 J000132.74-415525.2 J000132.7-415526   0.3864515 ...    N     N     N\n",
       "          J000347.32-501150.4 J000347.3-501149   0.9471974 ...    N     N     N\n",
       "          J000434.22-400035.1 J000434.0-400038   1.1426222 ...    N     N     N\n",
       "          J000448.48-634813.5 J000448.3-634815   1.2020243 ...    N     N     N\n",
       "          J000450.84-691150.7 J000450.0-691149   1.2118644 ...    N     N     N\n",
       "          J000504.33-414829.8 J000504.6-414832   1.2680801 ...    N     N     N\n",
       "          J000554.64-395932.4 J000554.4-395932    1.477683 ...    N     N     N\n",
       "      ...                 ...              ...         ... ...  ...   ...   ...\n",
       "          J235112.30-680622.3 J235112.2-680621 357.8012732 ...    N     N     N\n",
       "          J235116.13-760015.5 J235116.2-760012 357.8172161 ...    N     N     N\n",
       "          J235240.33-350859.6 J235240.2-350900  358.168059 ...    N     N     N\n",
       "          J235305.29-385443.9 J235304.9-385445 358.2720505 ...    N     N     N\n",
       "          J235325.88-433458.4 J235325.8-433456 358.3578379 ...    N     N     N\n",
       "          J235417.16-530149.1 J235417.1-530149 358.5715098 ...    N     N     N\n",
       "          J235558.25-374226.2 J235558.2-374227 358.9927197 ...    N     N     N\n",
       "          J235808.66-555124.0 J235808.9-555123 359.5360903 ...    N     N     N\n",
       "          J235828.85-603351.5 J235828.8-603354  359.620212 ...    N     N     N\n",
       "          J235927.04-614715.3 J235926.9-614715 359.8626795 ...    N     N     N"
      ]
     },
     "execution_count": 208,
     "metadata": {},
     "output_type": "execute_result"
    }
   ],
   "source": [
    "wise_erosita"
   ]
  },
  {
   "cell_type": "code",
   "execution_count": null,
   "metadata": {},
   "outputs": [
    {
     "data": {
      "text/html": [
       "<div><i>Table length=5482</i>\n",
       "<table id=\"table140521666652096\" class=\"table-striped table-bordered table-condensed\">\n",
       "<thead><tr><th>w1mpro</th><th>w1sigmpro</th><th>w2mpro</th><th>w2sigmpro</th><th>w3mpro</th><th>w3sigmpro</th><th>dist</th><th>Alpha_IRX</th><th>EXT_LIKE</th><th>2FHL Assoc</th><th>3FHL Assoc</th><th>4FGL Assoc</th><th>4LAC-DR4 Assoc</th><th>BZCAT Assoc</th><th>BZCAT OTYPE</th><th>3HSP Assoc</th><th>1WHSP Assoc</th><th>2WHSP Assoc</th><th>C20</th><th>D19</th><th>L25</th><th>MAR25</th><th>MAS13</th></tr></thead>\n",
       "<thead><tr><th>float64</th><th>float64</th><th>float64</th><th>float64</th><th>float64</th><th>float64</th><th>float64</th><th>float64</th><th>float32</th><th>str17</th><th>str18</th><th>str18</th><th>str18</th><th>str15</th><th>str24</th><th>str20</th><th>str15</th><th>str15</th><th>str1</th><th>str1</th><th>str1</th><th>str1</th><th>str1</th></tr></thead>\n",
       "<tr><td>13.855</td><td>0.025</td><td>13.04</td><td>0.026</td><td>10.856</td><td>0.1</td><td>0.023</td><td>1.139</td><td>0.0</td><td></td><td></td><td></td><td></td><td></td><td></td><td></td><td></td><td></td><td>N</td><td>N</td><td>N</td><td>N</td><td>N</td></tr>\n",
       "<tr><td>13.476</td><td>0.026</td><td>13.3</td><td>0.028</td><td>11.214</td><td>0.135</td><td>0.403</td><td>1.394</td><td>0.0</td><td></td><td></td><td></td><td></td><td></td><td></td><td></td><td></td><td></td><td>N</td><td>N</td><td>N</td><td>N</td><td>N</td></tr>\n",
       "<tr><td>13.974</td><td>0.029</td><td>13.453</td><td>0.031</td><td>11.294</td><td>0.191</td><td>0.186</td><td>1.36</td><td>0.0</td><td></td><td></td><td></td><td></td><td></td><td></td><td></td><td></td><td></td><td>N</td><td>N</td><td>N</td><td>N</td><td>N</td></tr>\n",
       "<tr><td>13.988</td><td>0.026</td><td>13.308</td><td>0.031</td><td>11.137</td><td>0.116</td><td>0.072</td><td>0.722</td><td>0.0</td><td></td><td>3FHL J0001.9-4155</td><td>4FGL J0001.6-4156</td><td>J0001.6-4156</td><td></td><td></td><td>3HSPJ000132.7-415525</td><td>000132.7-415525</td><td>000132.6-415524</td><td>N</td><td>Y</td><td>N</td><td>N</td><td>N</td></tr>\n",
       "<tr><td>13.432</td><td>0.026</td><td>13.346</td><td>0.029</td><td>12.073</td><td>nan</td><td>0.05</td><td>1.345</td><td>0.0</td><td></td><td></td><td></td><td></td><td></td><td></td><td></td><td></td><td></td><td>N</td><td>N</td><td>N</td><td>N</td><td>N</td></tr>\n",
       "<tr><td>13.282</td><td>0.024</td><td>12.797</td><td>0.025</td><td>10.419</td><td>0.073</td><td>0.354</td><td>1.299</td><td>0.0</td><td></td><td></td><td>4FGL J0004.4-4001</td><td></td><td></td><td></td><td></td><td></td><td></td><td>N</td><td>Y</td><td>N</td><td>N</td><td>N</td></tr>\n",
       "<tr><td>13.956</td><td>0.025</td><td>13.09</td><td>0.025</td><td>10.752</td><td>0.09</td><td>0.036</td><td>1.063</td><td>0.0</td><td></td><td></td><td></td><td></td><td></td><td></td><td></td><td></td><td></td><td>N</td><td>N</td><td>N</td><td>N</td><td>N</td></tr>\n",
       "<tr><td>13.887</td><td>0.025</td><td>13.556</td><td>0.029</td><td>11.949</td><td>0.243</td><td>0.023</td><td>1.282</td><td>0.0</td><td></td><td></td><td></td><td></td><td></td><td></td><td></td><td></td><td></td><td>N</td><td>N</td><td>N</td><td>N</td><td>N</td></tr>\n",
       "<tr><td>14.048</td><td>0.026</td><td>13.684</td><td>0.033</td><td>12.14</td><td>0.378</td><td>0.089</td><td>1.279</td><td>0.0</td><td></td><td></td><td></td><td></td><td></td><td></td><td></td><td></td><td></td><td>N</td><td>N</td><td>N</td><td>N</td><td>N</td></tr>\n",
       "<tr><td>14.064</td><td>0.026</td><td>13.198</td><td>0.028</td><td>10.902</td><td>0.107</td><td>0.009</td><td>1.181</td><td>0.0</td><td></td><td></td><td></td><td></td><td></td><td></td><td></td><td></td><td></td><td>N</td><td>N</td><td>N</td><td>N</td><td>N</td></tr>\n",
       "<tr><td>...</td><td>...</td><td>...</td><td>...</td><td>...</td><td>...</td><td>...</td><td>...</td><td>...</td><td>...</td><td>...</td><td>...</td><td>...</td><td>...</td><td>...</td><td>...</td><td>...</td><td>...</td><td>...</td><td>...</td><td>...</td><td>...</td><td>...</td></tr>\n",
       "<tr><td>13.81</td><td>0.025</td><td>13.371</td><td>0.027</td><td>11.148</td><td>0.108</td><td>0.29</td><td>0.957</td><td>0.0</td><td></td><td></td><td></td><td></td><td></td><td></td><td></td><td></td><td></td><td>N</td><td>N</td><td>N</td><td>N</td><td>N</td></tr>\n",
       "<tr><td>13.696</td><td>0.025</td><td>13.106</td><td>0.026</td><td>11.241</td><td>0.132</td><td>0.056</td><td>1.051</td><td>0.0</td><td>2FHL J2352.0-7558</td><td>3FHL J2351.5-7559</td><td>4FGL J2351.3-7559</td><td>J2351.3-7559</td><td></td><td></td><td>3HSPJ235116.1-760015</td><td></td><td>235116.0-760015</td><td>N</td><td>N</td><td>N</td><td>N</td><td>N</td></tr>\n",
       "<tr><td>11.933</td><td>0.024</td><td>11.312</td><td>0.021</td><td>8.979</td><td>0.034</td><td>0.221</td><td>1.249</td><td>0.0</td><td></td><td></td><td></td><td></td><td></td><td></td><td></td><td></td><td></td><td>N</td><td>N</td><td>N</td><td>N</td><td>N</td></tr>\n",
       "<tr><td>12.9</td><td>0.023</td><td>12.467</td><td>0.024</td><td>10.358</td><td>0.067</td><td>0.221</td><td>1.264</td><td>0.0</td><td></td><td></td><td></td><td></td><td></td><td></td><td></td><td></td><td></td><td>N</td><td>N</td><td>N</td><td>N</td><td>N</td></tr>\n",
       "<tr><td>14.14</td><td>0.027</td><td>13.672</td><td>0.032</td><td>11.79</td><td>0.226</td><td>0.049</td><td>1.299</td><td>0.0</td><td></td><td></td><td></td><td></td><td></td><td></td><td></td><td></td><td></td><td>N</td><td>N</td><td>N</td><td>N</td><td>N</td></tr>\n",
       "<tr><td>14.084</td><td>0.026</td><td>13.79</td><td>0.033</td><td>12.035</td><td>nan</td><td>0.1</td><td>1.353</td><td>0.0</td><td></td><td></td><td></td><td></td><td></td><td></td><td></td><td></td><td></td><td>N</td><td>N</td><td>N</td><td>N</td><td>N</td></tr>\n",
       "<tr><td>13.457</td><td>0.024</td><td>12.812</td><td>0.025</td><td>10.608</td><td>0.11</td><td>0.12</td><td>1.321</td><td>0.0</td><td></td><td></td><td></td><td></td><td></td><td></td><td></td><td></td><td></td><td>N</td><td>N</td><td>N</td><td>N</td><td>N</td></tr>\n",
       "<tr><td>13.952</td><td>0.025</td><td>13.541</td><td>0.031</td><td>12.096</td><td>0.304</td><td>0.188</td><td>1.348</td><td>0.0</td><td></td><td></td><td></td><td></td><td></td><td></td><td></td><td></td><td></td><td>N</td><td>N</td><td>N</td><td>N</td><td>N</td></tr>\n",
       "<tr><td>13.673</td><td>0.051</td><td>13.563</td><td>0.054</td><td>11.88</td><td>nan</td><td>0.195</td><td>1.314</td><td>0.0</td><td></td><td></td><td></td><td></td><td></td><td></td><td></td><td></td><td></td><td>N</td><td>N</td><td>N</td><td>N</td><td>N</td></tr>\n",
       "<tr><td>13.083</td><td>0.023</td><td>12.857</td><td>0.025</td><td>11.096</td><td>0.133</td><td>0.156</td><td>1.321</td><td>0.0</td><td></td><td></td><td></td><td></td><td></td><td></td><td></td><td></td><td></td><td>N</td><td>N</td><td>N</td><td>N</td><td>N</td></tr>\n",
       "</table></div>"
      ],
      "text/plain": [
       "<Table length=5482>\n",
       " w1mpro w1sigmpro  w2mpro w2sigmpro  w3mpro ... C20  D19  L25  MAR25 MAS13\n",
       "float64  float64  float64  float64  float64 ... str1 str1 str1  str1  str1\n",
       "------- --------- ------- --------- ------- ... ---- ---- ---- ----- -----\n",
       " 13.855     0.025   13.04     0.026  10.856 ...    N    N    N     N     N\n",
       " 13.476     0.026    13.3     0.028  11.214 ...    N    N    N     N     N\n",
       " 13.974     0.029  13.453     0.031  11.294 ...    N    N    N     N     N\n",
       " 13.988     0.026  13.308     0.031  11.137 ...    N    Y    N     N     N\n",
       " 13.432     0.026  13.346     0.029  12.073 ...    N    N    N     N     N\n",
       " 13.282     0.024  12.797     0.025  10.419 ...    N    Y    N     N     N\n",
       " 13.956     0.025   13.09     0.025  10.752 ...    N    N    N     N     N\n",
       " 13.887     0.025  13.556     0.029  11.949 ...    N    N    N     N     N\n",
       " 14.048     0.026  13.684     0.033   12.14 ...    N    N    N     N     N\n",
       " 14.064     0.026  13.198     0.028  10.902 ...    N    N    N     N     N\n",
       "    ...       ...     ...       ...     ... ...  ...  ...  ...   ...   ...\n",
       "  13.81     0.025  13.371     0.027  11.148 ...    N    N    N     N     N\n",
       " 13.696     0.025  13.106     0.026  11.241 ...    N    N    N     N     N\n",
       " 11.933     0.024  11.312     0.021   8.979 ...    N    N    N     N     N\n",
       "   12.9     0.023  12.467     0.024  10.358 ...    N    N    N     N     N\n",
       "  14.14     0.027  13.672     0.032   11.79 ...    N    N    N     N     N\n",
       " 14.084     0.026   13.79     0.033  12.035 ...    N    N    N     N     N\n",
       " 13.457     0.024  12.812     0.025  10.608 ...    N    N    N     N     N\n",
       " 13.952     0.025  13.541     0.031  12.096 ...    N    N    N     N     N\n",
       " 13.673     0.051  13.563     0.054   11.88 ...    N    N    N     N     N\n",
       " 13.083     0.023  12.857     0.025  11.096 ...    N    N    N     N     N"
      ]
     },
     "execution_count": 96,
     "metadata": {},
     "output_type": "execute_result"
    }
   ],
   "source": [
    "tbl= QTable(wise_erosita)\n",
    "tbl['w2mpro-w3mpro'] = tbl['w2mpro-w3mpro']*u.mag\n",
    "tbl['w2mpro-w3mpro_ERR'] = tbl['w2mpro-w3mpro_ERR']*u.mag\n",
    "tbl['w1mpro-w2mpro'] = tbl['w1mpro-w2mpro']*u.mag\n",
    "tbl['w1mpro-w2mpro_ERR'] = tbl['w1mpro-w2mpro_ERR']*u.mag\n",
    "table_hdu = fits.BinTableHDU(tbl) \n",
    "header = table_hdu.header\n",
    "header['EXTNAME'] = 'ALL_eROSITA_WISE_MATCHES'\n",
    "header['AUTHOR'] = 'Cassie Metzger' \n",
    "header['DATE'] = '2025-04-16' \n",
    "header['WAVELENG'] = 'Multi'\n",
    "header['DATASRC'] = 'eROSITA, WISE'\n",
    "header['DOI'] = '10.48550/arXiv.2501.12520' \n",
    "header['WAVELENG'] = 'Multi'\n",
    "header['SELPRO'] = 'All sources in the eROSITA catalog with WISE counterparts within 5'' that have IR magnitudes less than 14.3, 13.8, 12.2 in the W1, W2, W3 bands respectively and IR colors than fall between 1.25-2.4 and 0.05-0.9 in the W2-W3 and W1-W2 bands,respectively.'\n",
    "tbl.write('./catalogs/WISE_EROSITA_ALLmatches.fits', format = 'fits', overwrite = True)\n",
    "print('Catalog saved as WISE_EROSITA_ALLmatches.fits')"
   ]
  },
  {
   "cell_type": "code",
   "execution_count": 3,
   "metadata": {},
   "outputs": [],
   "source": [
    "hdu_list = fits.open('./catalogs/IR/wise.fits')\n",
    "wise = Table(hdu_list[1].data)"
   ]
  },
  {
   "cell_type": "code",
   "execution_count": 4,
   "metadata": {},
   "outputs": [],
   "source": [
    "def get_wise_flux(catalog): \n",
    "    sol = 2.997925E14 # variable sol; c in microns/s\n",
    "    w1=sol/3.368\n",
    "    w2=sol/4.618\n",
    "    w3=sol/12.082\n",
    "\n",
    "    fc_w1=0.9921\n",
    "    fc_w2=0.9943\n",
    "    fc_w3=0.9373\n",
    "\n",
    "    F_w1 = 306.682 #Jy\n",
    "    F_w2 = 170.663 #Jy\n",
    "    F_w3 = 29.045 #Jy\n",
    "\n",
    "    flux_w1 = F_w1/fc_w1*10**(-catalog['w1mpro']/2.5)\n",
    "    flux_w2 = F_w2/fc_w2*10**(-catalog['w2mpro']/2.5)\n",
    "    flux_w3 = F_w3/fc_w3*10**(-catalog['w3mpro']/2.5)\n",
    "\n",
    "    #errors \n",
    "    w1errh = catalog['w1mpro'] - catalog['w1sigmpro']\n",
    "    w2errh = catalog['w2mpro'] - catalog['w2sigmpro']\n",
    "    w3errh = catalog['w3mpro'] - catalog['w3sigmpro']\n",
    "\n",
    "    w1errl = catalog['w1mpro'] + catalog['w1sigmpro']\n",
    "    w2errl = catalog['w2mpro'] + catalog['w2sigmpro']\n",
    "    w3errl = catalog['w3mpro'] + catalog['w3sigmpro']\n",
    "\n",
    "    #relative errors in Jy \n",
    "\n",
    "    err_w1_h = F_w1/fc_w1*10**(-w1errh/2.5)-flux_w1\n",
    "    err_w2_h = F_w2/fc_w2*10**(-w2errh/2.5)-flux_w2\n",
    "    err_w3_h = F_w3/fc_w3*10**(-w3errh/2.5)-flux_w3\n",
    "\n",
    "    err_w1_l = F_w1/fc_w1*10**(-w1errl/2.5)-flux_w1\n",
    "    err_w2_l = F_w2/fc_w2*10**(-w2errl/2.5)-flux_w2\n",
    "    err_w3_l = F_w3/fc_w3*10**(-w3errl/2.5)-flux_w3\n",
    "\n",
    "    err_w1 = 0.5*(np.abs(err_w1_h)+ np.abs(err_w1_l))\n",
    "    err_w2 = 0.5*(np.abs(err_w2_h)+np.abs(err_w2_l))\n",
    "    err_w3 = 0.5*(np.abs(err_w3_h)+np.abs(err_w3_l))\n",
    "\n",
    "    flux = [flux_w1,flux_w2,flux_w3]\n",
    "    err = [err_w1, err_w2, err_w3]\n",
    "    catalog['w1flux'] = flux_w1 \n",
    "    catalog['w2flux'] = flux_w2 \n",
    "    catalog['w3flux'] = flux_w3\n",
    "    catalog['w1sigflux'] = err_w1\n",
    "    catalog['w2sigflux'] = err_w2\n",
    "    catalog['w3sigflux'] = err_w3\n",
    "    return catalog"
   ]
  },
  {
   "cell_type": "code",
   "execution_count": 7,
   "metadata": {},
   "outputs": [],
   "source": [
    "m = 0.83809562126163\n",
    "b = -1.045969175938493\n",
    "leng = len(wise_erosita)\n",
    "def distance (m,b, x,y): \n",
    "   return np.abs(m * x + b-y)/np.sqrt(m**2 + 1**2)\n",
    "wise_erosita['dist'] = distance(m,b, wise_erosita['w2mpro-w3mpro'], wise_erosita['w1mpro-w2mpro'])"
   ]
  },
  {
   "cell_type": "code",
   "execution_count": 8,
   "metadata": {},
   "outputs": [],
   "source": [
    "wise = get_wise_flux(wise)"
   ]
  },
  {
   "cell_type": "code",
   "execution_count": 9,
   "metadata": {},
   "outputs": [],
   "source": [
    "#choosing erosita 0.2-2.3 keV energy band, Eband = 1 keV \n",
    "e_energy = 1.6022e-16 #J \n",
    "h = 6.626e-34 #Js\n",
    "e_v1 = e_energy/h\n",
    "w_v = 3E8/3.4E-6"
   ]
  },
  {
   "cell_type": "code",
   "execution_count": 10,
   "metadata": {},
   "outputs": [],
   "source": [
    "wise_erosita['ML_FLUX_1_JY'] = 1E+23 * wise_erosita['ML_FLUX_1'] * 1/(e_v1)"
   ]
  },
  {
   "cell_type": "code",
   "execution_count": 13,
   "metadata": {},
   "outputs": [
    {
     "data": {
      "text/html": [
       "<div><i>Table length=5482</i>\n",
       "<table id=\"table140522802934928\" class=\"table-striped table-bordered table-condensed\">\n",
       "<thead><tr><th>WISE Name</th><th>eROSITA Name</th><th>ra</th><th>dec</th><th>w1mpro</th><th>w1sigmpro</th><th>w2mpro</th><th>w2sigmpro</th><th>w3mpro</th><th>w3sigmpro</th><th>w1flux</th><th>w1sigflux</th><th>ML_FLUX_1</th><th>ML_FLUX_ERR_1</th><th>w2mpro-w3mpro</th><th>w2mpro-w3mpro_ERR</th><th>w1mpro-w2mpro</th><th>w1mpro-w2mpro_ERR</th><th>dist</th><th>Alpha_IRX</th><th>2FHL Assoc</th><th>3FHL Assoc</th><th>4FGL Assoc</th><th>4LAC-DR4 Assoc</th><th>BZCAT Assoc</th><th>BZCAT OTYPE</th><th>3HSP Assoc</th><th>1WHSP Assoc</th><th>2WHSP Assoc</th><th>C20</th><th>L25</th><th>MAR25</th><th>MAS13</th><th>ML_FLUX_1_JY</th></tr></thead>\n",
       "<thead><tr><th>str19</th><th>str23</th><th>float64</th><th>float64</th><th>float64</th><th>float64</th><th>float64</th><th>float64</th><th>float64</th><th>float64</th><th>float64</th><th>float64</th><th>float64</th><th>float64</th><th>float64</th><th>float64</th><th>float64</th><th>float64</th><th>float64</th><th>float64</th><th>str17</th><th>str18</th><th>str18</th><th>str18</th><th>str15</th><th>str24</th><th>str20</th><th>str15</th><th>str15</th><th>str1</th><th>str1</th><th>str1</th><th>str1</th><th>float64</th></tr></thead>\n",
       "<tr><td>J000027.26-750808.8</td><td>1eRASS J000026.5-750806</td><td>0.11361</td><td>-75.1358</td><td>13.855</td><td>0.025</td><td>13.04</td><td>0.026</td><td>10.856</td><td>0.1</td><td>0.887</td><td>0.02</td><td>2.596e-13</td><td>4.162e-14</td><td>2.184</td><td>0.103</td><td>0.815</td><td>0.036</td><td>0.023428284674257432</td><td>1.139</td><td></td><td></td><td></td><td></td><td></td><td></td><td></td><td></td><td></td><td>N</td><td>N</td><td>N</td><td>N</td><td>1.0735923105729621e-07</td></tr>\n",
       "<tr><td>J000038.66-463903.5</td><td>1eRASS J000038.5-463903</td><td>0.16111</td><td>-46.65098</td><td>13.476</td><td>0.026</td><td>13.3</td><td>0.028</td><td>11.214</td><td>0.135</td><td>1.258</td><td>0.03</td><td>4.9e-14</td><td>2.405e-14</td><td>2.086</td><td>0.138</td><td>0.176</td><td>0.038</td><td>0.4033672264764317</td><td>1.394</td><td></td><td></td><td></td><td></td><td></td><td></td><td></td><td></td><td></td><td>N</td><td>N</td><td>N</td><td>N</td><td>2.0264261640244662e-08</td></tr>\n",
       "<tr><td>J000126.45-501501.6</td><td>1eRASS J000126.3-501505</td><td>0.36021</td><td>-50.25046</td><td>13.974</td><td>0.029</td><td>13.453</td><td>0.031</td><td>11.294</td><td>0.191</td><td>0.795</td><td>0.021</td><td>4.054e-14</td><td>1.931e-14</td><td>2.159</td><td>0.193</td><td>0.521</td><td>0.042</td><td>0.1858417415014609</td><td>1.36</td><td></td><td></td><td></td><td></td><td></td><td></td><td></td><td></td><td></td><td>N</td><td>N</td><td>N</td><td>N</td><td>1.676557483460242e-08</td></tr>\n",
       "<tr><td>J000132.74-415525.2</td><td>1eRASS J000132.7-415526</td><td>0.38645</td><td>-41.92369</td><td>13.988</td><td>0.026</td><td>13.308</td><td>0.031</td><td>11.137</td><td>0.116</td><td>0.785</td><td>0.019</td><td>6.237e-12</td><td>2.528e-13</td><td>2.171</td><td>0.12</td><td>0.68</td><td>0.04</td><td>0.07168848188704335</td><td>0.722</td><td></td><td>3FHL J0001.9-4155</td><td>4FGL J0001.6-4156</td><td>J0001.6-4156</td><td></td><td></td><td>3HSPJ000132.7-415525</td><td>000132.7-415525</td><td>000132.6-415524</td><td>N</td><td>N</td><td>N</td><td>N</td><td>2.579351017351142e-06</td></tr>\n",
       "<tr><td>J000347.32-501150.4</td><td>1eRASS J000347.3-501149</td><td>0.9472</td><td>-50.19736</td><td>13.432</td><td>0.026</td><td>13.346</td><td>0.029</td><td>12.073</td><td>nan</td><td>1.31</td><td>0.031</td><td>7.504e-14</td><td>2.752e-14</td><td>1.273</td><td>nan</td><td>0.086</td><td>0.039</td><td>0.049873802691455284</td><td>1.345</td><td></td><td></td><td></td><td></td><td></td><td></td><td></td><td></td><td></td><td>N</td><td>N</td><td>N</td><td>N</td><td>3.103326925477468e-08</td></tr>\n",
       "<tr><td>J000434.22-400035.1</td><td>1eRASS J000434.0-400038</td><td>1.14262</td><td>-40.00977</td><td>13.282</td><td>0.024</td><td>12.797</td><td>0.025</td><td>10.419</td><td>0.073</td><td>1.504</td><td>0.033</td><td>1.247e-13</td><td>3.736e-14</td><td>2.378</td><td>0.077</td><td>0.485</td><td>0.035</td><td>0.35410454779734496</td><td>1.299</td><td></td><td></td><td>4FGL J0004.4-4001</td><td></td><td></td><td></td><td></td><td></td><td></td><td>N</td><td>N</td><td>N</td><td>N</td><td>5.1570478092622634e-08</td></tr>\n",
       "<tr><td>J000448.48-634813.5</td><td>1eRASS J000448.3-634815</td><td>1.20202</td><td>-63.80377</td><td>13.956</td><td>0.025</td><td>13.09</td><td>0.025</td><td>10.752</td><td>0.09</td><td>0.809</td><td>0.019</td><td>4.323e-13</td><td>5.627e-14</td><td>2.338</td><td>0.093</td><td>0.866</td><td>0.035</td><td>0.03640386605255074</td><td>1.063</td><td></td><td></td><td></td><td></td><td></td><td></td><td></td><td></td><td></td><td>N</td><td>N</td><td>N</td><td>N</td><td>1.787804144301585e-07</td></tr>\n",
       "<tr><td>J000450.84-691150.7</td><td>1eRASS J000450.0-691149</td><td>1.21186</td><td>-69.19743</td><td>13.887</td><td>0.025</td><td>13.556</td><td>0.029</td><td>11.949</td><td>0.243</td><td>0.862</td><td>0.02</td><td>8.156e-14</td><td>2.814e-14</td><td>1.607</td><td>0.245</td><td>0.331</td><td>0.038</td><td>0.023107286297843862</td><td>1.282</td><td></td><td></td><td></td><td></td><td></td><td></td><td></td><td></td><td></td><td>N</td><td>N</td><td>N</td><td>N</td><td>3.372965672200724e-08</td></tr>\n",
       "<tr><td>J000504.33-414829.8</td><td>1eRASS J000504.6-414832</td><td>1.26808</td><td>-41.8083</td><td>14.048</td><td>0.026</td><td>13.684</td><td>0.033</td><td>12.14</td><td>0.378</td><td>0.743</td><td>0.018</td><td>7.22e-14</td><td>2.809e-14</td><td>1.544</td><td>0.379</td><td>0.364</td><td>0.042</td><td>0.08886641648213847</td><td>1.279</td><td></td><td></td><td></td><td></td><td></td><td></td><td></td><td></td><td></td><td>N</td><td>N</td><td>N</td><td>N</td><td>2.98587691923605e-08</td></tr>\n",
       "<tr><td>J000554.64-395932.4</td><td>1eRASS J000554.4-395932</td><td>1.47768</td><td>-39.99236</td><td>14.064</td><td>0.026</td><td>13.198</td><td>0.028</td><td>10.902</td><td>0.107</td><td>0.732</td><td>0.018</td><td>1.541e-13</td><td>4.187e-14</td><td>2.296</td><td>0.111</td><td>0.866</td><td>0.038</td><td>0.009425756617696483</td><td>1.181</td><td></td><td></td><td></td><td></td><td></td><td></td><td></td><td></td><td></td><td>N</td><td>N</td><td>N</td><td>N</td><td>6.372903507676944e-08</td></tr>\n",
       "<tr><td>...</td><td>...</td><td>...</td><td>...</td><td>...</td><td>...</td><td>...</td><td>...</td><td>...</td><td>...</td><td>...</td><td>...</td><td>...</td><td>...</td><td>...</td><td>...</td><td>...</td><td>...</td><td>...</td><td>...</td><td>...</td><td>...</td><td>...</td><td>...</td><td>...</td><td>...</td><td>...</td><td>...</td><td>...</td><td>...</td><td>...</td><td>...</td><td>...</td><td>...</td></tr>\n",
       "<tr><td>J235112.30-680622.3</td><td>1eRASS J235112.2-680621</td><td>357.80127</td><td>-68.10622</td><td>13.81</td><td>0.025</td><td>13.371</td><td>0.027</td><td>11.148</td><td>0.108</td><td>0.925</td><td>0.021</td><td>1.148e-12</td><td>8.577e-14</td><td>2.223</td><td>0.111</td><td>0.439</td><td>0.037</td><td>0.28979794506615486</td><td>0.957</td><td></td><td></td><td></td><td></td><td></td><td></td><td></td><td></td><td></td><td>N</td><td>N</td><td>N</td><td>N</td><td>4.7476270128573206e-07</td></tr>\n",
       "<tr><td>J235116.13-760015.5</td><td>1eRASS J235116.2-760012</td><td>357.81722</td><td>-76.00431</td><td>13.696</td><td>0.025</td><td>13.106</td><td>0.026</td><td>11.241</td><td>0.132</td><td>1.027</td><td>0.024</td><td>6.06e-13</td><td>6.391e-14</td><td>1.865</td><td>0.135</td><td>0.59</td><td>0.036</td><td>0.05588822624581846</td><td>1.051</td><td>2FHL J2352.0-7558</td><td>3FHL J2351.5-7559</td><td>4FGL J2351.3-7559</td><td>J2351.3-7559</td><td></td><td></td><td>3HSPJ235116.1-760015</td><td></td><td>235116.0-760015</td><td>N</td><td>N</td><td>N</td><td>N</td><td>2.5061515416302584e-07</td></tr>\n",
       "<tr><td>J235240.33-350859.6</td><td>1eRASS J235240.2-350900</td><td>358.16806</td><td>-35.1499</td><td>11.933</td><td>0.024</td><td>11.312</td><td>0.021</td><td>8.979</td><td>0.034</td><td>5.211</td><td>0.115</td><td>6.403e-13</td><td>8.543e-14</td><td>2.333</td><td>0.04</td><td>0.621</td><td>0.032</td><td>0.22096587356529704</td><td>1.249</td><td></td><td></td><td></td><td></td><td></td><td></td><td></td><td></td><td></td><td>N</td><td>N</td><td>N</td><td>N</td><td>2.6480013731119706e-07</td></tr>\n",
       "<tr><td>J235305.29-385443.9</td><td>1eRASS J235304.9-385445</td><td>358.27205</td><td>-38.91222</td><td>12.9</td><td>0.023</td><td>12.467</td><td>0.024</td><td>10.358</td><td>0.067</td><td>2.139</td><td>0.045</td><td>2.339e-13</td><td>5.107e-14</td><td>2.109</td><td>0.071</td><td>0.433</td><td>0.033</td><td>0.22117018730724172</td><td>1.264</td><td></td><td></td><td></td><td></td><td></td><td></td><td></td><td></td><td></td><td>N</td><td>N</td><td>N</td><td>N</td><td>9.673083260516788e-08</td></tr>\n",
       "<tr><td>J235325.88-433458.4</td><td>1eRASS J235325.8-433456</td><td>358.35784</td><td>-43.5829</td><td>14.14</td><td>0.027</td><td>13.672</td><td>0.032</td><td>11.79</td><td>0.226</td><td>0.683</td><td>0.017</td><td>5.635e-14</td><td>2.569e-14</td><td>1.882</td><td>0.228</td><td>0.468</td><td>0.042</td><td>0.048535116713048304</td><td>1.299</td><td></td><td></td><td></td><td></td><td></td><td></td><td></td><td></td><td></td><td>N</td><td>N</td><td>N</td><td>N</td><td>2.3303900886281363e-08</td></tr>\n",
       "<tr><td>J235417.16-530149.1</td><td>1eRASS J235417.1-530149</td><td>358.57151</td><td>-53.03033</td><td>14.084</td><td>0.026</td><td>13.79</td><td>0.033</td><td>12.035</td><td>nan</td><td>0.719</td><td>0.017</td><td>3.868e-14</td><td>1.925e-14</td><td>1.755</td><td>nan</td><td>0.294</td><td>0.042</td><td>0.10031609154744921</td><td>1.353</td><td></td><td></td><td></td><td></td><td></td><td></td><td></td><td></td><td></td><td>N</td><td>N</td><td>N</td><td>N</td><td>1.5996360004993132e-08</td></tr>\n",
       "<tr><td>J235558.25-374226.2</td><td>1eRASS J235558.2-374227</td><td>358.99272</td><td>-37.70729</td><td>13.457</td><td>0.024</td><td>12.812</td><td>0.025</td><td>10.608</td><td>0.11</td><td>1.28</td><td>0.028</td><td>8.924e-14</td><td>3.384e-14</td><td>2.204</td><td>0.113</td><td>0.645</td><td>0.035</td><td>0.11971038032976779</td><td>1.321</td><td></td><td></td><td></td><td></td><td></td><td></td><td></td><td></td><td></td><td>N</td><td>N</td><td>N</td><td>N</td><td>3.690576956684558e-08</td></tr>\n",
       "<tr><td>J235808.66-555124.0</td><td>1eRASS J235808.9-555123</td><td>359.53609</td><td>-55.85668</td><td>13.952</td><td>0.025</td><td>13.541</td><td>0.031</td><td>12.096</td><td>0.304</td><td>0.812</td><td>0.019</td><td>4.57e-14</td><td>2.058e-14</td><td>1.445</td><td>0.306</td><td>0.411</td><td>0.04</td><td>0.18847956545101488</td><td>1.348</td><td></td><td></td><td></td><td></td><td></td><td></td><td></td><td></td><td></td><td>N</td><td>N</td><td>N</td><td>N</td><td>1.8899525652228182e-08</td></tr>\n",
       "<tr><td>J235828.85-603351.5</td><td>1eRASS J235828.8-603354</td><td>359.62021</td><td>-60.56433</td><td>13.673</td><td>0.051</td><td>13.563</td><td>0.054</td><td>11.88</td><td>nan</td><td>1.049</td><td>0.049</td><td>7.688e-14</td><td>2.815e-14</td><td>1.683</td><td>nan</td><td>0.11</td><td>0.074</td><td>0.19508977515364384</td><td>1.314</td><td></td><td></td><td></td><td></td><td></td><td></td><td></td><td></td><td></td><td>N</td><td>N</td><td>N</td><td>N</td><td>3.1794212957183866e-08</td></tr>\n",
       "<tr><td>J235927.04-614715.3</td><td>1eRASS J235926.9-614715</td><td>359.86268</td><td>-61.7876</td><td>13.083</td><td>0.023</td><td>12.857</td><td>0.025</td><td>11.096</td><td>0.133</td><td>1.807</td><td>0.038</td><td>1.259e-13</td><td>3.068e-14</td><td>1.761</td><td>0.135</td><td>0.226</td><td>0.034</td><td>0.15628688567120902</td><td>1.321</td><td></td><td></td><td></td><td></td><td></td><td></td><td></td><td></td><td></td><td>N</td><td>N</td><td>N</td><td>N</td><td>5.206674572462863e-08</td></tr>\n",
       "</table></div>"
      ],
      "text/plain": [
       "<Table length=5482>\n",
       "     WISE Name            eROSITA Name      ... MAS13      ML_FLUX_1_JY     \n",
       "       str19                 str23          ...  str1        float64        \n",
       "------------------- ----------------------- ... ----- ----------------------\n",
       "J000027.26-750808.8 1eRASS J000026.5-750806 ...     N 1.0735923105729621e-07\n",
       "J000038.66-463903.5 1eRASS J000038.5-463903 ...     N 2.0264261640244662e-08\n",
       "J000126.45-501501.6 1eRASS J000126.3-501505 ...     N  1.676557483460242e-08\n",
       "J000132.74-415525.2 1eRASS J000132.7-415526 ...     N  2.579351017351142e-06\n",
       "J000347.32-501150.4 1eRASS J000347.3-501149 ...     N  3.103326925477468e-08\n",
       "J000434.22-400035.1 1eRASS J000434.0-400038 ...     N 5.1570478092622634e-08\n",
       "J000448.48-634813.5 1eRASS J000448.3-634815 ...     N  1.787804144301585e-07\n",
       "J000450.84-691150.7 1eRASS J000450.0-691149 ...     N  3.372965672200724e-08\n",
       "J000504.33-414829.8 1eRASS J000504.6-414832 ...     N   2.98587691923605e-08\n",
       "J000554.64-395932.4 1eRASS J000554.4-395932 ...     N  6.372903507676944e-08\n",
       "                ...                     ... ...   ...                    ...\n",
       "J235112.30-680622.3 1eRASS J235112.2-680621 ...     N 4.7476270128573206e-07\n",
       "J235116.13-760015.5 1eRASS J235116.2-760012 ...     N 2.5061515416302584e-07\n",
       "J235240.33-350859.6 1eRASS J235240.2-350900 ...     N 2.6480013731119706e-07\n",
       "J235305.29-385443.9 1eRASS J235304.9-385445 ...     N  9.673083260516788e-08\n",
       "J235325.88-433458.4 1eRASS J235325.8-433456 ...     N 2.3303900886281363e-08\n",
       "J235417.16-530149.1 1eRASS J235417.1-530149 ...     N 1.5996360004993132e-08\n",
       "J235558.25-374226.2 1eRASS J235558.2-374227 ...     N  3.690576956684558e-08\n",
       "J235808.66-555124.0 1eRASS J235808.9-555123 ...     N 1.8899525652228182e-08\n",
       "J235828.85-603351.5 1eRASS J235828.8-603354 ...     N 3.1794212957183866e-08\n",
       "J235927.04-614715.3 1eRASS J235926.9-614715 ...     N  5.206674572462863e-08"
      ]
     },
     "execution_count": 13,
     "metadata": {},
     "output_type": "execute_result"
    }
   ],
   "source": [
    "wise_erosita"
   ]
  },
  {
   "cell_type": "code",
   "execution_count": 14,
   "metadata": {},
   "outputs": [],
   "source": [
    "wise_erosita['Alpha_IRX'] = -np.log10(wise_erosita['w1flux']/wise_erosita['ML_FLUX_1_JY'])/np.log10(w_v/e_v1)"
   ]
  },
  {
   "cell_type": "code",
   "execution_count": 241,
   "metadata": {},
   "outputs": [],
   "source": [
    "wise_erosita = Table([wise['name'][wise_erosita['WISE idx']], wise_erosita['IAUNAME'], wise['ra'][wise_erosita['WISE idx']], wise['dec'][wise_erosita['WISE idx']], wise['w1mpro'][wise_erosita['WISE idx']], wise['w1sigmpro'][wise_erosita['WISE idx']], wise['w2mpro'][wise_erosita['WISE idx']], wise['w2sigmpro'][wise_erosita['WISE idx']], wise['w3mpro'][wise_erosita['WISE idx']], wise['w3sigmpro'][wise_erosita['WISE idx']], wise['w1flux'][wise_erosita['WISE idx']], wise['w1sigflux'][wise_erosita['WISE idx']], wise_erosita['ML_FLUX_1'], wise_erosita['ML_FLUX_ERR_1'], wise_erosita['x'], wise_erosita['x_err'], wise_erosita['y'], wise_erosita['y_err'], wise_erosita['dist'], wise_erosita['Alpha_IRX']])"
   ]
  },
  {
   "cell_type": "code",
   "execution_count": 16,
   "metadata": {},
   "outputs": [],
   "source": [
    "hdu_list = fits.open('./catalogs/gammaray/2FHL.fits')\n",
    "fhl2 = Table(hdu_list[1].data)\n",
    "c = SkyCoord(ra = wise_erosita['ra']*u.degree, dec = wise_erosita['dec']*u.degree, frame = 'fk5')\n",
    "catalog = SkyCoord(ra = fhl2['RAJ2000']*u.degree, dec = fhl2['DEJ2000']*u.degree, frame = 'fk5')\n",
    "idx, d2d, d3d = c.match_to_catalog_sky(catalog)\n",
    "mask = d2d.deg <= fhl2['Pos_err_95'][idx]\n",
    "wise_erosita['2FHL Assoc'] = Column(['']*len(wise_erosita), dtype = 'U17')\n",
    "wise_erosita['2FHL Assoc'][mask] = fhl2['Source_Name'][idx[mask]]\n",
    "hdu_list = fits.open('./catalogs/gammaray/3FHL.fits')\n",
    "fhl3 = Table(hdu_list[1].data)\n",
    "catalog = SkyCoord(ra = fhl3['RAJ2000']*u.degree, dec = fhl3['DEJ2000']*u.degree, frame = 'fk5')\n",
    "idx, d2d, d3d = c.match_to_catalog_sky(catalog)\n",
    "mask = d2d.deg <= fhl3['Conf_95_SemiMajor'][idx]\n",
    "wise_erosita['3FHL Assoc'] = Column(['']*len(wise_erosita), dtype = 'U18')\n",
    "wise_erosita['3FHL Assoc'][mask] = fhl3['Source_Name'][idx[mask]]\n",
    "hdu_list = fits.open('./catalogs/gammaray/4FGL_DR4.fits')\n",
    "fgl4 = Table(hdu_list[1].data)\n",
    "catalog = SkyCoord(ra = fgl4['RAJ2000']*u.degree, dec = fgl4['DEJ2000']*u.degree, frame = 'fk5')\n",
    "idx, d2d, d3d = c.match_to_catalog_sky(catalog)\n",
    "mask = d2d.deg <= fgl4['Conf_95_SemiMajor'][idx]\n",
    "wise_erosita['4FGL Assoc'] = Column(['']*len(wise_erosita), dtype = 'U18')\n",
    "wise_erosita['4FGL Assoc'][mask] = fgl4['Source_Name'][idx[mask]]\n",
    "wise_erosita['4FGL Assoc'] = [name.replace(' ', '') for name in wise_erosita['4FGL Assoc']]\n",
    "wise_erosita['4FGL Assoc'] = [name.replace('LJ', 'L J') for name in wise_erosita['4FGL Assoc']]\n",
    "hdu_list = fits.open('./catalogs/gammaray/4LAC-DR3.fits')\n",
    "lac = Table(hdu_list[1].data)\n",
    "lac['_4FGL'] = [lac['_4FGL'][i].replace(' ', '') for i in range(len(lac))]\n",
    "wise_erosita['4LAC-DR4 Assoc'] = Column(['']*len(wise_erosita), dtype = 'U18')\n",
    "catalog = SkyCoord(ra = lac['RACdeg']*u.degree, dec = lac['DECdeg']*u.degree, frame = 'fk5')\n",
    "idx,d2d, d3d = c.match_to_catalog_sky(catalog)\n",
    "mask = d2d.arcsec <=5 \n",
    "wise_erosita['4LAC-DR4 Assoc'][mask] = lac['_4FGL'][idx[mask]]\n",
    "        "
   ]
  },
  {
   "cell_type": "code",
   "execution_count": 17,
   "metadata": {},
   "outputs": [
    {
     "name": "stderr",
     "output_type": "stream",
     "text": [
      "WARNING: VerifyWarning: Invalid keyword for column 10: ASCII table null option (TNULLn) is longer than the column's character width and will be truncated (got '255'). [astropy.io.fits.column]\n"
     ]
    }
   ],
   "source": [
    "hdu_list = fits.open('./catalogs/other_blazar-hbl_cats/bzcat.fits')\n",
    "bzcat = Table(hdu_list[1].data)\n",
    "catalog = SkyCoord(ra = bzcat['RA']*u.degree, dec = bzcat['DEC']*u.degree, frame = 'fk5')\n",
    "idx, d2d, d3d = c.match_to_catalog_sky(catalog)\n",
    "mask = d2d.arcsec <= 5\n",
    "wise_erosita['BZCAT Assoc'] = Column(['']*len(wise_erosita), dtype = 'U15')\n",
    "wise_erosita['BZCAT OTYPE'] = Column(['']*len(wise_erosita), dtype = 'U24')\n",
    "for i in range(len(wise_erosita)): \n",
    "    if(mask[i]): \n",
    "        name = bzcat['NAME'][idx[i]]\n",
    "        name = name[10:]\n",
    "        wise_erosita['BZCAT Assoc'][i] = name\n",
    "        wise_erosita['BZCAT OTYPE'][i] = bzcat['OBJECT_TYPE'][idx[i]]\n",
    "        wise_erosita['BZCAT OTYPE'][i] = wise_erosita['BZCAT OTYPE'][i].replace('  ', '')\n",
    "hdu_list = fits.open('./catalogs/other_blazar-hbl_cats/3HSP.fits')\n",
    "hsp3 = Table(hdu_list[1].data)\n",
    "catalog = SkyCoord(ra = hsp3['RAJ2000']*u.degree, dec = hsp3['DEJ2000']*u.degree, frame = 'fk5')\n",
    "idx, d2d, d3d = c.match_to_catalog_sky(catalog)\n",
    "mask = d2d.arcsec <= 5\n",
    "wise_erosita['3HSP Assoc'] = Column(['']*len(wise_erosita), dtype = 'U20')\n",
    "wise_erosita['3HSP Assoc'][mask] = hsp3['Name'][idx[mask]]\n",
    "hdu_list = fits.open('./catalogs/other_blazar-hbl_cats/1whsp.fits')\n",
    "whsp1 = Table(hdu_list[1].data)\n",
    "catalog = SkyCoord(ra = whsp1['_RA']*u.degree, dec = whsp1['_DE']*u.degree, frame = 'fk5')\n",
    "idx, d2d, d3d = c.match_to_catalog_sky(catalog)\n",
    "mask = d2d.arcsec <= 5\n",
    "wise_erosita['1WHSP Assoc'] = Column(['']*len(wise_erosita), dtype = 'U15')\n",
    "wise_erosita['1WHSP Assoc'][mask] = whsp1['_1WHSP'][idx[mask]]\n",
    "hdu_list= fits.open('./catalogs/other_blazar-hbl_cats/whsp2.fits')\n",
    "whsp2 = Table(hdu_list[1].data)\n",
    "catalog = SkyCoord(ra = whsp2['_RA']*u.degree, dec = whsp2['_DE']*u.degree, frame = 'fk5')\n",
    "idx, d2d, d3d = c.match_to_catalog_sky(catalog)\n",
    "mask = d2d.arcsec <= 5\n",
    "wise_erosita['2WHSP Assoc'] = Column(['']*len(wise_erosita), dtype = 'U15')\n",
    "wise_erosita['2WHSP Assoc'][mask] = whsp2['_2WHSPJ'][idx[mask]]"
   ]
  },
  {
   "cell_type": "code",
   "execution_count": 18,
   "metadata": {},
   "outputs": [],
   "source": [
    "C20 = ascii.read('./catalogs/other_blazar-hbl_cats/C20.txt')\n",
    "C20 = C20[0][:]"
   ]
  },
  {
   "cell_type": "code",
   "execution_count": 19,
   "metadata": {},
   "outputs": [],
   "source": [
    "wise_erosita['C20'] = Column(['N']*len(wise_erosita), dtype = 'U1')\n",
    "x = 0 \n",
    "for i in range(len(wise_erosita)): \n",
    "    target = wise_erosita['BZCAT Assoc'][i] \n",
    "    target = target.replace(\" \", \"\")\n",
    "    if(target != ''): \n",
    "        target1 = target[0:9]\n",
    "        for j in range(len(C20)): \n",
    "            c_t = C20[j]\n",
    "            c_t1 = c_t[0:9]\n",
    "            if(target1 == c_t1): \n",
    "                target2 = target[10:14]\n",
    "                c_t2 = c_t[10:14]\n",
    "                if(target2 == c_t2): \n",
    "                    wise_erosita['C20'][i] = 'Y'\n",
    "                    x+=1"
   ]
  },
  {
   "cell_type": "code",
   "execution_count": 20,
   "metadata": {},
   "outputs": [],
   "source": [
    "L25 = ascii.read('./catalogs/other_blazar-hbl_cats/L25.txt')\n",
    "L25 = L25[0][:]"
   ]
  },
  {
   "cell_type": "code",
   "execution_count": 24,
   "metadata": {},
   "outputs": [],
   "source": [
    "wise_erosita['L25'] = Column(['N']*len(wise_erosita), dtype = 'U1')\n",
    "for i in range(len(wise_erosita)): \n",
    "    target = wise_erosita['4FGL Assoc'][i] \n",
    "    target1 = target[5:12]\n",
    "    for j in range(len(L25)): \n",
    "        l_t = L25[j]\n",
    "        l_t1 = l_t[0:7]\n",
    "        if(target1 == l_t1): \n",
    "            target2 =target[13:17]\n",
    "            l_t2 = l_t[8:12]\n",
    "            if(target2 == l_t2): \n",
    "                wise_erosita['L25'][i] = 'Y'\n",
    "                \n",
    "hdu_list = fits.open('./catalogs/other_blazar-hbl_cats/Marchesi_Xray_Bl_AA_25.fits')\n",
    "marchesi = Table(hdu_list[1].data)\n",
    "wise_erosita['MAR25'] = Column(['N']*len(wise_erosita), dtype = 'U1')\n",
    "for i in range(len(wise_erosita)): \n",
    "    target = wise_erosita['BZCAT Assoc'][i]\n",
    "    if(target != \"None\"):\n",
    "        target = target.replace(\" \", \"\")\n",
    "        target1 = target[0:9]\n",
    "        for j in range(len(marchesi)): \n",
    "            catalog = marchesi['ID_5BZCAT'][j]\n",
    "            catalog1 = catalog[0:9]\n",
    "            if(target1 == catalog1): \n",
    "                target2 = target[10:14]\n",
    "                catalog2 = catalog[10:14]\n",
    "                if(target2 == catalog2): \n",
    "                    wise_erosita['MAR25'][i] = 'Y'\n",
    "hdu_list = fits.open('./catalogs/other_blazar-hbl_cats/massaro_selection.fits')\n",
    "massaro = Table(hdu_list[1].data)\n",
    "wise_erosita['MAS13'] = Column(['N']*len(wise_erosita), dtype = 'U1')\n",
    "for i in range(len(wise_erosita)): \n",
    "    name = wise_erosita['WISE Name'][i]\n",
    "    if(name in massaro['WISE']): \n",
    "        wise_erosita['MAS13'][i] = 'Y'\n",
    "        idx = np.where(massaro['WISE'] == name)[0][0]\n"
   ]
  },
  {
   "cell_type": "code",
   "execution_count": 25,
   "metadata": {},
   "outputs": [],
   "source": [
    "import math\n",
    "from decimal import Decimal, ROUND_HALF_UP, getcontext\n",
    "\n",
    "def format_sigfigs(num, sigfig):\n",
    "    if num is None or (isinstance(num, float) and math.isnan(num)):\n",
    "        return \"nan\"\n",
    "\n",
    "    # Ensure context precision is high enough\n",
    "    getcontext().prec = 10\n",
    "\n",
    "    # Convert to Decimal for consistent rounding\n",
    "    d = Decimal(str(num))\n",
    "    rounded = d.quantize(Decimal(\"0.01\"), rounding=ROUND_HALF_UP)\n",
    "\n",
    "    # Format with exactly 2 digits after the decimal point\n",
    "    return f\"{rounded:.{sigfig}f}\"\n"
   ]
  },
  {
   "cell_type": "code",
   "execution_count": 26,
   "metadata": {},
   "outputs": [
    {
     "data": {
      "text/html": [
       "<div><i>Table length=5482</i>\n",
       "<table id=\"table140522802934928\" class=\"table-striped table-bordered table-condensed\">\n",
       "<thead><tr><th>WISE Name</th><th>eROSITA Name</th><th>ra</th><th>dec</th><th>w1mpro</th><th>w1sigmpro</th><th>w2mpro</th><th>w2sigmpro</th><th>w3mpro</th><th>w3sigmpro</th><th>w1flux</th><th>w1sigflux</th><th>ML_FLUX_1</th><th>ML_FLUX_ERR_1</th><th>w2mpro-w3mpro</th><th>w2mpro-w3mpro_ERR</th><th>w1mpro-w2mpro</th><th>w1mpro-w2mpro_ERR</th><th>dist</th><th>Alpha_IRX</th><th>2FHL Assoc</th><th>3FHL Assoc</th><th>4FGL Assoc</th><th>4LAC-DR4 Assoc</th><th>BZCAT Assoc</th><th>BZCAT OTYPE</th><th>3HSP Assoc</th><th>1WHSP Assoc</th><th>2WHSP Assoc</th><th>C20</th><th>L25</th><th>MAR25</th><th>MAS13</th><th>ML_FLUX_1_JY</th></tr></thead>\n",
       "<thead><tr><th>str19</th><th>str23</th><th>float64</th><th>float64</th><th>float64</th><th>float64</th><th>float64</th><th>float64</th><th>float64</th><th>float64</th><th>float64</th><th>float64</th><th>float64</th><th>float64</th><th>float64</th><th>float64</th><th>float64</th><th>float64</th><th>float64</th><th>float64</th><th>str17</th><th>str18</th><th>str18</th><th>str18</th><th>str15</th><th>str24</th><th>str20</th><th>str15</th><th>str15</th><th>str1</th><th>str1</th><th>str1</th><th>str1</th><th>float64</th></tr></thead>\n",
       "<tr><td>J000027.26-750808.8</td><td>1eRASS J000026.5-750806</td><td>0.11361</td><td>-75.1358</td><td>13.855</td><td>0.025</td><td>13.04</td><td>0.026</td><td>10.856</td><td>0.1</td><td>0.887</td><td>0.02</td><td>2.596e-13</td><td>4.162e-14</td><td>2.184</td><td>0.103</td><td>0.815</td><td>0.036</td><td>0.023428284674257432</td><td>2.0120536489830294</td><td></td><td></td><td></td><td></td><td></td><td></td><td></td><td></td><td></td><td>N</td><td>N</td><td>N</td><td>N</td><td>1.0735923105729621e-07</td></tr>\n",
       "<tr><td>J000038.66-463903.5</td><td>1eRASS J000038.5-463903</td><td>0.16111</td><td>-46.65098</td><td>13.476</td><td>0.026</td><td>13.3</td><td>0.028</td><td>11.214</td><td>0.135</td><td>1.258</td><td>0.03</td><td>4.9e-14</td><td>2.405e-14</td><td>2.086</td><td>0.138</td><td>0.176</td><td>0.038</td><td>0.4033672264764317</td><td>2.266826986654193</td><td></td><td></td><td></td><td></td><td></td><td></td><td></td><td></td><td></td><td>N</td><td>N</td><td>N</td><td>N</td><td>2.0264261640244662e-08</td></tr>\n",
       "<tr><td>J000126.45-501501.6</td><td>1eRASS J000126.3-501505</td><td>0.36021</td><td>-50.25046</td><td>13.974</td><td>0.029</td><td>13.453</td><td>0.031</td><td>11.294</td><td>0.191</td><td>0.795</td><td>0.021</td><td>4.054e-14</td><td>1.931e-14</td><td>2.159</td><td>0.193</td><td>0.521</td><td>0.042</td><td>0.1858417415014609</td><td>2.2327934781796044</td><td></td><td></td><td></td><td></td><td></td><td></td><td></td><td></td><td></td><td>N</td><td>N</td><td>N</td><td>N</td><td>1.676557483460242e-08</td></tr>\n",
       "<tr><td>J000132.74-415525.2</td><td>1eRASS J000132.7-415526</td><td>0.38645</td><td>-41.92369</td><td>13.988</td><td>0.026</td><td>13.308</td><td>0.031</td><td>11.137</td><td>0.116</td><td>0.785</td><td>0.019</td><td>6.237e-12</td><td>2.528e-13</td><td>2.171</td><td>0.12</td><td>0.68</td><td>0.04</td><td>0.07168848188704335</td><td>1.5950091890293705</td><td></td><td>3FHL J0001.9-4155</td><td>4FGL J0001.6-4156</td><td>J0001.6-4156</td><td></td><td></td><td>3HSPJ000132.7-415525</td><td>000132.7-415525</td><td>000132.6-415524</td><td>N</td><td>N</td><td>N</td><td>N</td><td>2.579351017351142e-06</td></tr>\n",
       "<tr><td>J000347.32-501150.4</td><td>1eRASS J000347.3-501149</td><td>0.9472</td><td>-50.19736</td><td>13.432</td><td>0.026</td><td>13.346</td><td>0.029</td><td>12.073</td><td>nan</td><td>1.31</td><td>0.031</td><td>7.504e-14</td><td>2.752e-14</td><td>1.273</td><td>nan</td><td>0.086</td><td>0.039</td><td>0.049873802691455284</td><td>2.218102519794271</td><td></td><td></td><td></td><td></td><td></td><td></td><td></td><td></td><td></td><td>N</td><td>N</td><td>N</td><td>N</td><td>3.103326925477468e-08</td></tr>\n",
       "<tr><td>J000434.22-400035.1</td><td>1eRASS J000434.0-400038</td><td>1.14262</td><td>-40.00977</td><td>13.282</td><td>0.024</td><td>12.797</td><td>0.025</td><td>10.419</td><td>0.073</td><td>1.504</td><td>0.033</td><td>1.247e-13</td><td>3.736e-14</td><td>2.378</td><td>0.077</td><td>0.485</td><td>0.035</td><td>0.35410454779734496</td><td>2.171387755985483</td><td></td><td></td><td>4FGL J0004.4-4001</td><td></td><td></td><td></td><td></td><td></td><td></td><td>N</td><td>N</td><td>N</td><td>N</td><td>5.1570478092622634e-08</td></tr>\n",
       "<tr><td>J000448.48-634813.5</td><td>1eRASS J000448.3-634815</td><td>1.20202</td><td>-63.80377</td><td>13.956</td><td>0.025</td><td>13.09</td><td>0.025</td><td>10.752</td><td>0.09</td><td>0.809</td><td>0.019</td><td>4.323e-13</td><td>5.627e-14</td><td>2.338</td><td>0.093</td><td>0.866</td><td>0.035</td><td>0.03640386605255074</td><td>1.9360009700622371</td><td></td><td></td><td></td><td></td><td></td><td></td><td></td><td></td><td></td><td>N</td><td>N</td><td>N</td><td>N</td><td>1.787804144301585e-07</td></tr>\n",
       "<tr><td>J000450.84-691150.7</td><td>1eRASS J000450.0-691149</td><td>1.21186</td><td>-69.19743</td><td>13.887</td><td>0.025</td><td>13.556</td><td>0.029</td><td>11.949</td><td>0.243</td><td>0.862</td><td>0.02</td><td>8.156e-14</td><td>2.814e-14</td><td>1.607</td><td>0.245</td><td>0.331</td><td>0.038</td><td>0.023107286297843862</td><td>2.1547052988734734</td><td></td><td></td><td></td><td></td><td></td><td></td><td></td><td></td><td></td><td>N</td><td>N</td><td>N</td><td>N</td><td>3.372965672200724e-08</td></tr>\n",
       "<tr><td>J000504.33-414829.8</td><td>1eRASS J000504.6-414832</td><td>1.26808</td><td>-41.8083</td><td>14.048</td><td>0.026</td><td>13.684</td><td>0.033</td><td>12.14</td><td>0.378</td><td>0.743</td><td>0.018</td><td>7.22e-14</td><td>2.809e-14</td><td>1.544</td><td>0.379</td><td>0.364</td><td>0.042</td><td>0.08886641648213847</td><td>2.1513373440170045</td><td></td><td></td><td></td><td></td><td></td><td></td><td></td><td></td><td></td><td>N</td><td>N</td><td>N</td><td>N</td><td>2.98587691923605e-08</td></tr>\n",
       "<tr><td>J000554.64-395932.4</td><td>1eRASS J000554.4-395932</td><td>1.47768</td><td>-39.99236</td><td>14.064</td><td>0.026</td><td>13.198</td><td>0.028</td><td>10.902</td><td>0.107</td><td>0.732</td><td>0.018</td><td>1.541e-13</td><td>4.187e-14</td><td>2.296</td><td>0.111</td><td>0.866</td><td>0.038</td><td>0.009425756617696483</td><td>2.053675777980751</td><td></td><td></td><td></td><td></td><td></td><td></td><td></td><td></td><td></td><td>N</td><td>N</td><td>N</td><td>N</td><td>6.372903507676944e-08</td></tr>\n",
       "<tr><td>...</td><td>...</td><td>...</td><td>...</td><td>...</td><td>...</td><td>...</td><td>...</td><td>...</td><td>...</td><td>...</td><td>...</td><td>...</td><td>...</td><td>...</td><td>...</td><td>...</td><td>...</td><td>...</td><td>...</td><td>...</td><td>...</td><td>...</td><td>...</td><td>...</td><td>...</td><td>...</td><td>...</td><td>...</td><td>...</td><td>...</td><td>...</td><td>...</td><td>...</td></tr>\n",
       "<tr><td>J235112.30-680622.3</td><td>1eRASS J235112.2-680621</td><td>357.80127</td><td>-68.10622</td><td>13.81</td><td>0.025</td><td>13.371</td><td>0.027</td><td>11.148</td><td>0.108</td><td>0.925</td><td>0.021</td><td>1.148e-12</td><td>8.577e-14</td><td>2.223</td><td>0.111</td><td>0.439</td><td>0.037</td><td>0.28979794506615486</td><td>1.8295488793485284</td><td></td><td></td><td></td><td></td><td></td><td></td><td></td><td></td><td></td><td>N</td><td>N</td><td>N</td><td>N</td><td>4.7476270128573206e-07</td></tr>\n",
       "<tr><td>J235116.13-760015.5</td><td>1eRASS J235116.2-760012</td><td>357.81722</td><td>-76.00431</td><td>13.696</td><td>0.025</td><td>13.106</td><td>0.026</td><td>11.241</td><td>0.132</td><td>1.027</td><td>0.024</td><td>6.06e-13</td><td>6.391e-14</td><td>1.865</td><td>0.135</td><td>0.59</td><td>0.036</td><td>0.05588822624581846</td><td>1.9234740112363924</td><td>2FHL J2352.0-7558</td><td>3FHL J2351.5-7559</td><td>4FGL J2351.3-7559</td><td>J2351.3-7559</td><td></td><td></td><td>3HSPJ235116.1-760015</td><td></td><td>235116.0-760015</td><td>N</td><td>N</td><td>N</td><td>N</td><td>2.5061515416302584e-07</td></tr>\n",
       "<tr><td>J235240.33-350859.6</td><td>1eRASS J235240.2-350900</td><td>358.16806</td><td>-35.1499</td><td>11.933</td><td>0.024</td><td>11.312</td><td>0.021</td><td>8.979</td><td>0.034</td><td>5.211</td><td>0.115</td><td>6.403e-13</td><td>8.543e-14</td><td>2.333</td><td>0.04</td><td>0.621</td><td>0.032</td><td>0.22096587356529704</td><td>2.121692407064701</td><td></td><td></td><td></td><td></td><td></td><td></td><td></td><td></td><td></td><td>N</td><td>N</td><td>N</td><td>N</td><td>2.6480013731119706e-07</td></tr>\n",
       "<tr><td>J235305.29-385443.9</td><td>1eRASS J235304.9-385445</td><td>358.27205</td><td>-38.91222</td><td>12.9</td><td>0.023</td><td>12.467</td><td>0.024</td><td>10.358</td><td>0.067</td><td>2.139</td><td>0.045</td><td>2.339e-13</td><td>5.107e-14</td><td>2.109</td><td>0.071</td><td>0.433</td><td>0.033</td><td>0.22117018730724172</td><td>2.136423529648929</td><td></td><td></td><td></td><td></td><td></td><td></td><td></td><td></td><td></td><td>N</td><td>N</td><td>N</td><td>N</td><td>9.673083260516788e-08</td></tr>\n",
       "<tr><td>J235325.88-433458.4</td><td>1eRASS J235325.8-433456</td><td>358.35784</td><td>-43.5829</td><td>14.14</td><td>0.027</td><td>13.672</td><td>0.032</td><td>11.79</td><td>0.226</td><td>0.683</td><td>0.017</td><td>5.635e-14</td><td>2.569e-14</td><td>1.882</td><td>0.228</td><td>0.468</td><td>0.042</td><td>0.048535116713048304</td><td>2.172011813869913</td><td></td><td></td><td></td><td></td><td></td><td></td><td></td><td></td><td></td><td>N</td><td>N</td><td>N</td><td>N</td><td>2.3303900886281363e-08</td></tr>\n",
       "<tr><td>J235417.16-530149.1</td><td>1eRASS J235417.1-530149</td><td>358.57151</td><td>-53.03033</td><td>14.084</td><td>0.026</td><td>13.79</td><td>0.033</td><td>12.035</td><td>nan</td><td>0.719</td><td>0.017</td><td>3.868e-14</td><td>1.925e-14</td><td>1.755</td><td>nan</td><td>0.294</td><td>0.042</td><td>0.10031609154744921</td><td>2.226033106976579</td><td></td><td></td><td></td><td></td><td></td><td></td><td></td><td></td><td></td><td>N</td><td>N</td><td>N</td><td>N</td><td>1.5996360004993132e-08</td></tr>\n",
       "<tr><td>J235558.25-374226.2</td><td>1eRASS J235558.2-374227</td><td>358.99272</td><td>-37.70729</td><td>13.457</td><td>0.024</td><td>12.812</td><td>0.025</td><td>10.608</td><td>0.11</td><td>1.28</td><td>0.028</td><td>8.924e-14</td><td>3.384e-14</td><td>2.204</td><td>0.113</td><td>0.645</td><td>0.035</td><td>0.11971038032976779</td><td>2.193282142687379</td><td></td><td></td><td></td><td></td><td></td><td></td><td></td><td></td><td></td><td>N</td><td>N</td><td>N</td><td>N</td><td>3.690576956684558e-08</td></tr>\n",
       "<tr><td>J235808.66-555124.0</td><td>1eRASS J235808.9-555123</td><td>359.53609</td><td>-55.85668</td><td>13.952</td><td>0.025</td><td>13.541</td><td>0.031</td><td>12.096</td><td>0.304</td><td>0.812</td><td>0.019</td><td>4.57e-14</td><td>2.058e-14</td><td>1.445</td><td>0.306</td><td>0.411</td><td>0.04</td><td>0.18847956545101488</td><td>2.2203310693675835</td><td></td><td></td><td></td><td></td><td></td><td></td><td></td><td></td><td></td><td>N</td><td>N</td><td>N</td><td>N</td><td>1.8899525652228182e-08</td></tr>\n",
       "<tr><td>J235828.85-603351.5</td><td>1eRASS J235828.8-603354</td><td>359.62021</td><td>-60.56433</td><td>13.673</td><td>0.051</td><td>13.563</td><td>0.054</td><td>11.88</td><td>nan</td><td>1.049</td><td>0.049</td><td>7.688e-14</td><td>2.815e-14</td><td>1.683</td><td>nan</td><td>0.11</td><td>0.074</td><td>0.19508977515364384</td><td>2.1869734133645347</td><td></td><td></td><td></td><td></td><td></td><td></td><td></td><td></td><td></td><td>N</td><td>N</td><td>N</td><td>N</td><td>3.1794212957183866e-08</td></tr>\n",
       "<tr><td>J235927.04-614715.3</td><td>1eRASS J235926.9-614715</td><td>359.86268</td><td>-61.7876</td><td>13.083</td><td>0.023</td><td>12.857</td><td>0.025</td><td>11.096</td><td>0.133</td><td>1.807</td><td>0.038</td><td>1.259e-13</td><td>3.068e-14</td><td>1.761</td><td>0.135</td><td>0.226</td><td>0.034</td><td>0.15628688567120902</td><td>2.1933641755379454</td><td></td><td></td><td></td><td></td><td></td><td></td><td></td><td></td><td></td><td>N</td><td>N</td><td>N</td><td>N</td><td>5.206674572462863e-08</td></tr>\n",
       "</table></div>"
      ],
      "text/plain": [
       "<Table length=5482>\n",
       "     WISE Name            eROSITA Name      ... MAS13      ML_FLUX_1_JY     \n",
       "       str19                 str23          ...  str1        float64        \n",
       "------------------- ----------------------- ... ----- ----------------------\n",
       "J000027.26-750808.8 1eRASS J000026.5-750806 ...     N 1.0735923105729621e-07\n",
       "J000038.66-463903.5 1eRASS J000038.5-463903 ...     N 2.0264261640244662e-08\n",
       "J000126.45-501501.6 1eRASS J000126.3-501505 ...     N  1.676557483460242e-08\n",
       "J000132.74-415525.2 1eRASS J000132.7-415526 ...     N  2.579351017351142e-06\n",
       "J000347.32-501150.4 1eRASS J000347.3-501149 ...     N  3.103326925477468e-08\n",
       "J000434.22-400035.1 1eRASS J000434.0-400038 ...     N 5.1570478092622634e-08\n",
       "J000448.48-634813.5 1eRASS J000448.3-634815 ...     N  1.787804144301585e-07\n",
       "J000450.84-691150.7 1eRASS J000450.0-691149 ...     N  3.372965672200724e-08\n",
       "J000504.33-414829.8 1eRASS J000504.6-414832 ...     N   2.98587691923605e-08\n",
       "J000554.64-395932.4 1eRASS J000554.4-395932 ...     N  6.372903507676944e-08\n",
       "                ...                     ... ...   ...                    ...\n",
       "J235112.30-680622.3 1eRASS J235112.2-680621 ...     N 4.7476270128573206e-07\n",
       "J235116.13-760015.5 1eRASS J235116.2-760012 ...     N 2.5061515416302584e-07\n",
       "J235240.33-350859.6 1eRASS J235240.2-350900 ...     N 2.6480013731119706e-07\n",
       "J235305.29-385443.9 1eRASS J235304.9-385445 ...     N  9.673083260516788e-08\n",
       "J235325.88-433458.4 1eRASS J235325.8-433456 ...     N 2.3303900886281363e-08\n",
       "J235417.16-530149.1 1eRASS J235417.1-530149 ...     N 1.5996360004993132e-08\n",
       "J235558.25-374226.2 1eRASS J235558.2-374227 ...     N  3.690576956684558e-08\n",
       "J235808.66-555124.0 1eRASS J235808.9-555123 ...     N 1.8899525652228182e-08\n",
       "J235828.85-603351.5 1eRASS J235828.8-603354 ...     N 3.1794212957183866e-08\n",
       "J235927.04-614715.3 1eRASS J235926.9-614715 ...     N  5.206674572462863e-08"
      ]
     },
     "execution_count": 26,
     "metadata": {},
     "output_type": "execute_result"
    }
   ],
   "source": [
    "wise_erosita['ra'] = [format_sigfigs(ra, 2) for ra in wise_erosita['ra']]\n",
    "wise_erosita['dec'] = [format_sigfigs(dec, 2) for dec in wise_erosita['dec']]\n",
    "wise_erosita['w1mpro']"
   ]
  },
  {
   "cell_type": "code",
   "execution_count": 250,
   "metadata": {},
   "outputs": [],
   "source": [
    "## rounding \n",
    "wise_erosita['ra'] = [np.round(wise_erosita['ra'][i], 5) for i in range(len(wise_erosita))]\n",
    "wise_erosita['dec'] = [np.round(wise_erosita['dec'][i], 5) for i in range(len(wise_erosita))]\n",
    "wise_erosita['w1mpro'] = [np.round(wise_erosita['w1mpro'][i], 3) for i in range(len(wise_erosita))]\n",
    "wise_erosita['w1sigmpro'] = [np.round(wise_erosita['w1sigmpro'][i], 3) for i in range(len(wise_erosita))]\n",
    "wise_erosita['w2mpro'] = [np.round(wise_erosita['w2mpro'][i], 3) for i in range(len(wise_erosita))]\n",
    "wise_erosita['w2sigmpro'] = [np.round(wise_erosita['w2sigmpro'][i], 3) for i in range(len(wise_erosita))]\n",
    "wise_erosita['w3mpro'] = [np.round(wise_erosita['w3mpro'][i], 3) for i in range(len(wise_erosita))]\n",
    "wise_erosita['w3sigmpro'] = [np.round(wise_erosita['w3sigmpro'][i], 3) for i in range(len(wise_erosita))]\n",
    "wise_erosita['w1flux'] = wise_erosita['w1flux']*1E3\n",
    "wise_erosita['w1flux'] = [np.round(wise_erosita['w1flux'][i], 3) for i in range(len(wise_erosita))] \n",
    "wise_erosita['w1sigflux'] = wise_erosita['w1sigflux']*1E3\n",
    "wise_erosita['w1sigflux'] = [np.round(wise_erosita['w1sigflux'][i], 3) for i in range(len(wise_erosita))]\n",
    "wise_erosita['ML_FLUX_1'] = [float(f\"{num:.3e}\") for num in wise_erosita['ML_FLUX_1']]\n",
    "wise_erosita['ML_FLUX_ERR_1'] = [float(f\"{num:.3e}\") for num in wise_erosita['ML_FLUX_ERR_1']]\n",
    "wise_erosita['x'] = [np.round(wise_erosita['x'][i], 3) for i in range(len(wise_erosita))]\n",
    "wise_erosita['x_err'] = [np.round(wise_erosita['x_err'][i], 3) for i in range(len(wise_erosita))]\n",
    "wise_erosita['y'] = [np.round(wise_erosita['y'][i], 3) for i in range(len(wise_erosita))]\n",
    "wise_erosita['y_err'] = [np.round(wise_erosita['y_err'][i], 3) for i in range(len(wise_erosita))]\n",
    "wise_erosita['dist'] = [np.round(wise_erosita['dist'][i], 3) for i in range(len(wise_erosita))]\n",
    "wise_erosita['Alpha_IRX'] = [np.round(wise_erosita['Alpha_IRX'][i], 3) for i in range(len(wise_erosita))]\n",
    "\n"
   ]
  },
  {
   "cell_type": "code",
   "execution_count": 252,
   "metadata": {},
   "outputs": [],
   "source": [
    "wise_erosita.rename_column('x', 'w2mpro-w3mpro')\n",
    "wise_erosita.rename_column('x_err', 'w2mpro-w3mpro_ERR')\n",
    "wise_erosita.rename_column('y', 'w1mpro-w2mpro')\n",
    "wise_erosita.rename_column('y_err', 'w1mpro-w2mpro_ERR')\n"
   ]
  },
  {
   "cell_type": "code",
   "execution_count": 257,
   "metadata": {},
   "outputs": [],
   "source": [
    "wise_erosita.rename_column('name', 'WISE Name')\n",
    "wise_erosita.rename_column('IAUNAME', 'eROSITA Name')"
   ]
  },
  {
   "cell_type": "code",
   "execution_count": 258,
   "metadata": {},
   "outputs": [],
   "source": [
    "wise_erosita.sort('ra')"
   ]
  },
  {
   "cell_type": "code",
   "execution_count": 259,
   "metadata": {},
   "outputs": [
    {
     "name": "stdout",
     "output_type": "stream",
     "text": [
      "Catalog saved as WISE_EROSITA_ALLmatches.fits\n"
     ]
    }
   ],
   "source": [
    "tbl= QTable(wise_erosita)\n",
    "tbl['ra'] = tbl['ra']*u.degree \n",
    "tbl['dec'] = tbl['dec']*u.degree\n",
    "tbl['w1mpro'] = tbl['w1mpro']*u.mag\n",
    "tbl['w1sigmpro'] = tbl['w1sigmpro']*u.mag\n",
    "tbl['w2mpro'] = tbl['w2mpro']*u.mag\n",
    "tbl['w2sigmpro'] = tbl['w2sigmpro']*u.mag\n",
    "tbl['w3mpro'] = tbl['w3mpro']*u.mag\n",
    "tbl['w3sigmpro'] = tbl['w3sigmpro']*u.mag\n",
    "tbl['w1flux'] = tbl['w1flux']*u.mJy\n",
    "tbl['w1sigflux'] = tbl['w1sigflux']*u.mJy\n",
    "tbl['ML_FLUX_1'] = tbl['ML_FLUX_1']*u.erg/(u.cm**2*u.s)\n",
    "tbl['ML_FLUX_ERR_1'] = tbl['ML_FLUX_ERR_1']*u.erg/(u.cm**2*u.s)\n",
    "tbl['w2mpro-w3mpro'] = tbl['w2mpro-w3mpro']*u.mag\n",
    "tbl['w2mpro-w3mpro_ERR'] = tbl['w2mpro-w3mpro_ERR']*u.mag\n",
    "tbl['w1mpro-w2mpro'] = tbl['w1mpro-w2mpro']*u.mag\n",
    "tbl['w1mpro-w2mpro_ERR'] = tbl['w1mpro-w2mpro_ERR']*u.mag\n",
    "table_hdu = fits.BinTableHDU(tbl) \n",
    "header = table_hdu.header\n",
    "header['EXTNAME'] = 'ALL_eROSITA_WISE_MATCHES'\n",
    "header['AUTHOR'] = 'Cassie Metzger' \n",
    "header['DATE'] = '2025-04-16' \n",
    "header['WAVELENG'] = 'Multi'\n",
    "header['DATASRC'] = 'eROSITA, WISE'\n",
    "header['DOI'] = '10.48550/arXiv.2501.12520' \n",
    "header['WAVELENG'] = 'Multi'\n",
    "header['SELPRO'] = 'All sources in the eROSITA catalog with WISE counterparts within 5'' that have IR magnitudes less than 14.3, 13.8, 12.2 in the W1, W2, W3 bands respectively and IR colors than fall between 1.25-2.4 and 0.05-0.9 in the W2-W3 and W1-W2 bands,respectively.'\n",
    "tbl.write('./catalogs/WISE_EROSITA_ALLmatches.fits', format = 'fits', overwrite = True)\n",
    "print('Catalog saved as WISE_EROSITA_ALLmatches.fits')"
   ]
  },
  {
   "cell_type": "code",
   "execution_count": 256,
   "metadata": {},
   "outputs": [
    {
     "name": "stdout",
     "output_type": "stream",
     "text": [
      "Catalog saved as WISE_EROSITA_ALLmatches.xlsx\n"
     ]
    }
   ],
   "source": [
    "df = wise_erosita.to_pandas()\n",
    "df.to_excel('./catalogs/WISE_EROSITA_ALLmatches.xlsx', index = False)\n",
    "print('Catalog saved as WISE_EROSITA_ALLmatches.xlsx')"
   ]
  }
 ],
 "metadata": {
  "kernelspec": {
   "display_name": "base",
   "language": "python",
   "name": "python3"
  },
  "language_info": {
   "codemirror_mode": {
    "name": "ipython",
    "version": 3
   },
   "file_extension": ".py",
   "mimetype": "text/x-python",
   "name": "python",
   "nbconvert_exporter": "python",
   "pygments_lexer": "ipython3",
   "version": "3.9.13"
  }
 },
 "nbformat": 4,
 "nbformat_minor": 2
}
