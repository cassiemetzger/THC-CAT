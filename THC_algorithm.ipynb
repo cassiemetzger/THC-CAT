{
 "cells": [
  {
   "cell_type": "code",
   "execution_count": 2,
   "metadata": {},
   "outputs": [
    {
     "name": "stdout",
     "output_type": "stream",
     "text": [
      "/Library/TeX/texbin:/Users/cassiemetzger/opt/anaconda3/bin:/Library/TeX/texbin:/Users/cassiemetzger/.gem/ruby/3.1.3/bin:/Users/cassiemetzger/.rubies/ruby-3.1.3/lib/ruby/gems/3.1.0/bin:/Users/cassiemetzger/.rubies/ruby-3.1.3/bin:/Users/cassiemetzger/opt/anaconda3/bin:/Users/cassiemetzger/opt/anaconda3/condabin:/opt/local/bin:/opt/local/sbin:/opt/homebrew/bin:/opt/homebrew/sbin:/usr/local/bin:/System/Cryptexes/App/usr/bin:/usr/bin:/bin:/usr/sbin:/sbin:/Library/TeX/texbin:/opt/X11/bin:/Library/Apple/usr/bin\n",
      "/Library/TeX/texbin:/Library/TeX/texbin:/Users/cassiemetzger/opt/anaconda3/bin:/Library/TeX/texbin:/Users/cassiemetzger/.gem/ruby/3.1.3/bin:/Users/cassiemetzger/.rubies/ruby-3.1.3/lib/ruby/gems/3.1.0/bin:/Users/cassiemetzger/.rubies/ruby-3.1.3/bin:/Users/cassiemetzger/opt/anaconda3/bin:/Users/cassiemetzger/opt/anaconda3/condabin:/opt/local/bin:/opt/local/sbin:/opt/homebrew/bin:/opt/homebrew/sbin:/usr/local/bin:/System/Cryptexes/App/usr/bin:/usr/bin:/bin:/usr/sbin:/sbin:/Library/TeX/texbin:/opt/X11/bin:/Library/Apple/usr/bin\n"
     ]
    }
   ],
   "source": [
    "import numpy as np\n",
    "import matplotlib.pyplot as plt\n",
    "import astropy \n",
    "from astropy.io import fits\n",
    "from astropy.table import Table, Column, vstack, MaskedColumn, QTable\n",
    "from astropy import units as u\n",
    "from astropy.coordinates import SkyCoord\n",
    "from astropy.coordinates import match_coordinates_sky\n",
    "from astropy.io import ascii\n",
    "import os\n",
    "import seaborn as sns\n",
    "print(os.environ['PATH'])\n",
    "os.environ['PATH'] = '/Library/TeX/texbin:' + os.environ['PATH']\n",
    "print(os.environ['PATH'])\n",
    "plt.rcParams['mathtext.fontset'] = 'stix'\n",
    "plt.rcParams['font.family'] = 'serif'\n",
    "plt.rcParams['font.size'] = 11\n",
    "color_palette = sns.color_palette([\"#000000\", \"#849324\", \"#FFB30F\", \"#D62828\", \"#6EA2D2\"])"
   ]
  },
  {
   "cell_type": "code",
   "execution_count": null,
   "metadata": {},
   "outputs": [],
   "source": [
    "#input eRASS1_Main data (Merloni et al. 2024)\n",
    "hdu_list  = fits.open('./catalogs/xray/eRASS1_Main.v1.1.fits')\n",
    "erosita = Table(hdu_list[1].data)"
   ]
  },
  {
   "cell_type": "code",
   "execution_count": null,
   "metadata": {},
   "outputs": [],
   "source": [
    "#input ALLWISE data (Cutri et al. 2013) AFTER it has been fed through wise_filter.sh \n",
    "hdu_list = fits.open('./catalogs/IR/wise.fits')\n",
    "wise = Table(hdu_list[1].data)"
   ]
  },
  {
   "cell_type": "code",
   "execution_count": 5,
   "metadata": {},
   "outputs": [],
   "source": [
    "def get_wise_flux(catalog): \n",
    "    sol = 2.997925E14 # variable sol; c in microns/s\n",
    "    w1=sol/3.368\n",
    "    w2=sol/4.618\n",
    "    w3=sol/12.082\n",
    "\n",
    "    fc_w1=0.9921\n",
    "    fc_w2=0.9943\n",
    "    fc_w3=0.9373\n",
    "\n",
    "    F_w1 = 306.682 #Jy\n",
    "    F_w2 = 170.663 #Jy\n",
    "    F_w3 = 29.045 #Jy\n",
    "\n",
    "    flux_w1 = F_w1/fc_w1*10**(-catalog['w1mpro']/2.5)\n",
    "    flux_w2 = F_w2/fc_w2*10**(-catalog['w2mpro']/2.5)\n",
    "    flux_w3 = F_w3/fc_w3*10**(-catalog['w3mpro']/2.5)\n",
    "\n",
    "    #errors \n",
    "    w1errh = catalog['w1mpro'] - catalog['w1sigmpro']\n",
    "    w2errh = catalog['w2mpro'] - catalog['w2sigmpro']\n",
    "    w3errh = catalog['w3mpro'] - catalog['w3sigmpro']\n",
    "\n",
    "    w1errl = catalog['w1mpro'] + catalog['w1sigmpro']\n",
    "    w2errl = catalog['w2mpro'] + catalog['w2sigmpro']\n",
    "    w3errl = catalog['w3mpro'] + catalog['w3sigmpro']\n",
    "\n",
    "    #relative errors in Jy \n",
    "\n",
    "    err_w1_h = F_w1/fc_w1*10**(-w1errh/2.5)-flux_w1\n",
    "    err_w2_h = F_w2/fc_w2*10**(-w2errh/2.5)-flux_w2\n",
    "    err_w3_h = F_w3/fc_w3*10**(-w3errh/2.5)-flux_w3\n",
    "\n",
    "    err_w1_l = F_w1/fc_w1*10**(-w1errl/2.5)-flux_w1\n",
    "    err_w2_l = F_w2/fc_w2*10**(-w2errl/2.5)-flux_w2\n",
    "    err_w3_l = F_w3/fc_w3*10**(-w3errl/2.5)-flux_w3\n",
    "\n",
    "    err_w1 = 0.5*(np.abs(err_w1_h)+ np.abs(err_w1_l))\n",
    "    err_w2 = 0.5*(np.abs(err_w2_h)+np.abs(err_w2_l))\n",
    "    err_w3 = 0.5*(np.abs(err_w3_h)+np.abs(err_w3_l))\n",
    "\n",
    "    flux = [flux_w1,flux_w2,flux_w3]\n",
    "    err = [err_w1, err_w2, err_w3]\n",
    "    catalog['w1flux'] = flux_w1 \n",
    "    catalog['w2flux'] = flux_w2 \n",
    "    catalog['w3flux'] = flux_w3\n",
    "    catalog['w1sigflux'] = err_w1\n",
    "    catalog['w2sigflux'] = err_w2\n",
    "    catalog['w3sigflux'] = err_w3\n",
    "    return catalog\n"
   ]
  },
  {
   "cell_type": "code",
   "execution_count": 6,
   "metadata": {},
   "outputs": [],
   "source": [
    "wise = get_wise_flux(wise)"
   ]
  },
  {
   "cell_type": "code",
   "execution_count": 7,
   "metadata": {},
   "outputs": [],
   "source": [
    "#assumes RA, DEC coords are given in degrees and radius is given in arcseconds\n",
    "def matching(catalog1, RA1, DEC1, catalog2, RA2, DEC2, radius, matching_Name): \n",
    "    c = SkyCoord(ra = RA1*u.degree, dec = DEC1*u.degree, frame = 'fk5')\n",
    "    catalog = SkyCoord(ra = RA2*u.degree, dec = DEC2*u.degree, frame = 'fk5')\n",
    "    idx, d2d, d3d = c.match_to_catalog_sky(catalog)\n",
    "    mask = d2d.arcsec <= radius\n",
    "    matches = catalog1[mask]\n",
    "    matches[f'{matching_Name} idx'] = idx[mask]\n",
    "    matches[f'{matching_Name} sep'] = d2d.arcsec[mask]\n",
    "    leng = len(matches)\n",
    "    print(f'{leng} {matching_Name} matches found')\n",
    "    print('Checking for duplicates...')\n",
    "    numbers= matches[f'{matching_Name} idx']\n",
    "    unique, counts = np.unique(numbers, return_counts=True)\n",
    "    duplicates = unique[counts > 1] \n",
    "    print(f\"Duplicates found: {len(duplicates)}\")\n",
    "    if(len(duplicates > 0)): \n",
    "        print(f\"Removing duplicates...\")\n",
    "        mask = np.array([False if i in duplicates else True for i in matches[f'{matching_Name} idx']])\n",
    "        for val in duplicates: \n",
    "            idx = np.where(matches[f'{matching_Name} idx'] == val)[0]\n",
    "            dis1 = matches[f'{matching_Name} sep'][idx[0]]\n",
    "            dis2 = matches[f'{matching_Name} sep'][idx[1]]\n",
    "            if(dis1 < dis2): \n",
    "                mask[idx[0]] = True\n",
    "                mask[idx[1]] = False\n",
    "            if(dis2 < dis1): \n",
    "                mask[idx[0]] = False\n",
    "                mask[idx[1]] = True\n",
    "            if(dis1 == dis2): \n",
    "                mask[idx[0]] = False\n",
    "                mask[idx[1]] = True\n",
    "        matches = matches[mask]\n",
    "        print(f\"Removed {leng- len(matches)} duplicates \\n {len(matches)} {matching_Name} matches found\")\n",
    "    return matches"
   ]
  },
  {
   "cell_type": "code",
   "execution_count": 8,
   "metadata": {},
   "outputs": [
    {
     "name": "stdout",
     "output_type": "stream",
     "text": [
      "5482 WISE matches found\n",
      "Checking for duplicates...\n",
      "Duplicates found: 0\n"
     ]
    }
   ],
   "source": [
    "matches = matching(erosita, erosita['RA'], erosita['DEC'], wise, wise['ra'], wise['dec'], 5.0, 'WISE')"
   ]
  },
  {
   "cell_type": "code",
   "execution_count": 9,
   "metadata": {},
   "outputs": [],
   "source": [
    "#IR colors\n",
    "matches['x'] = wise['w2mpro'][matches['WISE idx']] - wise['w3mpro'][matches['WISE idx']]\n",
    "matches['y'] = wise['w1mpro'][matches['WISE idx']] - wise['w2mpro'][matches['WISE idx']]\n",
    "matches['x_err'] = np.sqrt(wise['w2sigmpro'][matches['WISE idx']]**2 + wise['w3sigmpro'][matches['WISE idx']]**2)\n",
    "matches['y_err'] = np.sqrt(wise['w1sigmpro'][matches['WISE idx']]**2 + wise['w2sigmpro'][matches['WISE idx']]**2)\n",
    "wise['x'] = wise['w2mpro'] - wise['w3mpro']\n",
    "wise['y'] = wise['w1mpro'] - wise['w2mpro']\n",
    "wise['x_err'] = np.sqrt(wise['w2sigmpro']**2 + wise['w3sigmpro']**2)\n",
    "wise['y_err'] = np.sqrt(wise['w1sigmpro']**2 + wise['w2sigmpro']**2)"
   ]
  },
  {
   "cell_type": "code",
   "execution_count": 10,
   "metadata": {},
   "outputs": [
    {
     "name": "stdout",
     "output_type": "stream",
     "text": [
      "1776 matches removed.\n",
      "Now 3706 sources selected\n"
     ]
    }
   ],
   "source": [
    "m = 0.83809562126163\n",
    "b = -1.045969175938493\n",
    "leng = len(matches)\n",
    "def distance (m,b, x,y): \n",
    "   return np.abs(m * x + b-y)/np.sqrt(m**2 + 1**2)\n",
    "mask = distance(m,b, matches['x'], matches['y']) < 0.21\n",
    "matches = matches[mask]\n",
    "print(f'{leng - len(matches)} matches removed.\\nNow {len(matches)} sources selected')"
   ]
  },
  {
   "cell_type": "code",
   "execution_count": 11,
   "metadata": {},
   "outputs": [],
   "source": [
    "#choosing erosita 0.2-2.3 keV energy band, Eband = 1 keV \n",
    "e_energy = 1.6022e-16 #J \n",
    "h = 6.626e-34 #Js\n",
    "e_v1 = e_energy/h\n",
    "w_v = 3E8/3.4E-6\n"
   ]
  },
  {
   "cell_type": "code",
   "execution_count": 12,
   "metadata": {},
   "outputs": [
    {
     "name": "stdout",
     "output_type": "stream",
     "text": [
      "3488 matches removed.\n",
      "Now 218 sources selected\n"
     ]
    }
   ],
   "source": [
    "leng = len(matches)\n",
    "matches['ML_FLUX_1_JY'] = 1E+23 * matches['ML_FLUX_1'] * 1/(e_v1)\n",
    "matches['Alpha IRX'] = -np.log10(wise['w1flux'][matches['WISE idx']]/matches['ML_FLUX_1_JY'])/np.log10(w_v/e_v1)\n",
    "m = (matches['Alpha IRX'] <= 1)\n",
    "matches = matches[m]\n",
    "print(f'{leng - len(matches)} matches removed.\\nNow {len(matches)} sources selected')"
   ]
  },
  {
   "cell_type": "code",
   "execution_count": 13,
   "metadata": {},
   "outputs": [
    {
     "name": "stdout",
     "output_type": "stream",
     "text": [
      "Output written to catalogs/latex_outputs/table_A2.txt\n"
     ]
    }
   ],
   "source": [
    "#producing Table A2 \n",
    "m = matches['EXT_LIKE'] != 0 \n",
    "sel = matches[m]\n",
    "output_dir = \"catalogs/latex_outputs\"\n",
    "output_file = os.path.join(output_dir, \"table_A2.txt\")\n",
    "with open(output_file, 'w') as f: \n",
    "    for i in range(len(sel)): \n",
    "        erass_name = sel['IAUNAME'][i]\n",
    "        erass_name = erass_name[7:23]\n",
    "        wise_name = wise['name'][sel['WISE idx'][i]]\n",
    "        f.write(f\"{wise_name} & {erass_name} \\\\\\\\ \\n\")\n",
    "print(f\"Output written to {output_file}\")"
   ]
  },
  {
   "cell_type": "code",
   "execution_count": 14,
   "metadata": {},
   "outputs": [
    {
     "name": "stdout",
     "output_type": "stream",
     "text": [
      "31 matches removed.\n",
      "Now 187 sources selected\n"
     ]
    }
   ],
   "source": [
    "leng = len(matches)\n",
    "m = matches['EXT_LIKE'] == 0\n",
    "matches = matches[m]\n",
    "print(f'{leng - len(matches)} matches removed.\\nNow {len(matches)} sources selected')"
   ]
  },
  {
   "cell_type": "code",
   "execution_count": 15,
   "metadata": {},
   "outputs": [
    {
     "name": "stdout",
     "output_type": "stream",
     "text": [
      "10 matches removed.\n",
      "Now 177 sources selected\n"
     ]
    }
   ],
   "source": [
    "leng = len(matches)\n",
    "ra = wise['ra'][matches['WISE idx']]\n",
    "dec = wise['dec'][matches['WISE idx']]\n",
    "c = SkyCoord(ra*u.degree, dec*u.degree, frame = 'icrs')\n",
    "lat = c.galactic.l.degree\n",
    "long = c.galactic.b.degree\n",
    "idx = []\n",
    "for i in range(len(matches)): \n",
    "    if(long[i] < -10 or long[i] > 10): \n",
    "        idx.append(i)\n",
    "matches = matches[idx]\n",
    "print(f'{leng - len(matches)} matches removed.\\nNow {len(matches)} sources selected')\n"
   ]
  },
  {
   "cell_type": "code",
   "execution_count": 16,
   "metadata": {},
   "outputs": [],
   "source": [
    "def matching_radio(catalog1, RA1, DEC1, catalog2, RA2, DEC2, flux2, freq, radius, matching_Name): \n",
    "    c =SkyCoord(ra = RA1*u.degree, dec = DEC1*u.degree, frame = 'fk5')\n",
    "    catalog = SkyCoord(ra = RA2*u.degree, dec = DEC2*u.degree, frame = 'fk5')\n",
    "    idx, d2d, d3d = c.match_to_catalog_sky(catalog)\n",
    "    mask = d2d.arcsec <= radius\n",
    "    catalog1['Radio flux'][mask] = flux2[idx[mask]]\n",
    "    catalog1['Radio flux'][mask] = catalog1['Radio flux'][mask] * 1E-3 #convert to Jy\n",
    "    catalog1['Radio freq'][mask] = freq\n",
    "    catalog1['Radio catalog'][mask] = matching_Name\n",
    "    return catalog1"
   ]
  },
  {
   "cell_type": "code",
   "execution_count": null,
   "metadata": {},
   "outputs": [
    {
     "name": "stdout",
     "output_type": "stream",
     "text": [
      "119: 19.4639509, -54.9221249;\n"
     ]
    }
   ],
   "source": [
    "#initializing radio data columns\n",
    "matches['Radio flux'] = [np.nan]*len(matches)\n",
    "matches['Radio freq'] = [np.nan]*len(matches)\n",
    "matches['Radio catalog'] = Column(['None']*len(matches), dtype = 'U15')\n",
    "#radio matching\n",
    "#change paths to match your local directory structure\n",
    "\n",
    "#SUMSS (Mauch et al. 2003)\n",
    "hdu_list = fits.open('./catalogs/radio/sumss.fits')\n",
    "sumss = Table(hdu_list[1].data)\n",
    "matches = matching_radio(matches, wise['ra'][matches['WISE idx']], wise['dec'][matches['WISE idx']], sumss, sumss['RA'], sumss['DEC'], sumss['INT_FLUX_36_CM'], 843E6, 5.0, 'SUMSS')\n",
    "#FIRST (White et al. 1997; Helfand et al. 2015)\n",
    "hdu_list = fits.open('./catalogs/radio/first.fits')\n",
    "first = Table(hdu_list[1].data)\n",
    "matches = matching_radio(matches, wise['ra'][matches['WISE idx']], wise['dec'][matches['WISE idx']], first, first['RA'], first['DEC'], first['FLUX_20_CM'], 1.4E9, 5.0, 'FIRST')\n",
    "#NVSS (Cordon et al. 1998)\n",
    "hdu_list = fits.open('./catalogs/radio/nvss.fits')  \n",
    "nvss = Table(hdu_list[1].data)\n",
    "matches = matching_radio(matches, wise['ra'][matches['WISE idx']], wise['dec'][matches['WISE idx']], nvss, nvss['RA'], nvss['DEC'], nvss['FLUX_20_CM'], 1.4E9, 5.0, 'NVSS')\n",
    "m = (np.isnan(matches['Radio flux']))\n",
    "idx = np.array(range(len(matches)))\n",
    "idx = idx[m]\n",
    "#searching RADIO Master Catalog \n",
    "import astroquery \n",
    "from astroquery.heasarc import Heasarc\n",
    "flux = matches['Radio flux']\n",
    "freq = matches['Radio freq']\n",
    "catalog = matches['Radio catalog']\n",
    "c = 3E8\n",
    "for i in range(len(idx)): \n",
    "    coord = SkyCoord(ra = wise['ra'][matches['WISE idx'][idx[i]]]*u.degree, dec = wise['dec'][matches['WISE idx'][idx[i]]]*u.degree, frame = 'fk5')\n",
    "    radius = 10 *u.arcmin\n",
    "    table = Heasarc.query_region(coord, mission = \"RADIO\", radius = radius) \n",
    "    table['SEARCH_OFFSET_'] = np.array([float(x[:5]) for x in table['SEARCH_OFFSET_']])\n",
    "    if(np.min(table['SEARCH_OFFSET_']) <= 0.0833333): \n",
    "        #print(f'{idx[i]}: {wise[\"ra\"][matches[\"WISE idx\"][idx[i]]]}, {wise[\"dec\"][matches[\"WISE idx\"][idx[i]]]};')\n",
    "        target = np.argmin(table['SEARCH_OFFSET_'])\n",
    "        if(table['FLUX_20_CM'][target] == 0 and table['FLUX_6_CM'][target] == 0 and table['FLUX_OTHER'][target] == 0):\n",
    "            catalog[idx[i]] = 'None'\n",
    "            flux[idx[i]] = np.nan\n",
    "            freq[idx[i]] = np.nan\n",
    "        if(table['FLUX_20_CM'][target] != 0): \n",
    "            flux[idx[i]] = table['FLUX_20_CM'][target]*1E-3\n",
    "            freq[idx[i]] = c/(20/100)\n",
    "            catalog[idx[i]] = table['DATABASE_TABLE'][target]\n",
    "        if(table['FLUX_20_CM'][target] == 0 and table['FLUX_6_CM'][target] != 0): \n",
    "            flux[idx[i]] = table['FLUX_6_CM'][target]*1E-3\n",
    "            freq[idx[i]] = c/(6/100)\n",
    "            catalog[idx[i]] = table['DATABASE_TABLE'][target]\n",
    "        if(table['FLUX_20_CM'][target] == 0 and table['FLUX_6_CM'][target] == 0):\n",
    "            print(f'Missing info on: {idx[i]}: {wise[\"ra\"][matches[\"WISE idx\"][idx[i]]]}, {wise[\"dec\"][matches[\"WISE idx\"][idx[i]]]};')"
   ]
  },
  {
   "cell_type": "code",
   "execution_count": null,
   "metadata": {},
   "outputs": [],
   "source": [
    "#hardcoded in from Heasarc\n",
    "flux[119] =  7.04E-3 \n",
    "freq[119] = 150E9 \n",
    "catalog[119] = 'SPTSZSPSC'\n",
    "\n",
    "matches['Radio flux'] = flux\n",
    "matches['Radio freq'] = freq\n",
    "matches['Catalog'] = catalog"
   ]
  },
  {
   "cell_type": "code",
   "execution_count": null,
   "metadata": {},
   "outputs": [
    {
     "name": "stdout",
     "output_type": "stream",
     "text": [
      "Output written to catalogs/latex_outputs/table_A3.txt\n"
     ]
    }
   ],
   "source": [
    "#producing Table A3 \n",
    "output_dir = \"catalogs/latex_outputs\"\n",
    "output_file = os.path.join(output_dir, \"table_A3.txt\")\n",
    "with open(output_file, 'w') as f:\n",
    "    m =  (np.isnan(matches['Radio flux']) == True)\n",
    "    sel = matches[m]\n",
    "    for i in range(len(sel)):\n",
    "        erass_name = sel['IAUNAME'][i]\n",
    "        erass_name = erass_name[7:23]\n",
    "        wise_name = wise['name'][sel['WISE idx'][i]]\n",
    "        f.write(f\"{wise_name} & {erass_name} \\\\\\\\ \\n\")\n",
    "#change paths to match your local directory structure\n",
    "print(f\"Output written to {output_file}\")"
   ]
  },
  {
   "cell_type": "code",
   "execution_count": 20,
   "metadata": {},
   "outputs": [
    {
     "name": "stdout",
     "output_type": "stream",
     "text": [
      "36 matches removed.\n",
      "Now 141 sources selected\n"
     ]
    }
   ],
   "source": [
    "m = (np.isnan(matches['Radio flux']) == False)\n",
    "leng = len(matches)\n",
    "matches = matches[m]\n",
    "print(f'{leng - len(matches)} matches removed.\\nNow {len(matches)} sources selected')"
   ]
  },
  {
   "cell_type": "code",
   "execution_count": 21,
   "metadata": {},
   "outputs": [
    {
     "name": "stdout",
     "output_type": "stream",
     "text": [
      "4 matches removed.\n",
      "Now 137 sources selected\n"
     ]
    }
   ],
   "source": [
    "matches['Alpha RIR'] = -np.log10(matches['Radio flux']/wise['w1flux'][matches['WISE idx']])/np.log10(matches['Radio freq']/w_v)\n",
    "m = matches['Alpha RIR'] <= 0.43\n",
    "leng = len(matches)\n",
    "matches = matches[m]\n",
    "print(f'{leng - len(matches)} matches removed.\\nNow {len(matches)} sources selected')"
   ]
  },
  {
   "cell_type": "code",
   "execution_count": null,
   "metadata": {},
   "outputs": [
    {
     "name": "stdout",
     "output_type": "stream",
     "text": [
      "16 matches removed.\n",
      "Now 121 sources selected\n"
     ]
    }
   ],
   "source": [
    "#removing sources that are already listed in TeVCAT (https://tevcat.org/)\n",
    "\n",
    "#change path to match where your TeVCAT HBL list is stored \n",
    "tevcat = ascii.read('./catalogs/other_blazar-hbl_cats/HBL_newlist.csv')\n",
    "c = SkyCoord(ra = wise['ra'][matches['WISE idx']]*u.degree, dec = wise['dec'][matches['WISE idx']]*u.degree, frame = 'fk5')\n",
    "catalog = SkyCoord(ra = tevcat['Simbad RA deg']*u.degree, dec = tevcat['Simbad DEC deg']*u.degree, frame = 'fk5')   \n",
    "idx, d2d, d3d = c.match_to_catalog_sky(catalog)\n",
    "mask = d2d.arcsec > 5.0\n",
    "leng = len(matches)\n",
    "matches = matches[mask]\n",
    "print(f'{leng - len(matches)} matches removed.\\nNow {len(matches)} sources selected')"
   ]
  },
  {
   "cell_type": "code",
   "execution_count": 23,
   "metadata": {},
   "outputs": [],
   "source": [
    "#constructing final table \n",
    "ra = wise['ra'][matches['WISE idx']]\n",
    "dec = wise['dec'][matches['WISE idx']]\n",
    "c = SkyCoord(ra = ra*u.degree, dec = dec*u.degree, frame='fk5')\n",
    "strings = c.to_string('hmsdms')\n",
    "for i in range(len(strings)): \n",
    "    time_part, declination_part = strings[i].split()\n",
    "    hours = time_part[0:2]\n",
    "    minutes = time_part[3:5]\n",
    "    degrees = declination_part[1:3]\n",
    "    sign = declination_part[0]\n",
    "    mins = declination_part[4:6]\n",
    "    convert = float(mins)/60 \n",
    "    mins = str(convert) \n",
    "    mins = mins[2:3]\n",
    "    strings[i] = f'J{hours}{minutes}{sign}{degrees}{mins}'\n",
    "selected = Table([strings, wise['name'][matches['WISE idx']], matches['IAUNAME'], wise['ra'][matches['WISE idx']], wise['dec'][matches['WISE idx']], wise['w1mpro'][matches['WISE idx']], wise['w1sigmpro'][matches['WISE idx']], wise['w2mpro'][matches['WISE idx']], wise['w2sigmpro'][matches['WISE idx']], wise['w3mpro'][matches['WISE idx']], wise['w3sigmpro'][matches['WISE idx']], wise['w1flux'][matches['WISE idx']], wise['w1sigflux'][matches['WISE idx']], matches['ML_FLUX_1'], matches['ML_FLUX_ERR_1'], matches['ML_FLUX_P4'], matches['ML_FLUX_ERR_P4'], matches['Radio flux'], matches['Radio freq'], matches['Catalog'], matches['Alpha IRX'], matches['Alpha RIR']])"
   ]
  },
  {
   "cell_type": "code",
   "execution_count": 24,
   "metadata": {},
   "outputs": [
    {
     "name": "stdout",
     "output_type": "stream",
     "text": [
      "INFO: Query finished. [astroquery.utils.tap.core]\n",
      "INFO: Query finished. [astroquery.utils.tap.core]\n",
      "INFO: Query finished. [astroquery.utils.tap.core]\n",
      "INFO: Query finished. [astroquery.utils.tap.core]\n",
      "INFO: Query finished. [astroquery.utils.tap.core]\n",
      "INFO: Query finished. [astroquery.utils.tap.core]\n",
      "INFO: Query finished. [astroquery.utils.tap.core]\n",
      "INFO: Query finished. [astroquery.utils.tap.core]\n",
      "INFO: Query finished. [astroquery.utils.tap.core]\n",
      "INFO: Query finished. [astroquery.utils.tap.core]\n",
      "INFO: Query finished. [astroquery.utils.tap.core]\n",
      "INFO: Query finished. [astroquery.utils.tap.core]\n",
      "INFO: Query finished. [astroquery.utils.tap.core]\n",
      "INFO: Query finished. [astroquery.utils.tap.core]\n",
      "INFO: Query finished. [astroquery.utils.tap.core]\n",
      "INFO: Query finished. [astroquery.utils.tap.core]\n",
      "INFO: Query finished. [astroquery.utils.tap.core]\n",
      "INFO: Query finished. [astroquery.utils.tap.core]\n",
      "INFO: Query finished. [astroquery.utils.tap.core]\n",
      "INFO: Query finished. [astroquery.utils.tap.core]\n",
      "INFO: Query finished. [astroquery.utils.tap.core]\n",
      "INFO: Query finished. [astroquery.utils.tap.core]\n",
      "INFO: Query finished. [astroquery.utils.tap.core]\n",
      "INFO: Query finished. [astroquery.utils.tap.core]\n",
      "INFO: Query finished. [astroquery.utils.tap.core]\n",
      "INFO: Query finished. [astroquery.utils.tap.core]\n",
      "INFO: Query finished. [astroquery.utils.tap.core]\n",
      "INFO: Query finished. [astroquery.utils.tap.core]\n",
      "INFO: Query finished. [astroquery.utils.tap.core]\n",
      "INFO: Query finished. [astroquery.utils.tap.core]\n",
      "INFO: Query finished. [astroquery.utils.tap.core]\n",
      "INFO: Query finished. [astroquery.utils.tap.core]\n",
      "INFO: Query finished. [astroquery.utils.tap.core]\n",
      "INFO: Query finished. [astroquery.utils.tap.core]\n",
      "INFO: Query finished. [astroquery.utils.tap.core]\n",
      "INFO: Query finished. [astroquery.utils.tap.core]\n",
      "INFO: Query finished. [astroquery.utils.tap.core]\n",
      "INFO: Query finished. [astroquery.utils.tap.core]\n",
      "INFO: Query finished. [astroquery.utils.tap.core]\n",
      "INFO: Query finished. [astroquery.utils.tap.core]\n",
      "INFO: Query finished. [astroquery.utils.tap.core]\n",
      "INFO: Query finished. [astroquery.utils.tap.core]\n",
      "INFO: Query finished. [astroquery.utils.tap.core]\n",
      "INFO: Query finished. [astroquery.utils.tap.core]\n",
      "INFO: Query finished. [astroquery.utils.tap.core]\n",
      "INFO: Query finished. [astroquery.utils.tap.core]\n",
      "INFO: Query finished. [astroquery.utils.tap.core]\n",
      "INFO: Query finished. [astroquery.utils.tap.core]\n",
      "INFO: Query finished. [astroquery.utils.tap.core]\n",
      "INFO: Query finished. [astroquery.utils.tap.core]\n",
      "INFO: Query finished. [astroquery.utils.tap.core]\n",
      "INFO: Query finished. [astroquery.utils.tap.core]\n",
      "INFO: Query finished. [astroquery.utils.tap.core]\n",
      "INFO: Query finished. [astroquery.utils.tap.core]\n",
      "INFO: Query finished. [astroquery.utils.tap.core]\n",
      "INFO: Query finished. [astroquery.utils.tap.core]\n",
      "INFO: Query finished. [astroquery.utils.tap.core]\n",
      "INFO: Query finished. [astroquery.utils.tap.core]\n",
      "INFO: Query finished. [astroquery.utils.tap.core]\n",
      "INFO: Query finished. [astroquery.utils.tap.core]\n",
      "INFO: Query finished. [astroquery.utils.tap.core]\n",
      "INFO: Query finished. [astroquery.utils.tap.core]\n",
      "INFO: Query finished. [astroquery.utils.tap.core]\n",
      "INFO: Query finished. [astroquery.utils.tap.core]\n",
      "INFO: Query finished. [astroquery.utils.tap.core]\n",
      "INFO: Query finished. [astroquery.utils.tap.core]\n",
      "INFO: Query finished. [astroquery.utils.tap.core]\n",
      "INFO: Query finished. [astroquery.utils.tap.core]\n",
      "INFO: Query finished. [astroquery.utils.tap.core]\n",
      "INFO: Query finished. [astroquery.utils.tap.core]\n",
      "INFO: Query finished. [astroquery.utils.tap.core]\n",
      "INFO: Query finished. [astroquery.utils.tap.core]\n",
      "INFO: Query finished. [astroquery.utils.tap.core]\n",
      "INFO: Query finished. [astroquery.utils.tap.core]\n",
      "INFO: Query finished. [astroquery.utils.tap.core]\n",
      "INFO: Query finished. [astroquery.utils.tap.core]\n",
      "INFO: Query finished. [astroquery.utils.tap.core]\n",
      "INFO: Query finished. [astroquery.utils.tap.core]\n",
      "INFO: Query finished. [astroquery.utils.tap.core]\n",
      "INFO: Query finished. [astroquery.utils.tap.core]\n",
      "INFO: Query finished. [astroquery.utils.tap.core]\n",
      "INFO: Query finished. [astroquery.utils.tap.core]\n",
      "INFO: Query finished. [astroquery.utils.tap.core]\n",
      "INFO: Query finished. [astroquery.utils.tap.core]\n",
      "INFO: Query finished. [astroquery.utils.tap.core]\n",
      "INFO: Query finished. [astroquery.utils.tap.core]\n",
      "INFO: Query finished. [astroquery.utils.tap.core]\n",
      "INFO: Query finished. [astroquery.utils.tap.core]\n",
      "INFO: Query finished. [astroquery.utils.tap.core]\n",
      "INFO: Query finished. [astroquery.utils.tap.core]\n",
      "INFO: Query finished. [astroquery.utils.tap.core]\n",
      "INFO: Query finished. [astroquery.utils.tap.core]\n",
      "INFO: Query finished. [astroquery.utils.tap.core]\n",
      "INFO: Query finished. [astroquery.utils.tap.core]\n",
      "INFO: Query finished. [astroquery.utils.tap.core]\n",
      "INFO: Query finished. [astroquery.utils.tap.core]\n",
      "INFO: Query finished. [astroquery.utils.tap.core]\n",
      "INFO: Query finished. [astroquery.utils.tap.core]\n",
      "INFO: Query finished. [astroquery.utils.tap.core]\n",
      "INFO: Query finished. [astroquery.utils.tap.core]\n",
      "INFO: Query finished. [astroquery.utils.tap.core]\n",
      "INFO: Query finished. [astroquery.utils.tap.core]\n",
      "INFO: Query finished. [astroquery.utils.tap.core]\n",
      "INFO: Query finished. [astroquery.utils.tap.core]\n",
      "INFO: Query finished. [astroquery.utils.tap.core]\n",
      "INFO: Query finished. [astroquery.utils.tap.core]\n",
      "INFO: Query finished. [astroquery.utils.tap.core]\n",
      "INFO: Query finished. [astroquery.utils.tap.core]\n",
      "INFO: Query finished. [astroquery.utils.tap.core]\n",
      "INFO: Query finished. [astroquery.utils.tap.core]\n",
      "INFO: Query finished. [astroquery.utils.tap.core]\n",
      "INFO: Query finished. [astroquery.utils.tap.core]\n",
      "INFO: Query finished. [astroquery.utils.tap.core]\n",
      "INFO: Query finished. [astroquery.utils.tap.core]\n",
      "INFO: Query finished. [astroquery.utils.tap.core]\n",
      "INFO: Query finished. [astroquery.utils.tap.core]\n",
      "INFO: Query finished. [astroquery.utils.tap.core]\n",
      "INFO: Query finished. [astroquery.utils.tap.core]\n",
      "INFO: Query finished. [astroquery.utils.tap.core]\n",
      "INFO: Query finished. [astroquery.utils.tap.core]\n",
      "INFO: Query finished. [astroquery.utils.tap.core]\n"
     ]
    }
   ],
   "source": [
    "from astroquery.gaia import Gaia\n",
    "r_mag = []\n",
    "for i in range(len(selected)): \n",
    "    c = SkyCoord(ra = selected['ra'][i]*u.degree, dec = selected['dec'][i]*u.degree, frame = 'icrs')\n",
    "    j = Gaia.cone_search_async(c, u.Quantity(5, u.arcsec))\n",
    "    r = j.get_results()\n",
    "    sel = np.argmin(r['dist'])\n",
    "    r_mag.append(r['phot_rp_mean_mag'][sel])\n"
   ]
  },
  {
   "cell_type": "code",
   "execution_count": 25,
   "metadata": {},
   "outputs": [],
   "source": [
    "selected['r_mag'] = r_mag\n",
    "m = [type(num) != np.float64 for num in selected['r_mag']]\n",
    "selected['r_mag'][m] = np.nan"
   ]
  },
  {
   "cell_type": "code",
   "execution_count": null,
   "metadata": {},
   "outputs": [],
   "source": [
    "#gamma-ray catalog matching; again, change the paths to match your local directory structure\n",
    "\n",
    "#2FHL (Ackerman et al. 2016)\n",
    "hdu_list = fits.open('./catalogs/gammaray/2FHL.fits')\n",
    "fhl2 = Table(hdu_list[1].data)\n",
    "c = SkyCoord(ra = selected['ra']*u.degree, dec = selected['dec']*u.degree, frame = 'fk5')\n",
    "catalog = SkyCoord(ra = fhl2['RAJ2000']*u.degree, dec = fhl2['DEJ2000']*u.degree, frame = 'fk5')\n",
    "idx, d2d, d3d = c.match_to_catalog_sky(catalog)\n",
    "mask = d2d.deg <= fhl2['Pos_err_95'][idx]\n",
    "selected['2FHL Assoc'] = Column(['']*len(selected), dtype = 'U17')\n",
    "selected['2FHL Assoc'][mask] = fhl2['Source_Name'][idx[mask]]\n",
    "#3FHL (Ajello et al. 2017)\n",
    "hdu_list = fits.open('./catalogs/gammaray/3FHL.fits')\n",
    "fhl3 = Table(hdu_list[1].data)\n",
    "catalog = SkyCoord(ra = fhl3['RAJ2000']*u.degree, dec = fhl3['DEJ2000']*u.degree, frame = 'fk5')\n",
    "idx, d2d, d3d = c.match_to_catalog_sky(catalog)\n",
    "mask = d2d.deg <= fhl3['Conf_95_SemiMajor'][idx]\n",
    "selected['3FHL Assoc'] = Column(['']*len(selected), dtype = 'U18')\n",
    "selected['3FHL Assoc'][mask] = fhl3['Source_Name'][idx[mask]]\n",
    "#4FGL_DR4 (Ballet et al. 2024)\n",
    "hdu_list = fits.open('./catalogs/gammaray/4FGL_DR4.fits')\n",
    "fgl4 = Table(hdu_list[1].data)\n",
    "catalog = SkyCoord(ra = fgl4['RAJ2000']*u.degree, dec = fgl4['DEJ2000']*u.degree, frame = 'fk5')\n",
    "idx, d2d, d3d = c.match_to_catalog_sky(catalog)\n",
    "mask = d2d.deg <= fgl4['Conf_95_SemiMajor'][idx]\n",
    "selected['4FGL Assoc'] = Column(['']*len(selected), dtype = 'U18')\n",
    "selected['4FGL Assoc'][mask] = fgl4['Source_Name'][idx[mask]]\n",
    "selected['4FGL Assoc'] = [name.replace(' ', '') for name in selected['4FGL Assoc']]\n",
    "selected['4FGL Assoc'] = [name.replace('LJ', 'L J') for name in selected['4FGL Assoc']]\n",
    "#4LAC_DR3 (Ajello et al. 2023)\n",
    "hdu_list = fits.open('./catalogs/gammaray/4LAC-DR3.fits')\n",
    "lac = Table(hdu_list[1].data)\n",
    "catalog = SkyCoord(ra = lac['RACdeg']*u.degree, dec = lac['DECdeg']*u.degree, frame = 'fk5')\n",
    "idx, d2d, d3d = c.match_to_catalog_sky(catalog)\n",
    "mask = d2d.arcsec <= 5.0\n",
    "selected['4LAC Assoc'] = Column(['']*len(selected), dtype = 'U28')\n",
    "selected['4LAC Assoc'][mask] = lac['Assoc1'][idx[mask]]\n",
    "#1CGH (Arsioli et al. 2025)\n",
    "hdu_list = fits.open('./catalogs/gammaray/1CGH_Preliminary_V2.0.fits')\n",
    "cgh = Table(hdu_list[1].data)\n",
    "catalog = SkyCoord(ra = cgh['RA_1CGH']*u.degree, dec = cgh['DEC_1CGH']*u.degree, frame = 'fk5')\n",
    "idx, d2d, d3d = c.match_to_catalog_sky(catalog)\n",
    "mask = d2d.arcsec <= 5.0\n",
    "selected['1CGH Assoc'] = Column(['']*len(selected), dtype = 'U28')\n",
    "selected['1CGH Assoc'][mask] = cgh['Counterpart_name'][idx[mask]]\n"
   ]
  },
  {
   "cell_type": "code",
   "execution_count": null,
   "metadata": {},
   "outputs": [
    {
     "name": "stderr",
     "output_type": "stream",
     "text": [
      "WARNING: VerifyWarning: Invalid keyword for column 10: ASCII table null option (TNULLn) is longer than the column's character width and will be truncated (got '255'). [astropy.io.fits.column]\n"
     ]
    }
   ],
   "source": [
    "#multi-frequency catalog matching; again, change the paths to match your local directory structure\n",
    "\n",
    "#BZCAT (Massaro et al. 2015)\n",
    "hdu_list = fits.open('./catalogs/other_blazar-hbl_cats/bzcat.fits')\n",
    "bzcat = Table(hdu_list[1].data)\n",
    "catalog = SkyCoord(ra = bzcat['RA']*u.degree, dec = bzcat['DEC']*u.degree, frame = 'fk5')\n",
    "idx, d2d, d3d = c.match_to_catalog_sky(catalog)\n",
    "mask = d2d.arcsec <= 5\n",
    "selected['BZCAT Assoc'] = Column(['']*len(selected), dtype = 'U15')\n",
    "selected['BZCAT OTYPE'] = Column(['']*len(selected), dtype = 'U24')\n",
    "for i in range(len(selected)): \n",
    "    if(mask[i]): \n",
    "        name = bzcat['NAME'][idx[i]]\n",
    "        name = name[10:]\n",
    "        selected['BZCAT Assoc'][i] = name\n",
    "        selected['BZCAT OTYPE'][i] = bzcat['OBJECT_TYPE'][idx[i]]\n",
    "        selected['BZCAT OTYPE'][i] = selected['BZCAT OTYPE'][i].replace('  ', '')\n",
    "#3HSP (Chang et al. 2019)\n",
    "hdu_list = fits.open('./catalogs/other_blazar-hbl_cats/3HSP.fits')\n",
    "hsp3 = Table(hdu_list[1].data)\n",
    "catalog = SkyCoord(ra = hsp3['RAJ2000']*u.degree, dec = hsp3['DEJ2000']*u.degree, frame = 'fk5')\n",
    "idx, d2d, d3d = c.match_to_catalog_sky(catalog)\n",
    "mask = d2d.arcsec <= 5\n",
    "selected['3HSP Assoc'] = Column(['']*len(selected), dtype = 'U20')\n",
    "selected['3HSP Assoc'][mask] = hsp3['Name'][idx[mask]]\n",
    "#1WHSP (Arsioli et al. 2015)\n",
    "hdu_list = fits.open('./catalogs/other_blazar-hbl_cats/1whsp.fits')\n",
    "whsp1 = Table(hdu_list[1].data)\n",
    "catalog = SkyCoord(ra = whsp1['_RA']*u.degree, dec = whsp1['_DE']*u.degree, frame = 'fk5')\n",
    "idx, d2d, d3d = c.match_to_catalog_sky(catalog)\n",
    "mask = d2d.arcsec <= 5\n",
    "selected['1WHSP Assoc'] = Column(['']*len(selected), dtype = 'U15')\n",
    "selected['1WHSP Assoc'][mask] = whsp1['_1WHSP'][idx[mask]]\n",
    "#2WHSP (Chang et al. 2017)\n",
    "hdu_list= fits.open('./catalogs/other_blazar-hbl_cats/whsp2.fits')\n",
    "whsp2 = Table(hdu_list[1].data)\n",
    "catalog = SkyCoord(ra = whsp2['_RA']*u.degree, dec = whsp2['_DE']*u.degree, frame = 'fk5')\n",
    "idx, d2d, d3d = c.match_to_catalog_sky(catalog)\n",
    "mask = d2d.arcsec <= 5\n",
    "selected['2WHSP Assoc'] = Column(['']*len(selected), dtype = 'U15')\n",
    "selected['2WHSP Assoc'][mask] = whsp2['_2WHSPJ'][idx[mask]]"
   ]
  },
  {
   "cell_type": "code",
   "execution_count": null,
   "metadata": {},
   "outputs": [],
   "source": [
    "#TeV-peaked candidate BL Lac objects (Costamante 2020)\n",
    "C20 = ascii.read('./catalogs/other_blazar-hbl_cats/C20.txt')\n",
    "C20 = C20[0][:]"
   ]
  },
  {
   "cell_type": "code",
   "execution_count": null,
   "metadata": {},
   "outputs": [
    {
     "name": "stderr",
     "output_type": "stream",
     "text": [
      "WARNING: VerifyWarning: Invalid keyword for column 15: ASCII table null option (TNULLn) is longer than the column's character width and will be truncated (got '-32768'). [astropy.io.fits.column]\n",
      "WARNING: VerifyWarning: Invalid keyword for column 9: ASCII table null option (TNULLn) is longer than the column's character width and will be truncated (got '-32768'). [astropy.io.fits.column]\n"
     ]
    }
   ],
   "source": [
    "selected['C20'] = Column(['N']*len(selected), dtype = 'U1')\n",
    "for i in range(len(selected)): \n",
    "    target = selected['BZCAT Assoc'][i] \n",
    "    target = target.replace(\" \", \"\")\n",
    "    if(target != \"None\"): \n",
    "        target1 = target[0:9]\n",
    "        for j in range(len(C20)): \n",
    "            c_t = C20[j]\n",
    "            c_t1 = c_t[0:9]\n",
    "            if(target1 == c_t1): \n",
    "                target2 = target[10:14]\n",
    "                c_t2 = c_t[10:14]\n",
    "                if(target2 == c_t2): \n",
    "                    selected['C20'][i] = 'Y'\n",
    "#Two new catalogs of blazar candidates in the WISE Infrared sky (D'Abrusco et al. 2019)\n",
    "#T3\n",
    "hdu_list = fits.open('./catalogs/other_blazar-hbl_cats/dabruscot3.fits')\n",
    "dabruscot3 = Table(hdu_list[1].data)\n",
    "#T5\n",
    "hdu_list = fits.open('./catalogs/other_blazar-hbl_cats/dabruscot5.fits')\n",
    "dabruscot5 = Table(hdu_list[1].data)\n",
    "selected['D19'] = Column(['N']*len(selected), dtype = 'U1')\n",
    "for i in range(len(selected)): \n",
    "    target = selected['name'][i]\n",
    "    target1 = target[0:10]\n",
    "    for j in range(len(dabruscot3)): \n",
    "        catalog = dabruscot3['WISE'][j]\n",
    "        catalog1 = catalog[0:10]\n",
    "        if(target1 == catalog1): \n",
    "           target2 = target[11:21]\n",
    "           catalog2 = catalog[11:21]\n",
    "           if(target2 == catalog2): \n",
    "               selected['D19'][i] = 'Y'\n",
    "    for k in range(len(dabruscot5)): \n",
    "        catalog = dabruscot5['WISE'][k]\n",
    "        catalog1 = catalog[0:10]\n",
    "        if(target1 == catalog1): \n",
    "            target2 = target[11:21]\n",
    "            catalog2 = catalog[11:21]\n",
    "            if(target2 == catalog2): \n",
    "                selected['D19'][i] = 'Y'"
   ]
  },
  {
   "cell_type": "code",
   "execution_count": null,
   "metadata": {},
   "outputs": [],
   "source": [
    "#Exploring the Most Extreme Gamma-Ray Blazars Using Broadband Spectral Energy Distributions (Láinez et al. 2025)\n",
    "L25 = ascii.read('./catalogs/other_blazar-hbl_cats/L25.txt')\n",
    "L25 = L25[0][:]\n"
   ]
  },
  {
   "cell_type": "code",
   "execution_count": null,
   "metadata": {},
   "outputs": [],
   "source": [
    "selected['L25'] = Column(['N']*len(selected), dtype = 'U1')\n",
    "for i in range(len(selected)): \n",
    "    target = selected['4FGL Assoc'][i] \n",
    "    target1 = target[5:12]\n",
    "    for j in range(len(L25)): \n",
    "        l_t = L25[j]\n",
    "        l_t1 = l_t[0:7]\n",
    "        if(target1 == l_t1): \n",
    "            target2 =target[13:17]\n",
    "            l_t2 = l_t[8:12]\n",
    "            if(target2 == l_t2): \n",
    "                selected['L25'][i] = 'Y'\n",
    "#A new look at the extragalactic very high energy sky: Searching for TeV-emitting candidates among the X-ray-bright, non-Fermi-detected blazar population (Marchesi et al. 2025)               \n",
    "hdu_list = fits.open('./catalogs/other_blazar-hbl_cats/Marchesi_Xray_Bl_AA_25.fits')\n",
    "marchesi = Table(hdu_list[1].data)\n",
    "selected['MAR25'] = Column(['N']*len(selected), dtype = 'U1')\n",
    "for i in range(len(selected)): \n",
    "    target = selected['BZCAT Assoc'][i]\n",
    "    if(target != \"None\"):\n",
    "        target = target.replace(\" \", \"\")\n",
    "        target1 = target[0:9]\n",
    "        for j in range(len(marchesi)): \n",
    "            catalog = marchesi['ID_5BZCAT'][j]\n",
    "            catalog1 = catalog[0:9]\n",
    "            if(target1 == catalog1): \n",
    "                target2 = target[10:14]\n",
    "                catalog2 = catalog[10:14]\n",
    "                if(target2 == catalog2): \n",
    "                    selected['MAR25'][i] = 'Y'\n",
    "#BL Lac candidates for TeV observations (Massaro et al. 2013)\n",
    "hdu_list = fits.open('./catalogs/other_blazar-hbl_cats/massaro_selection.fits')\n",
    "massaro = Table(hdu_list[1].data)\n",
    "selected['MAS13'] = Column(['N']*len(selected), dtype = 'U1')\n",
    "for i in range(len(selected)): \n",
    "    name = selected['name'][i]\n",
    "    if(name in massaro['WISE']): \n",
    "        selected['MAS13'][i] = 'Y'\n",
    "        idx = np.where(massaro['WISE'] == name)[0][0]\n"
   ]
  },
  {
   "cell_type": "code",
   "execution_count": null,
   "metadata": {},
   "outputs": [],
   "source": [
    "#formatting for paper \n",
    "fhl2 = Column([''] *len(selected), dtype = 'U1')\n",
    "m = selected['2FHL Assoc'] != ''\n",
    "fhl2[m] = 'x'\n",
    "fhl3 = Column([''] *len(selected), dtype = 'U1')\n",
    "m = selected['3FHL Assoc'] != ''\n",
    "fhl3[m] = 'x'\n",
    "fgl4 = Column([''] *len(selected), dtype = 'U1')\n",
    "m = selected['4FGL Assoc'] != ''\n",
    "fgl4[m] = 'x'\n",
    "lac = Column([''] *len(selected), dtype = 'U1')\n",
    "m = selected['4LAC Assoc'] != ''\n",
    "lac[m] = 'x'\n",
    "cgh = Column([''] *len(selected), dtype = 'U1')\n",
    "m = selected['1CGH Assoc'] != ''\n",
    "cgh[m] = 'x'\n",
    "bz = Column([''] *len(selected), dtype = 'U1')\n",
    "m = selected['BZCAT Assoc'] != ''\n",
    "bz[m] = 'x'\n",
    "hs = Column([''] *len(selected), dtype = 'U1')\n",
    "m = selected['3HSP Assoc'] != ''\n",
    "hs[m] = 'x'\n",
    "whsp2 = Column([''] *len(selected), dtype = 'U1')\n",
    "m = selected['2WHSP Assoc'] != ''\n",
    "whsp2[m] = 'x'\n",
    "c = Column([''] *len(selected), dtype = 'U1')\n",
    "m = selected['C20'] != 'N'\n",
    "c[m] = 'x'\n",
    "d = Column([''] *len(selected), dtype = 'U1')\n",
    "m = selected['D19'] != 'N'\n",
    "d[m] = 'x'\n",
    "l25 = Column([''] *len(selected), dtype = 'U1')\n",
    "m = selected['L25'] != 'N'\n",
    "l25[m] = 'x'\n",
    "mar = Column([''] *len(selected), dtype = 'U1')\n",
    "m = selected['MAR25'] != 'N'\n",
    "mar[m] = 'x'\n",
    "mas = Column([''] *len(selected), dtype = 'U1')\n",
    "m = selected['MAS13'] != 'N'\n",
    "mas[m] = 'x'"
   ]
  },
  {
   "cell_type": "code",
   "execution_count": 33,
   "metadata": {},
   "outputs": [],
   "source": [
    "selected.rename_column('col0', 'THC')\n",
    "selected.rename_column('name', \"WISEA\")\n",
    "selected.rename_column('IAUNAME', '1eRASS')\n",
    "selected['1eRASS'] = [name[7:] for name in selected['1eRASS']]\n",
    "selected.sort('ra')"
   ]
  },
  {
   "cell_type": "code",
   "execution_count": 34,
   "metadata": {},
   "outputs": [],
   "source": [
    "import math\n",
    "from decimal import Decimal, ROUND_HALF_UP, getcontext\n",
    "\n",
    "def format_sigfigs(num, sigfig):\n",
    "    if num is None or (isinstance(num, float) and math.isnan(num)):\n",
    "        return \"nan\"\n",
    "\n",
    "    # Ensure context precision is high enough\n",
    "    getcontext().prec = 10\n",
    "\n",
    "    # Convert to Decimal for consistent rounding\n",
    "    d = Decimal(str(num))\n",
    "    rounded = d.quantize(Decimal(\"0.01\"), rounding=ROUND_HALF_UP)\n",
    "\n",
    "    # Format with exactly 2 digits after the decimal point\n",
    "    return f\"{rounded:.{sigfig}f}\"\n"
   ]
  },
  {
   "cell_type": "code",
   "execution_count": 36,
   "metadata": {},
   "outputs": [
    {
     "name": "stdout",
     "output_type": "stream",
     "text": [
      "Output written to ./catalogs/latex_outputs/Table1.txt\n"
     ]
    }
   ],
   "source": [
    "output_dir = \"./catalogs/latex_outputs\"\n",
    "output_file = os.path.join(output_dir, \"Table1.txt\")\n",
    "with open(output_file, 'w') as f: \n",
    "    for i in range(len(selected)): \n",
    "        f.write(f\"{selected['THC'][i]} & {selected['WISEA'][i]} & {selected['1eRASS'][i]} & {format_sigfigs(selected['w1flux'][i]*1E3, 2)} $\\pm$ {format_sigfigs(selected['w1sigflux'][i] *1E3, 2)} & {format_sigfigs(selected['ML_FLUX_1'][i] *1E12, 2)} $\\pm$ {format_sigfigs(selected['ML_FLUX_ERR_1'][i] *1E12, 2)} & {format_sigfigs(selected['ML_FLUX_P4'][i] *1E12, 2)} $\\pm$ {format_sigfigs(selected['ML_FLUX_ERR_P4'][i] *1E12, 2)} & {format_sigfigs(selected['Radio flux'][i]*1E3, 2)}  & {format_sigfigs(selected['r_mag'][i], 2)} & {format_sigfigs(selected['Alpha RIR'][i], 2)} & {format_sigfigs(selected['Alpha IRX'][i], 2)} & {fhl2[i]} & {fhl3[i]} & {fgl4[i]} & {lac[i]} & {cgh[i]} & {bz[i]} & {hs[i]} & {whsp2[i]} & {c[i]} & {d[i]} & {l25[i]} & {mar[i]} & {mas[i]} \\\\\\\\ \\n\")\n",
    "print(f\"Output written to {output_file}\")"
   ]
  },
  {
   "cell_type": "code",
   "execution_count": null,
   "metadata": {},
   "outputs": [],
   "source": [
    "selected['ra'] = [float(format_sigfigs(num, 5)) for num in selected['ra']]\n",
    "selected['dec'] = [float(format_sigfigs(num, 5)) for num in selected['dec']]\n",
    "selected['w1mpro'] = [float(format_sigfigs(num, 3)) for num in selected['w1mpro']]\n",
    "selected['w1sigmpro'] = [float(format_sigfigs(num, 3)) for num in selected['w1sigmpro']]\n",
    "selected['w2mpro'] = [float(format_sigfigs(num, 3)) for num in selected['w2mpro']]\n",
    "selected['w2sigmpro'] = [float(format_sigfigs(num, 3)) for num in selected['w2sigmpro']]\n",
    "selected['w3mpro'] = [float(format_sigfigs(num, 3)) for num in selected['w3mpro']]\n",
    "selected['w3sigmpro'] = [float(format_sigfigs(num, 3)) for num in selected['w3sigmpro']]\n",
    "selected['w1flux'] = selected['w1flux'] *1E3 # convert to mJy\n",
    "selected['w1flux'] = [float(format_sigfigs(num, 3)) for num in selected['w1flux']]\n",
    "selected['w1sigflux'] = selected['w1sigflux'] *1E3 # convert to mJy\n",
    "selected['w1sigflux'] = [float(format_sigfigs(num, 3)) for num in selected['w1sigflux']]\n",
    "selected['ML_FLUX_1'] = [float(format_sigfigs(num, 3)) for num in selected['ML_FLUX_1']]\n",
    "selected['ML_FLUX_ERR_1'] = [float(format_sigfigs(num, 3)) for num in selected['ML_FLUX_ERR_1']]\n",
    "selected['ML_FLUX_P4'] = [float(format_sigfigs(num, 3)) for num in selected['ML_FLUX_P4']]\n",
    "selected['ML_FLUX_ERR_P4'] = [float(format_sigfigs(num, 3)) for num in selected['ML_FLUX_ERR_P4']]\n",
    "selected['Radio flux'] = selected['Radio flux'] *1E3 # convert to mJy\n",
    "selected['Radio flux'] = [float(format_sigfigs(num, 2)) for num in selected['Radio flux']]\n"
   ]
  },
  {
   "cell_type": "code",
   "execution_count": 46,
   "metadata": {},
   "outputs": [],
   "source": [
    "selected['Alpha RIR'] = [float(format_sigfigs(num, 3)) for num in selected['Alpha RIR']]\n",
    "selected['Alpha IRX'] = [float(format_sigfigs(num, 3)) for num in selected['Alpha IRX']]\n",
    "selected['r_mag'] = [float(format_sigfigs(num, 3)) for num in selected['r_mag']]\n",
    "selected['Radio freq'] = selected['Radio freq'] * 1E-9 # convert to GHz \n",
    "selected['Radio freq'] = [float(format_sigfigs(num, 3)) for num in selected['Radio freq']]"
   ]
  },
  {
   "cell_type": "code",
   "execution_count": 47,
   "metadata": {},
   "outputs": [],
   "source": [
    "selected.sort('ra')"
   ]
  },
  {
   "cell_type": "code",
   "execution_count": 49,
   "metadata": {},
   "outputs": [
    {
     "name": "stdout",
     "output_type": "stream",
     "text": [
      "Catalog saved as THC_catalog.xlsx\n"
     ]
    }
   ],
   "source": [
    "df = selected.to_pandas()\n",
    "df.to_excel('./catalogs/THC_catalog.xlsx', index = False)\n",
    "print('Catalog saved as THC_catalog.xlsx')"
   ]
  },
  {
   "cell_type": "code",
   "execution_count": 51,
   "metadata": {},
   "outputs": [
    {
     "name": "stdout",
     "output_type": "stream",
     "text": [
      "Catalog saved as THC_catalog.fits\n"
     ]
    }
   ],
   "source": [
    "tbl = QTable(selected)\n",
    "tbl['ra'] = tbl['ra']*u.degree\n",
    "tbl['dec'] = tbl['dec']*u.degree\n",
    "tbl['w1mpro'] = tbl['w1mpro']*u.mag \n",
    "tbl['w1sigmpro'] = tbl['w1sigmpro']*u.mag\n",
    "tbl['w2mpro'] = tbl['w2mpro']*u.mag\n",
    "tbl['w2sigmpro'] = tbl['w2sigmpro']*u.mag\n",
    "tbl['w3mpro'] = tbl['w3mpro']*u.mag\n",
    "tbl['w3sigmpro'] = tbl['w3sigmpro']*u.mag\n",
    "tbl['w1flux'] = tbl['w1flux']*u.mJy\n",
    "tbl['w1sigflux'] = tbl['w1sigflux']*u.mJy\n",
    "tbl['ML_FLUX_1'] = tbl['ML_FLUX_1']*u.erg/(u.cm**2*u.s)\n",
    "tbl['ML_FLUX_ERR_1'] = tbl['ML_FLUX_ERR_1']*u.erg/(u.cm**2*u.s)\n",
    "tbl['ML_FLUX_P4'] = tbl['ML_FLUX_P4']*u.erg/(u.cm**2*u.s)\n",
    "tbl['ML_FLUX_ERR_P4'] = tbl['ML_FLUX_ERR_P4']*u.erg/(u.cm**2*u.s)\n",
    "tbl['Radio flux'] = tbl['Radio flux']*u.mJy\n",
    "tbl['Radio freq'] = tbl['Radio freq']*u.GHz\n",
    "tbl['Alpha IRX'] = tbl['Alpha IRX']\n",
    "tbl['Alpha RIR'] = tbl['Alpha RIR']\n",
    "tbl['r_mag'] = tbl['r_mag']*u.mag\n",
    "table_hdu = fits.BinTableHDU(tbl) \n",
    "header = table_hdu.header\n",
    "header['EXTNAME'] = 'SOURCE_CATALOG'\n",
    "header['AUTHOR'] = 'Cassie Metzger' \n",
    "header['DATE'] = '2025-04-03' \n",
    "header['WAVELENG'] = 'Multi'\n",
    "header['DATASRC'] = 'eROSITA + WISE + Assorted radio catalogs'\n",
    "header['DOI'] = '10.48550/arXiv.2501.12520' \n",
    "header['WAVELENG'] = 'Multi'\n",
    "header['SELPRO'] = 'Sources have WISE magnitudes less than 14.3, 13.8, and 12.2 in the 3.4um, 4.6um, and 12um bands, respectively, fall within 5'' of an eRASS1 source, fall within 0.21 of the best fit line y = 0.84x -1.05, have alpha_IRX >= -1, are not extended in the X-ray wavelength, are not extragalactic, have a radio counterpart with 5'', and have alpha_RIR >= -0.43'\n",
    "tbl.write('./catalogs/THC_catalog.fits', format = 'fits', overwrite = True)\n",
    "print('Catalog saved as THC_catalog.fits')"
   ]
  },
  {
   "cell_type": "code",
   "execution_count": null,
   "metadata": {},
   "outputs": [],
   "source": []
  }
 ],
 "metadata": {
  "kernelspec": {
   "display_name": "base",
   "language": "python",
   "name": "python3"
  },
  "language_info": {
   "codemirror_mode": {
    "name": "ipython",
    "version": 3
   },
   "file_extension": ".py",
   "mimetype": "text/x-python",
   "name": "python",
   "nbconvert_exporter": "python",
   "pygments_lexer": "ipython3",
   "version": "3.9.13"
  }
 },
 "nbformat": 4,
 "nbformat_minor": 2
}
